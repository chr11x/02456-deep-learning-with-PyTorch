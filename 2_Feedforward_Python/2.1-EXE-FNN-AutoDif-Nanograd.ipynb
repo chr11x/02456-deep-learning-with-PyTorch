{
 "cells": [
  {
   "cell_type": "markdown",
   "metadata": {
    "id": "HAva8TnYFtFu"
   },
   "source": [
    "# Contents and why we need this lab\n",
    "\n",
    "This lab is about implementing neural networks yourself before we start using other frameworks that hide some of the computation from you. It builds on the first lab, where you derived the equations for neural network forward and backward propagation and gradient descent parameter updates. \n",
    "\n",
    "All the frameworks for deep learning you will meet from now on use automatic differentiation (autodiff), so you do not have to code the backward step yourself. In this version of this lab, you will develop your own autodif implementation. We also have an optional [version](https://github.com/DeepLearningDTU/02456-deep-learning-with-PyTorch/blob/master/2_Feedforward_Python/2.2-FNN-NumPy.ipynb) of this lab where you have to code the backward pass explicitly in Numpy."
   ]
  },
  {
   "cell_type": "markdown",
   "metadata": {
    "id": "sCa7HzwpFtFy"
   },
   "source": [
    "# External sources of information\n",
    "\n",
    "1. Jupyter notebook. You can find more information about Jupyter notebooks [here](https://jupyter.org/). It will come as part of the [Anaconda](https://www.anaconda.com/) Python installation. \n",
    "2. [NumPy](https://numpy.org/). Part of Anaconda distribution.  If you already know how to program, most things about Python and NumPy can be found with Google searches.\n",
    "3. [Nanograd](https://github.com/rasmusbergpalm/nanograd) is a minimalistic version of autodiff developed by Rasmus Berg Palm that we use for our framework.\n"
   ]
  },
  {
   "cell_type": "markdown",
   "metadata": {
    "id": "1SjiIp-TFtF0"
   },
   "source": [
    "# This notebook will follow the next steps:\n",
    "\n",
    "1. Nanograd automatic differentiation framework\n",
    "2. Finite difference method\n",
    "3. Data generation\n",
    "4. Defining and initializing the network\n",
    "5. Forward pass\n",
    "6. Training loop \n",
    "7. Testing your model\n",
    "8. Further extensions"
   ]
  },
  {
   "cell_type": "markdown",
   "metadata": {
    "id": "OyXeAA-HuT7s"
   },
   "source": [
    "# Nanograd automatic differention framework"
   ]
  },
  {
   "cell_type": "markdown",
   "metadata": {
    "id": "k6UWKCLKubgA"
   },
   "source": [
    "The [Nanograd](https://github.com/rasmusbergpalm/nanograd) framework defines a class Var which both holds a value and gradient value that we can use to store the intermediate values when we apply the chain rule of differentiation."
   ]
  },
  {
   "cell_type": "code",
   "execution_count": 1,
   "metadata": {
    "id": "Jd4CoEBNzNWS"
   },
   "outputs": [],
   "source": [
    "# Copy and pasted from https://github.com/rasmusbergpalm/nanograd/blob/3a1bf9e9e724da813bfccf91a6f309abdade9f39/nanograd.py\n",
    "\n",
    "from math import exp, log, tanh\n",
    "\n",
    "class Var:\n",
    "    \"\"\"\n",
    "    A variable which holds a float and enables gradient computations.\n",
    "    \"\"\"\n",
    "\n",
    "    def __init__(self, val: float, grad_fn=lambda: []):\n",
    "        assert type(val) == float\n",
    "        self.v = val\n",
    "        self.grad_fn = grad_fn\n",
    "        self.grad = 0.0\n",
    "\n",
    "    def backprop(self, bp):\n",
    "        self.grad += bp\n",
    "        for input, grad in self.grad_fn():\n",
    "            input.backprop(grad * bp)\n",
    "\n",
    "    def backward(self):\n",
    "        self.backprop(1.0)\n",
    "\n",
    "    def __add__(self: 'Var', other: 'Var') -> 'Var':\n",
    "        return Var(self.v + other.v, lambda: [(self, 1.0), (other, 1.0)])\n",
    "\n",
    "    def __mul__(self: 'Var', other: 'Var') -> 'Var':\n",
    "        return Var(self.v * other.v, lambda: [(self, other.v), (other, self.v)])\n",
    "\n",
    "    def __pow__(self, power):\n",
    "        assert type(power) in {float, int}, \"power must be float or int\"\n",
    "        return Var(self.v ** power, lambda: [(self, power * self.v ** (power - 1))])\n",
    "\n",
    "    def __neg__(self: 'Var') -> 'Var':\n",
    "        return Var(-1.0) * self\n",
    "\n",
    "    def __sub__(self: 'Var', other: 'Var') -> 'Var':\n",
    "        return self + (-other)\n",
    "\n",
    "    def __truediv__(self: 'Var', other: 'Var') -> 'Var':\n",
    "        return self * other ** -1\n",
    "\n",
    "    def __repr__(self):\n",
    "        return \"Var(v=%.4f, grad=%.4f)\" % (self.v, self.grad)\n",
    "\n",
    "    def relu(self):\n",
    "        return Var(self.v if self.v > 0.0 else 0.0, lambda: [(self, 1.0 if self.v > 0.0 else 0.0)])\n",
    "\n",
    "    def identity(self):\n",
    "        return self\n",
    "    \n",
    "    def tanh(self):\n",
    "        return Var(tanh(self.v), lambda: [(tanh(self.v))])\n",
    "\n",
    "    def sigmoid(self):\n",
    "        return Var(1 / (1 + exp(-self.v)), lambda: [1 / (1 + exp(-self.v))])\n",
    "\n",
    "    def exp(self):\n",
    "        return Var(exp(self.v), lambda: [(self, exp(self.v))])\n",
    "    \n",
    "    def log(self):\n",
    "        return Var(log(self.v), lambda: [(self, self.v ** -1)])"
   ]
  },
  {
   "cell_type": "markdown",
   "metadata": {
    "id": "yDX67D6jzcte"
   },
   "source": [
    "A few examples illustrate how we can use this:"
   ]
  },
  {
   "cell_type": "code",
   "execution_count": 2,
   "metadata": {
    "colab": {
     "base_uri": "https://localhost:8080/"
    },
    "id": "xk6PeLc3zwPT",
    "outputId": "47e431b2-07ba-4cb1-ea21-997769641c67"
   },
   "outputs": [
    {
     "name": "stdout",
     "output_type": "stream",
     "text": [
      "Var(v=3.0000, grad=5.0000)\n",
      "Var(v=5.0000, grad=3.0000)\n",
      "Var(v=15.0000, grad=1.0000)\n"
     ]
    }
   ],
   "source": [
    "a = Var(3.0)\n",
    "b = Var(5.0)\n",
    "f = a * b\n",
    "\n",
    "f.backward()\n",
    "\n",
    "for v in [a, b, f]:\n",
    "    print(v)"
   ]
  },
  {
   "cell_type": "code",
   "execution_count": 3,
   "metadata": {
    "colab": {
     "base_uri": "https://localhost:8080/"
    },
    "id": "JmKhYgsY0g_o",
    "outputId": "06c1b1df-c33c-40d3-922a-624612a591c7"
   },
   "outputs": [
    {
     "name": "stdout",
     "output_type": "stream",
     "text": [
      "Var(v=3.0000, grad=14.0000)\n",
      "Var(v=5.0000, grad=3.0000)\n",
      "Var(v=15.0000, grad=1.0000)\n",
      "Var(v=9.0000, grad=3.0000)\n",
      "Var(v=27.0000, grad=1.0000)\n",
      "Var(v=42.0000, grad=1.0000)\n"
     ]
    }
   ],
   "source": [
    "a = Var(3.0)\n",
    "b = Var(5.0)\n",
    "c = a * b\n",
    "d = Var(9.0)\n",
    "e = a * d\n",
    "f = c + e\n",
    "\n",
    "f.backward()\n",
    "\n",
    "for v in [a, b, c, d, e, f]:\n",
    "    print(v)"
   ]
  },
  {
   "cell_type": "markdown",
   "metadata": {
    "id": "Fe3B6uEH140p"
   },
   "source": [
    "## Exercise a) What is being calculated?\n",
    "\n",
    "Explain briefly the output of the code? What is the expression we differentiate and with respect to what variables?"
   ]
  },
  {
   "cell_type": "markdown",
   "metadata": {},
   "source": [
    "### Answer \n",
    "\n",
    "The first code block is calculating the gradient of $f$ with respect to $a$ and $b$:\n",
    "\n",
    "$$\n",
    "\\begin{aligned}\n",
    "\\frac{\\partial f}{ \\partial a} = \\frac{\\partial a \\times b}{\\partial a} = b = 5 \\\\\n",
    "\\frac{\\partial f}{ \\partial b} = \\frac{\\partial a \\times b}{\\partial b} = a = 3 \\\\\n",
    "\\end{aligned}\n",
    "$$\n",
    "\n",
    "The second code block is calculating the gradient of two layers:\n",
    "\n",
    "$$\n",
    "\\begin{aligned}\n",
    "f &= c + e = a \\times b + a \\times d \\\\\n",
    "\n",
    "\\frac{\\partial f}{ \\partial a} &= \n",
    "\\frac{\\partial f }{\\partial c} \\frac{\\partial c }{\\partial a} \n",
    "+ \\frac{\\partial f }{\\partial e} \\frac{\\partial e }{\\partial a} \n",
    "= 1 \\times 5 + 1 \\times 9 = 14\\\\\n",
    "\n",
    "\\frac{\\partial f}{ \\partial b}  &= \n",
    "\\frac{\\partial f }{\\partial c} \\frac{\\partial c }{\\partial b} \n",
    "+ \\frac{\\partial f }{\\partial e} \\frac{\\partial e }{\\partial b} \n",
    "= 1 \\times 3 + 1 \\times 0 = 3\\\\\n",
    "\n",
    "\\frac{\\partial f}{ \\partial d}  &= \n",
    "\\frac{\\partial f }{\\partial c} \\frac{\\partial c }{\\partial d} \n",
    "+ \\frac{\\partial f }{\\partial e} \\frac{\\partial e }{\\partial d} \n",
    "= 1 \\times 0 + 1 \\times 3 = 3\\\\\n",
    "\\end{aligned}\n",
    "$$"
   ]
  },
  {
   "cell_type": "markdown",
   "metadata": {
    "id": "q8_Q0t2I3Ruj"
   },
   "source": [
    "## Exercise b) How does the backward function work?\n",
    "\n",
    "You need to understand how the backward function calculates the gradients. We can use the two examples above to help with that.\n",
    "\n",
    "Go through the following four steps and answer the questions on the way:\n",
    "\n",
    "1. We represent the two expressions as graphs as shown below. Fill in the missing expressions for the different derivatives.\n",
    "\n",
    "2. In the remainder consider the first expression. Make a schematic of the data structure which is generated when we define the expression for f. \n",
    "\n",
    "3. Then execute the backward function by hand to convince yourself that it indeed calculates the gradients with respect to the variables. \n",
    "\n",
    "4. Write down the sequence of calls to backprop."
   ]
  },
  {
   "cell_type": "code",
   "execution_count": 4,
   "metadata": {
    "id": "idGr71jYXl26"
   },
   "outputs": [],
   "source": [
    "# import logging\n",
    "import graphviz\n",
    "\n",
    "#logging.basicConfig(format='[%(levelname)s@%(name)s] %(message)s', level=logging.DEBUG)\n",
    "\n",
    "#graphviz.__version__, graphviz.version()"
   ]
  },
  {
   "cell_type": "code",
   "execution_count": 5,
   "metadata": {
    "colab": {
     "base_uri": "https://localhost:8080/",
     "height": 152
    },
    "id": "KPe30Q2QXzeG",
    "outputId": "7fa002cd-a018-4dbb-ddf1-28ed5e99ee19"
   },
   "outputs": [
    {
     "data": {
      "image/svg+xml": [
       "<?xml version=\"1.0\" encoding=\"UTF-8\" standalone=\"no\"?>\n",
       "<!DOCTYPE svg PUBLIC \"-//W3C//DTD SVG 1.1//EN\"\n",
       " \"http://www.w3.org/Graphics/SVG/1.1/DTD/svg11.dtd\">\n",
       "<!-- Generated by graphviz version 8.1.0 (20230707.0739)\n",
       " -->\n",
       "<!-- Title: first expression Pages: 1 -->\n",
       "<svg width=\"159pt\" height=\"98pt\"\n",
       " viewBox=\"0.00 0.00 158.75 98.00\" xmlns=\"http://www.w3.org/2000/svg\" xmlns:xlink=\"http://www.w3.org/1999/xlink\">\n",
       "<g id=\"graph0\" class=\"graph\" transform=\"scale(1 1) rotate(0) translate(4 94)\">\n",
       "<title>first expression</title>\n",
       "<polygon fill=\"white\" stroke=\"none\" points=\"-4,4 -4,-94 154.75,-94 154.75,4 -4,4\"/>\n",
       "<!-- a -->\n",
       "<g id=\"node1\" class=\"node\">\n",
       "<title>a</title>\n",
       "<ellipse fill=\"none\" stroke=\"black\" cx=\"18\" cy=\"-72\" rx=\"18\" ry=\"18\"/>\n",
       "<text text-anchor=\"middle\" x=\"18\" y=\"-66.95\" font-family=\"Times,serif\" font-size=\"14.00\">a</text>\n",
       "</g>\n",
       "<!-- f -->\n",
       "<g id=\"node2\" class=\"node\">\n",
       "<title>f</title>\n",
       "<ellipse fill=\"none\" stroke=\"black\" cx=\"132.75\" cy=\"-45\" rx=\"18\" ry=\"18\"/>\n",
       "<text text-anchor=\"middle\" x=\"132.75\" y=\"-39.95\" font-family=\"Times,serif\" font-size=\"14.00\">f</text>\n",
       "</g>\n",
       "<!-- a&#45;&gt;f -->\n",
       "<g id=\"edge1\" class=\"edge\">\n",
       "<title>a&#45;&gt;f</title>\n",
       "<path fill=\"none\" stroke=\"black\" d=\"M35.64,-68.02C53.79,-63.67 83.13,-56.64 104.62,-51.5\"/>\n",
       "<polygon fill=\"black\" stroke=\"black\" points=\"105.14,-54.73 114.05,-49 103.5,-47.93 105.14,-54.73\"/>\n",
       "<text text-anchor=\"middle\" x=\"75.38\" y=\"-66.2\" font-family=\"Times,serif\" font-size=\"14.00\">df/da=b</text>\n",
       "</g>\n",
       "<!-- b -->\n",
       "<g id=\"node3\" class=\"node\">\n",
       "<title>b</title>\n",
       "<ellipse fill=\"none\" stroke=\"black\" cx=\"18\" cy=\"-18\" rx=\"18\" ry=\"18\"/>\n",
       "<text text-anchor=\"middle\" x=\"18\" y=\"-12.95\" font-family=\"Times,serif\" font-size=\"14.00\">b</text>\n",
       "</g>\n",
       "<!-- b&#45;&gt;f -->\n",
       "<g id=\"edge2\" class=\"edge\">\n",
       "<title>b&#45;&gt;f</title>\n",
       "<path fill=\"none\" stroke=\"black\" d=\"M36.12,-20.8C51.97,-23.54 76.12,-28.07 96.75,-33.5 99.46,-34.21 102.26,-35.02 105.05,-35.86\"/>\n",
       "<polygon fill=\"black\" stroke=\"black\" points=\"103.9,-39.49 114.49,-39.21 106.03,-32.82 103.9,-39.49\"/>\n",
       "<text text-anchor=\"middle\" x=\"75.38\" y=\"-37.2\" font-family=\"Times,serif\" font-size=\"14.00\">df/db=a</text>\n",
       "</g>\n",
       "</g>\n",
       "</svg>\n"
      ],
      "text/plain": [
       "<graphviz.graphs.Digraph at 0x103f2dc70>"
      ]
     },
     "execution_count": 5,
     "metadata": {},
     "output_type": "execute_result"
    }
   ],
   "source": [
    "e1 = graphviz.Digraph('first expression', filename='fsm.gv')\n",
    "\n",
    "e1.attr(rankdir='LR', size='8,5')\n",
    "\n",
    "e1.attr('node', shape='circle')\n",
    "e1.edge('a', 'f', label='df/da=b')\n",
    "e1.edge('b', 'f', label='df/db=a')\n",
    "\n",
    "e1"
   ]
  },
  {
   "cell_type": "code",
   "execution_count": 6,
   "metadata": {
    "colab": {
     "base_uri": "https://localhost:8080/",
     "height": 232
    },
    "id": "0nittR-mZFeX",
    "outputId": "fa3656a3-732c-4abe-8084-98a492b0d6be"
   },
   "outputs": [
    {
     "data": {
      "image/svg+xml": [
       "<?xml version=\"1.0\" encoding=\"UTF-8\" standalone=\"no\"?>\n",
       "<!DOCTYPE svg PUBLIC \"-//W3C//DTD SVG 1.1//EN\"\n",
       " \"http://www.w3.org/Graphics/SVG/1.1/DTD/svg11.dtd\">\n",
       "<!-- Generated by graphviz version 8.1.0 (20230707.0739)\n",
       " -->\n",
       "<!-- Title: second expression Pages: 1 -->\n",
       "<svg width=\"275pt\" height=\"164pt\"\n",
       " viewBox=\"0.00 0.00 275.00 164.00\" xmlns=\"http://www.w3.org/2000/svg\" xmlns:xlink=\"http://www.w3.org/1999/xlink\">\n",
       "<g id=\"graph0\" class=\"graph\" transform=\"scale(1 1) rotate(0) translate(4 160)\">\n",
       "<title>second expression</title>\n",
       "<polygon fill=\"white\" stroke=\"none\" points=\"-4,4 -4,-160 271,-160 271,4 -4,4\"/>\n",
       "<!-- a -->\n",
       "<g id=\"node1\" class=\"node\">\n",
       "<title>a</title>\n",
       "<ellipse fill=\"none\" stroke=\"black\" cx=\"18\" cy=\"-78\" rx=\"18\" ry=\"18\"/>\n",
       "<text text-anchor=\"middle\" x=\"18\" y=\"-72.95\" font-family=\"Times,serif\" font-size=\"14.00\">a</text>\n",
       "</g>\n",
       "<!-- c -->\n",
       "<g id=\"node2\" class=\"node\">\n",
       "<title>c</title>\n",
       "<ellipse fill=\"none\" stroke=\"black\" cx=\"134.25\" cy=\"-105\" rx=\"18\" ry=\"18\"/>\n",
       "<text text-anchor=\"middle\" x=\"134.25\" y=\"-99.95\" font-family=\"Times,serif\" font-size=\"14.00\">c</text>\n",
       "</g>\n",
       "<!-- a&#45;&gt;c -->\n",
       "<g id=\"edge1\" class=\"edge\">\n",
       "<title>a&#45;&gt;c</title>\n",
       "<path fill=\"none\" stroke=\"black\" d=\"M35.86,-81.98C54.25,-86.33 83.98,-93.36 105.76,-98.5\"/>\n",
       "<polygon fill=\"black\" stroke=\"black\" points=\"104.79,-102.11 115.32,-101 106.4,-95.29 104.79,-102.11\"/>\n",
       "<text text-anchor=\"middle\" x=\"76.12\" y=\"-99.2\" font-family=\"Times,serif\" font-size=\"14.00\">dc/da=b</text>\n",
       "</g>\n",
       "<!-- e -->\n",
       "<g id=\"node4\" class=\"node\">\n",
       "<title>e</title>\n",
       "<ellipse fill=\"none\" stroke=\"black\" cx=\"134.25\" cy=\"-51\" rx=\"18\" ry=\"18\"/>\n",
       "<text text-anchor=\"middle\" x=\"134.25\" y=\"-45.95\" font-family=\"Times,serif\" font-size=\"14.00\">e</text>\n",
       "</g>\n",
       "<!-- a&#45;&gt;e -->\n",
       "<g id=\"edge3\" class=\"edge\">\n",
       "<title>a&#45;&gt;e</title>\n",
       "<path fill=\"none\" stroke=\"black\" d=\"M35.21,-71.59C41.06,-69.44 47.77,-67.17 54,-65.5 70.79,-61 89.97,-57.45 105.25,-54.99\"/>\n",
       "<polygon fill=\"black\" stroke=\"black\" points=\"105.72,-58.3 115.07,-53.32 104.65,-51.38 105.72,-58.3\"/>\n",
       "<text text-anchor=\"middle\" x=\"76.12\" y=\"-69.2\" font-family=\"Times,serif\" font-size=\"14.00\">de/da=d</text>\n",
       "</g>\n",
       "<!-- f -->\n",
       "<g id=\"node6\" class=\"node\">\n",
       "<title>f</title>\n",
       "<ellipse fill=\"none\" stroke=\"black\" cx=\"249\" cy=\"-78\" rx=\"18\" ry=\"18\"/>\n",
       "<text text-anchor=\"middle\" x=\"249\" y=\"-72.95\" font-family=\"Times,serif\" font-size=\"14.00\">f</text>\n",
       "</g>\n",
       "<!-- c&#45;&gt;f -->\n",
       "<g id=\"edge5\" class=\"edge\">\n",
       "<title>c&#45;&gt;f</title>\n",
       "<path fill=\"none\" stroke=\"black\" d=\"M151.89,-101.02C170.04,-96.67 199.38,-89.64 220.87,-84.5\"/>\n",
       "<polygon fill=\"black\" stroke=\"black\" points=\"221.39,-87.73 230.3,-82 219.75,-80.93 221.39,-87.73\"/>\n",
       "<text text-anchor=\"middle\" x=\"191.62\" y=\"-99.2\" font-family=\"Times,serif\" font-size=\"14.00\">df/dc=1</text>\n",
       "</g>\n",
       "<!-- b -->\n",
       "<g id=\"node3\" class=\"node\">\n",
       "<title>b</title>\n",
       "<ellipse fill=\"none\" stroke=\"black\" cx=\"18\" cy=\"-138\" rx=\"18\" ry=\"18\"/>\n",
       "<text text-anchor=\"middle\" x=\"18\" y=\"-132.95\" font-family=\"Times,serif\" font-size=\"14.00\">b</text>\n",
       "</g>\n",
       "<!-- b&#45;&gt;c -->\n",
       "<g id=\"edge2\" class=\"edge\">\n",
       "<title>b&#45;&gt;c</title>\n",
       "<path fill=\"none\" stroke=\"black\" d=\"M35.74,-133.53C51.82,-129.19 76.75,-122.36 98.25,-116 100.87,-115.23 103.59,-114.4 106.31,-113.57\"/>\n",
       "<polygon fill=\"black\" stroke=\"black\" points=\"107.05,-116.69 115.55,-110.37 104.96,-110.01 107.05,-116.69\"/>\n",
       "<text text-anchor=\"middle\" x=\"76.12\" y=\"-131.2\" font-family=\"Times,serif\" font-size=\"14.00\">dc/db=a</text>\n",
       "</g>\n",
       "<!-- e&#45;&gt;f -->\n",
       "<g id=\"edge6\" class=\"edge\">\n",
       "<title>e&#45;&gt;f</title>\n",
       "<path fill=\"none\" stroke=\"black\" d=\"M152.41,-53.4C168.28,-55.81 192.45,-59.95 213,-65.5 215.82,-66.26 218.74,-67.15 221.64,-68.08\"/>\n",
       "<polygon fill=\"black\" stroke=\"black\" points=\"220.19,-71.64 230.79,-71.61 222.49,-65.02 220.19,-71.64\"/>\n",
       "<text text-anchor=\"middle\" x=\"191.62\" y=\"-69.2\" font-family=\"Times,serif\" font-size=\"14.00\">df/de=1</text>\n",
       "</g>\n",
       "<!-- d -->\n",
       "<g id=\"node5\" class=\"node\">\n",
       "<title>d</title>\n",
       "<ellipse fill=\"none\" stroke=\"black\" cx=\"18\" cy=\"-18\" rx=\"18\" ry=\"18\"/>\n",
       "<text text-anchor=\"middle\" x=\"18\" y=\"-12.95\" font-family=\"Times,serif\" font-size=\"14.00\">d</text>\n",
       "</g>\n",
       "<!-- d&#45;&gt;e -->\n",
       "<g id=\"edge4\" class=\"edge\">\n",
       "<title>d&#45;&gt;e</title>\n",
       "<path fill=\"none\" stroke=\"black\" d=\"M36.23,-21.18C52.43,-24.36 77.27,-29.75 98.25,-36.5 101.24,-37.46 104.34,-38.57 107.4,-39.74\"/>\n",
       "<polygon fill=\"black\" stroke=\"black\" points=\"105.84,-43.29 116.43,-43.8 108.47,-36.8 105.84,-43.29\"/>\n",
       "<text text-anchor=\"middle\" x=\"76.12\" y=\"-40.2\" font-family=\"Times,serif\" font-size=\"14.00\">de/dd=a</text>\n",
       "</g>\n",
       "</g>\n",
       "</svg>\n"
      ],
      "text/plain": [
       "<graphviz.graphs.Digraph at 0x103f49580>"
      ]
     },
     "execution_count": 6,
     "metadata": {},
     "output_type": "execute_result"
    }
   ],
   "source": [
    "e2 = graphviz.Digraph('second expression', filename='fsm.gv')\n",
    "\n",
    "e2.attr(rankdir='LR', size='8,5')\n",
    "\n",
    "e2.attr('node', shape='circle')\n",
    "e2.edge('a', 'c', label='dc/da=b')\n",
    "e2.edge('b', 'c', label='dc/db=a')\n",
    "e2.edge('a', 'e', label='de/da=d')\n",
    "e2.edge('d', 'e', label='de/dd=a')\n",
    "e2.edge('c', 'f', label='df/dc=1')\n",
    "e2.edge('e', 'f', label='df/de=1')\n",
    "\n",
    "e2"
   ]
  },
  {
   "cell_type": "markdown",
   "metadata": {},
   "source": [
    "### Answer \n"
   ]
  },
  {
   "cell_type": "markdown",
   "metadata": {},
   "source": [
    "#### 1. Fill in the missing expressions\n",
    "\n",
    "Updated in the diagrams"
   ]
  },
  {
   "cell_type": "markdown",
   "metadata": {},
   "source": [
    "#### 2. Schematic of the data structure of the expression for f. "
   ]
  },
  {
   "cell_type": "code",
   "execution_count": 7,
   "metadata": {},
   "outputs": [
    {
     "data": {
      "image/svg+xml": [
       "<?xml version=\"1.0\" encoding=\"UTF-8\" standalone=\"no\"?>\n",
       "<!DOCTYPE svg PUBLIC \"-//W3C//DTD SVG 1.1//EN\"\n",
       " \"http://www.w3.org/Graphics/SVG/1.1/DTD/svg11.dtd\">\n",
       "<!-- Generated by graphviz version 8.1.0 (20230707.0739)\n",
       " -->\n",
       "<!-- Title: first expression Pages: 1 -->\n",
       "<svg width=\"116pt\" height=\"98pt\"\n",
       " viewBox=\"0.00 0.00 116.00 98.00\" xmlns=\"http://www.w3.org/2000/svg\" xmlns:xlink=\"http://www.w3.org/1999/xlink\">\n",
       "<g id=\"graph0\" class=\"graph\" transform=\"scale(1 1) rotate(0) translate(4 94)\">\n",
       "<title>first expression</title>\n",
       "<polygon fill=\"white\" stroke=\"none\" points=\"-4,4 -4,-94 112,-94 112,4 -4,4\"/>\n",
       "<!-- a -->\n",
       "<g id=\"node1\" class=\"node\">\n",
       "<title>a</title>\n",
       "<ellipse fill=\"none\" stroke=\"black\" cx=\"18\" cy=\"-72\" rx=\"18\" ry=\"18\"/>\n",
       "<text text-anchor=\"middle\" x=\"18\" y=\"-66.95\" font-family=\"Times,serif\" font-size=\"14.00\">a</text>\n",
       "</g>\n",
       "<!-- f -->\n",
       "<g id=\"node2\" class=\"node\">\n",
       "<title>f</title>\n",
       "<ellipse fill=\"none\" stroke=\"black\" cx=\"90\" cy=\"-45\" rx=\"18\" ry=\"18\"/>\n",
       "<text text-anchor=\"middle\" x=\"90\" y=\"-39.95\" font-family=\"Times,serif\" font-size=\"14.00\">f</text>\n",
       "<text text-anchor=\"middle\" x=\"84.38\" y=\"-13.7\" font-family=\"Times,serif\" font-size=\"14.00\">f = a * b</text>\n",
       "</g>\n",
       "<!-- a&#45;&gt;f -->\n",
       "<g id=\"edge1\" class=\"edge\">\n",
       "<title>a&#45;&gt;f</title>\n",
       "<path fill=\"none\" stroke=\"black\" d=\"M35.24,-65.74C43.36,-62.6 53.41,-58.73 62.61,-55.18\"/>\n",
       "<polygon fill=\"black\" stroke=\"black\" points=\"63.78,-58.09 71.85,-51.23 61.26,-51.56 63.78,-58.09\"/>\n",
       "</g>\n",
       "<!-- b -->\n",
       "<g id=\"node3\" class=\"node\">\n",
       "<title>b</title>\n",
       "<ellipse fill=\"none\" stroke=\"black\" cx=\"18\" cy=\"-18\" rx=\"18\" ry=\"18\"/>\n",
       "<text text-anchor=\"middle\" x=\"18\" y=\"-12.95\" font-family=\"Times,serif\" font-size=\"14.00\">b</text>\n",
       "</g>\n",
       "<!-- b&#45;&gt;f -->\n",
       "<g id=\"edge2\" class=\"edge\">\n",
       "<title>b&#45;&gt;f</title>\n",
       "<path fill=\"none\" stroke=\"black\" d=\"M35.24,-24.26C43.36,-27.4 53.41,-31.27 62.61,-34.82\"/>\n",
       "<polygon fill=\"black\" stroke=\"black\" points=\"61.26,-38.44 71.85,-38.77 63.78,-31.91 61.26,-38.44\"/>\n",
       "</g>\n",
       "</g>\n",
       "</svg>\n"
      ],
      "text/plain": [
       "<graphviz.graphs.Digraph at 0x103c79850>"
      ]
     },
     "execution_count": 7,
     "metadata": {},
     "output_type": "execute_result"
    }
   ],
   "source": [
    "e3 = graphviz.Digraph('first expression', filename='fsm.gv')\n",
    "\n",
    "e3.attr(rankdir='LR', size='8,5')\n",
    "\n",
    "e3.attr('node', shape='circle')\n",
    "e3.edge('a', 'f')\n",
    "e3.edge('b', 'f')\n",
    "e3.node(name='f', xlabel='f = a * b')\n",
    "\n",
    "e3"
   ]
  },
  {
   "cell_type": "markdown",
   "metadata": {},
   "source": [
    "#### 4. sequence of calls to backprop\n",
    "\n",
    "For 1st expression:\n",
    "\n",
    "```\n",
    "f.backprop()\n",
    "    a.backprop()\n",
    "    b.backprop()\n",
    "```"
   ]
  },
  {
   "cell_type": "markdown",
   "metadata": {
    "id": "A5oi21W4gpeM"
   },
   "source": [
    "## Exercise c) What happens if we run backward again?\n",
    "\n",
    "Try to execute the code below. Explain what happens."
   ]
  },
  {
   "cell_type": "code",
   "execution_count": 8,
   "metadata": {
    "colab": {
     "base_uri": "https://localhost:8080/"
    },
    "id": "DCtpJyr-gyX1",
    "outputId": "d014bcfa-c9ae-49c3-d268-91cc6ca94ea5"
   },
   "outputs": [
    {
     "name": "stdout",
     "output_type": "stream",
     "text": [
      "Var(v=3.0000, grad=28.0000)\n",
      "Var(v=5.0000, grad=6.0000)\n",
      "Var(v=15.0000, grad=2.0000)\n",
      "Var(v=9.0000, grad=6.0000)\n",
      "Var(v=27.0000, grad=2.0000)\n",
      "Var(v=42.0000, grad=2.0000)\n"
     ]
    }
   ],
   "source": [
    "f.backward()\n",
    "\n",
    "for v in [a, b, c, d, e, f]:\n",
    "    print(v)"
   ]
  },
  {
   "cell_type": "markdown",
   "metadata": {},
   "source": [
    "### Answer\n",
    "\n",
    "The gradients increase. "
   ]
  },
  {
   "cell_type": "markdown",
   "metadata": {
    "id": "e8bPVq2VhsP-"
   },
   "source": [
    "## Exercise d) Zero gradient\n",
    "\n",
    "We can zero the gradient by backpropagating a -1.0 as is shown in the example below. (If you have run backward multiple time then you also have to run the cell below an equal amount of times.) Explain what is going on."
   ]
  },
  {
   "cell_type": "code",
   "execution_count": 9,
   "metadata": {
    "colab": {
     "base_uri": "https://localhost:8080/"
    },
    "id": "OnyPDQx9lJe0",
    "outputId": "7a125fdc-60c4-4340-a580-8b82aea5b0db"
   },
   "outputs": [
    {
     "name": "stdout",
     "output_type": "stream",
     "text": [
      "Var(v=2.0000, grad=0.0000)\n",
      "Var(v=5.0000, grad=6.0000)\n",
      "Var(v=15.0000, grad=2.0000)\n",
      "Var(v=9.0000, grad=6.0000)\n",
      "Var(v=27.0000, grad=2.0000)\n",
      "Var(v=42.0000, grad=2.0000)\n",
      "Var(v=2.0000, grad=0.0000)\n",
      "Var(v=5.0000, grad=3.0000)\n",
      "Var(v=15.0000, grad=1.0000)\n",
      "Var(v=9.0000, grad=3.0000)\n",
      "Var(v=27.0000, grad=1.0000)\n",
      "Var(v=42.0000, grad=1.0000)\n"
     ]
    }
   ],
   "source": [
    "a = Var(2.0)\n",
    "\n",
    "for v in [a, b, c, d, e, f]:\n",
    "    print(v)\n",
    "\n",
    "f.backprop(-1.0)\n",
    "\n",
    "for v in [a, b, c, d, e, f]:\n",
    "    print(v)"
   ]
  },
  {
   "cell_type": "markdown",
   "metadata": {},
   "source": [
    "### Answer \n",
    "\n",
    "The gradients decrease to a tiny value close to 0."
   ]
  },
  {
   "cell_type": "markdown",
   "metadata": {
    "id": "U4057_ljNvWB"
   },
   "source": [
    "## Exercise e) Test correctness of derivatives with the finite difference method\n",
    "\n",
    "Write a small function that uses [the finite difference method](https://en.wikipedia.org/wiki/Finite_difference_method) to numerically test that backpropation implementation is working. In short we will use\n",
    "$$\n",
    "\\frac{\\partial f(a)}{\\partial a} \\approx \\frac{f(a+da)-f(a)}{da}\n",
    "$$\n",
    "for $da \\ll 1$.\n",
    "\n",
    "As an example, we could approximate the derivative of the function $f(a)=a^2$ in e.g. the value $a=4$ using the finite difference method. This amounts to inserting the relevant values and approximating the gradient $f'(4)$ with the fraction above. \n"
   ]
  },
  {
   "cell_type": "code",
   "execution_count": 10,
   "metadata": {
    "colab": {
     "base_uri": "https://localhost:8080/"
    },
    "id": "9TGil92lSXDN",
    "outputId": "7ef5489b-b525-4132-ab08-0b1109c07f4d"
   },
   "outputs": [
    {
     "name": "stdout",
     "output_type": "stream",
     "text": [
      "Var(v=3.0000, grad=5.0000)\n",
      "Var(v=5.0000, grad=3.0000)\n",
      "Var(v=15.0000, grad=1.0000)\n",
      "5.000000413701855\n"
     ]
    }
   ],
   "source": [
    "# f function - try to change the code to test other types of functions as well (such as different polynomials etc.)\n",
    "def f_function(a):\n",
    "  a = Var(a)\n",
    "  b = Var(5.0)\n",
    "  f = a * b\n",
    "  f.backward()\n",
    "  return a,b,f\n",
    "\n",
    "for v in f_function(3.0):\n",
    "  print(v)\n",
    "\n",
    "# Insert your finite difference code here\n",
    "def finite_difference(da=1e-10):\n",
    "    \"\"\"\n",
    "    This function compute the finite difference between\n",
    "    \n",
    "    Input:\n",
    "    da:          The finite difference                           (float)\n",
    "    \n",
    "    Output:\n",
    "    finite_difference: numerical approximation to the derivative (float) \n",
    "    \"\"\"\n",
    "    \n",
    "    fa_da = f_function(3.0 + da)[2].v           # <- Insert correct expression\n",
    "    fa = f_function(3.0)[2].v               # <- Insert correct expression\n",
    "\n",
    "    finite_difference = (fa_da - fa) / da\n",
    "    \n",
    "    return finite_difference\n",
    "\n",
    "print(finite_difference())"
   ]
  },
  {
   "cell_type": "markdown",
   "metadata": {
    "id": "6pZar5RKaUkg"
   },
   "source": [
    "# Create an artificial dataset to play with\n",
    "\n",
    "We create a non-linear 1d regression task. The generator supports various noise levels and it creates train, validation and test sets. You can modify it yourself if you want more or less challenging tasks."
   ]
  },
  {
   "cell_type": "code",
   "execution_count": 11,
   "metadata": {
    "id": "Y6yfMAQ8aduj"
   },
   "outputs": [],
   "source": [
    "import numpy as np\n",
    "import matplotlib.pyplot as plt\n",
    "\n",
    "np.random.seed(42)"
   ]
  },
  {
   "cell_type": "code",
   "execution_count": 12,
   "metadata": {
    "id": "4YabfD43ajNh"
   },
   "outputs": [],
   "source": [
    "def data_generator(noise=0.1, n_samples=300, D1=True):\n",
    "    # Create covariates and response variable\n",
    "    if D1:\n",
    "        X = np.linspace(-3, 3, num=n_samples).reshape(-1,1) # 1-D\n",
    "        np.random.shuffle(X)\n",
    "        y = np.random.normal((0.5*np.sin(X[:,0]*3) + X[:,0]), noise) # 1-D with trend\n",
    "    else:\n",
    "        X = np.random.multivariate_normal(np.zeros(3), noise*np.eye(3), size = n_samples) # 3-D\n",
    "        np.random.shuffle(X)    \n",
    "        y = np.sin(X[:,0]) - 5*(X[:,1]**2) + 0.5*X[:,2] # 3-D\n",
    "\n",
    "    # Stack them together vertically to split data set\n",
    "    data_set = np.vstack((X.T,y)).T\n",
    "    \n",
    "    train, validation, test = np.split(data_set, [int(0.35*n_samples), int(0.7*n_samples)], axis=0)\n",
    "    \n",
    "    # Standardization of the data, remember we do the standardization with the training set mean and standard deviation\n",
    "    train_mu = np.mean(train, axis=0)\n",
    "    train_sigma = np.std(train, axis=0)\n",
    "    \n",
    "    train = (train-train_mu)/train_sigma\n",
    "    validation = (validation-train_mu)/train_sigma\n",
    "    test = (test-train_mu)/train_sigma\n",
    "    \n",
    "    x_train, x_validation, x_test = train[:,:-1], validation[:,:-1], test[:,:-1]\n",
    "    y_train, y_validation, y_test = train[:,-1], validation[:,-1], test[:,-1]\n",
    "\n",
    "    return x_train, y_train,  x_validation, y_validation, x_test, y_test"
   ]
  },
  {
   "cell_type": "code",
   "execution_count": 13,
   "metadata": {
    "id": "u1oDngHLapIz"
   },
   "outputs": [],
   "source": [
    "D1 = True\n",
    "x_train, y_train,  x_validation, y_validation, x_test, y_test = data_generator(noise=0.5, D1=D1)"
   ]
  },
  {
   "cell_type": "code",
   "execution_count": 14,
   "metadata": {
    "colab": {
     "base_uri": "https://localhost:8080/",
     "height": 265
    },
    "id": "Ysfa3FsBavlm",
    "outputId": "399e5382-ae7d-48f6-9774-7ea4c73e7d95"
   },
   "outputs": [
    {
     "data": {
      "image/png": "[encoded data removed]",
      "text/plain": [
       "<Figure size 640x480 with 1 Axes>"
      ]
     },
     "metadata": {},
     "output_type": "display_data"
    }
   ],
   "source": [
    "if D1:\n",
    "    plt.scatter(x_train[:,0], y_train);\n",
    "    plt.scatter(x_validation[:,0], y_validation);\n",
    "    plt.scatter(x_test[:,0], y_test);\n",
    "else:\n",
    "    plt.scatter(x_train[:,1], y_train);\n",
    "    plt.scatter(x_validation[:,1], y_validation);\n",
    "    plt.scatter(x_test[:,1], y_test);\n",
    "plt.show()"
   ]
  },
  {
   "cell_type": "code",
   "execution_count": 15,
   "metadata": {
    "id": "zac2HHNlgbpm"
   },
   "outputs": [],
   "source": [
    "# convert from nparray to Var\n",
    "def nparray_to_Var(x):\n",
    "  if x.ndim==1:\n",
    "    y = [[Var(float(x[i]))] for i in range(x.shape[0])] # always work with list of list\n",
    "  else:\n",
    "    y = [[Var(float(x[i,j])) for j in range(x.shape[1])] for i in range(x.shape[0])]\n",
    "  return y\n",
    "   \n",
    "x_train = nparray_to_Var(x_train)\n",
    "y_train = nparray_to_Var(y_train)\n",
    "x_validation = nparray_to_Var(x_validation)\n",
    "y_validation = nparray_to_Var(y_validation)\n",
    "x_test = nparray_to_Var(x_test)\n",
    "y_test = nparray_to_Var(y_test)\n"
   ]
  },
  {
   "cell_type": "markdown",
   "metadata": {
    "id": "VbjrqcpVFtGe"
   },
   "source": [
    "# Defining and initializing the network\n",
    "\n",
    "The steps to create a feed forward neural network are the following:\n",
    "\n",
    "1. **Number of hidden layer and hidden units**. We have to define the number of hidden units in each layer. The number of features in X and the output dimensionality (the size of Y) are given but the numbers in between are set by the researcher. Remember that for each unit in each layer beside in the input has a bias term.\n",
    "2. **Activation functions** for each hidden layer. Each hidden layer in your list must have an activation function (it can also be the linear activation which is equivalent to identity function). The power of neural networks comes from non-linear activation functions that learn representations (features) from the data allowing us to learn from it. \n",
    "3. **Parameter initialization**. We will initialize the weights to have random values. This is done in practice by drawing pseudo random numbers from a Gaussian or uniform distribution. It turns out that for deeper models we have to be careful about how we scale the random numbers. This will be the topic of the exercise below. For now we will just use unit variance Gaussians.  \n",
    "\n",
    "In order to make life easier for ourselves we define a DenseLayer class that takes care of initialization and the forward pass. We can also extend it later with print and advanced initialization capabilities. For the latter we have introduced a Initializer class.\n",
    "\n",
    "Note that we use Sequence in the code below. A Sequence is an ordered list. This means the order we insert and access items are the same."
   ]
  },
  {
   "cell_type": "code",
   "execution_count": 16,
   "metadata": {
    "id": "ij_ieRsAt7Xt"
   },
   "outputs": [],
   "source": [
    "class Initializer:\n",
    "\n",
    "  def init_weights(self, n_in, n_out):\n",
    "    raise NotImplementedError\n",
    "\n",
    "  def init_bias(self, n_out):\n",
    "    raise NotImplementedError"
   ]
  },
  {
   "cell_type": "code",
   "execution_count": 17,
   "metadata": {
    "id": "eb18N5phuIha"
   },
   "outputs": [],
   "source": [
    "import random\n",
    "\n",
    "class NormalInitializer(Initializer):\n",
    "\n",
    "  def __init__(self, mean=0, std=0.1):\n",
    "    self.mean = mean\n",
    "    self.std = std\n",
    "\n",
    "  def init_weights(self, n_in, n_out):\n",
    "    return [[Var(random.gauss(self.mean, self.std)) for _ in range(n_out)] for _ in range(n_in)]\n",
    "\n",
    "  def init_bias(self, n_out):\n",
    "    return [Var(0.0) for _ in range(n_out)]\n",
    "\n",
    "class ConstantInitializer(Initializer):\n",
    "\n",
    "  def __init__(self, weight=1.0, bias=0.0):\n",
    "    self.weight = weight\n",
    "    self.bias = bias\n",
    "\n",
    "  def init_weights(self, n_in, n_out):\n",
    "    return [[Var(self.weight) for _ in range(n_out)] for _ in range(n_in)]\n",
    "\n",
    "  def init_bias(self, n_out):\n",
    "    return [Var(self.bias) for _ in range(n_out)]"
   ]
  },
  {
   "cell_type": "code",
   "execution_count": 18,
   "metadata": {
    "id": "jOLYGnZKuM6W"
   },
   "outputs": [],
   "source": [
    "from typing import Sequence\n",
    "\n",
    "class DenseLayer:\n",
    "    def __init__(self, n_in: int, n_out: int, act_fn, initializer = NormalInitializer()):\n",
    "        self.weights = initializer.init_weights(n_in, n_out)\n",
    "        self.bias = initializer.init_bias(n_out)\n",
    "        self.act_fn = act_fn\n",
    "    \n",
    "    def __repr__(self):    \n",
    "        return 'Weights: ' + repr(self.weights) + ' Biases: ' + repr(self.bias)\n",
    "\n",
    "    def parameters(self) -> Sequence[Var]:\n",
    "      params = []\n",
    "      for r in self.weights:\n",
    "        params += r\n",
    "\n",
    "      return params + self.bias\n",
    "\n",
    "    def forward(self, single_input: Sequence[Var]) -> Sequence[Var]:\n",
    "        # self.weights is a matrix with dimension n_in x n_out. We check that the dimensionality of the input \n",
    "        # to the current layer matches the number of nodes in the current layer\n",
    "        assert len(self.weights) == len(single_input), \"weights and single_input must match in first dimension\"\n",
    "        weights = self.weights\n",
    "        out = []\n",
    "        # For some given data point single_input, we now want to calculate the resulting value in each node in the current layer\n",
    "        # We therefore loop over the (number of) nodes in the current layer:\n",
    "        for j in range(len(weights[0])): \n",
    "            # Initialize the node value depending on its corresponding parameters.\n",
    "            node = Var(0.0) + self.bias[j]# <- Insert code\n",
    "            # We now finish the linear transformation corresponding to the parameters of the currently considered node.\n",
    "            for i in range(len(single_input)):\n",
    "                node += single_input[i] * self.weights[i][j]  # <- Insert code\n",
    "            node = self.act_fn(node)\n",
    "            out.append(node)\n",
    "\n",
    "        return out"
   ]
  },
  {
   "cell_type": "markdown",
   "metadata": {
    "id": "jpIZPBpNI0pO"
   },
   "source": [
    "## Exercise f) Add more activation functions\n",
    "\n",
    "To have a full definition of the neural network, we must define an activation function for every layer. Several activation functions have been proposed and have different characteristics. In the Var class we have already defined the rectified linear init (relu). \n",
    " \n",
    "Implement the following activation functions in the Var class:\n",
    "\n",
    "* Identity: $$\\mathrm{identity}(x) = x$$\n",
    "* Hyperbolic tangent: $$\\tanh(x)$$\n",
    "* Sigmoid (or logistic function): $$\\mathrm{sigmoid}(x) = \\frac{1}{1.0 + \\exp(-x ) }$$  Hint: $\\mathrm{sigmoid}'(x)= \\mathrm{sigmoid}(x)(1-\\mathrm{sigmoid}(x))$.  \n",
    "\n",
    "Hint: You can seek inspiration in the relu method in the Var class."
   ]
  },
  {
   "cell_type": "markdown",
   "metadata": {},
   "source": [
    "### Answer \n",
    "\n",
    "See the section where implements the `Var` class"
   ]
  },
  {
   "cell_type": "markdown",
   "metadata": {
    "id": "p_8n_SKnIW2F"
   },
   "source": [
    "## Exercise g) Complete the forward pass\n",
    "\n",
    "In the code below we initialize a 1-5-1 network and pass the training set through it. *The forward method in DenseLayer is **not** complete*. It just outputs zeros right now. The method forward should perform an [affine transformation](https://en.wikipedia.org/wiki/Affine_transformation) on the input followed by an application of the activation function."
   ]
  },
  {
   "cell_type": "code",
   "execution_count": 19,
   "metadata": {
    "colab": {
     "base_uri": "https://localhost:8080/",
     "height": 337
    },
    "id": "xDEjtePxE7Mv",
    "outputId": "753406cd-d8a1-4282-ce03-25ad959b0e11"
   },
   "outputs": [
    {
     "name": "stdout",
     "output_type": "stream",
     "text": [
      "[[Var(v=-0.0308, grad=0.0000)], [Var(v=-0.0619, grad=0.0000)], [Var(v=-0.0056, grad=0.0000)], [Var(v=-0.0112, grad=0.0000)], [Var(v=-0.0456, grad=0.0000)], [Var(v=-0.0421, grad=0.0000)], [Var(v=-0.0273, grad=0.0000)], [Var(v=-0.0027, grad=0.0000)], [Var(v=-0.0115, grad=0.0000)], [Var(v=-0.0170, grad=0.0000)], [Var(v=-0.0476, grad=0.0000)], [Var(v=-0.0071, grad=0.0000)], [Var(v=-0.0382, grad=0.0000)], [Var(v=-0.0081, grad=0.0000)], [Var(v=-0.0204, grad=0.0000)], [Var(v=-0.0397, grad=0.0000)], [Var(v=-0.0732, grad=0.0000)], [Var(v=-0.0347, grad=0.0000)], [Var(v=-0.0036, grad=0.0000)], [Var(v=-0.0120, grad=0.0000)], [Var(v=-0.0053, grad=0.0000)], [Var(v=-0.0023, grad=0.0000)], [Var(v=-0.0535, grad=0.0000)], [Var(v=-0.0540, grad=0.0000)], [Var(v=-0.0031, grad=0.0000)], [Var(v=-0.0084, grad=0.0000)], [Var(v=-0.0693, grad=0.0000)], [Var(v=-0.0762, grad=0.0000)], [Var(v=-0.0081, grad=0.0000)], [Var(v=-0.0480, grad=0.0000)], [Var(v=-0.0105, grad=0.0000)], [Var(v=-0.0115, grad=0.0000)], [Var(v=-0.0092, grad=0.0000)], [Var(v=-0.0099, grad=0.0000)], [Var(v=-0.0367, grad=0.0000)], [Var(v=-0.0018, grad=0.0000)], [Var(v=-0.0114, grad=0.0000)], [Var(v=-0.0043, grad=0.0000)], [Var(v=-0.0080, grad=0.0000)], [Var(v=-0.0058, grad=0.0000)], [Var(v=-0.0041, grad=0.0000)], [Var(v=-0.0055, grad=0.0000)], [Var(v=-0.0717, grad=0.0000)], [Var(v=-0.0069, grad=0.0000)], [Var(v=-0.0054, grad=0.0000)], [Var(v=-0.0066, grad=0.0000)], [Var(v=-0.0461, grad=0.0000)], [Var(v=-0.0436, grad=0.0000)], [Var(v=-0.0025, grad=0.0000)], [Var(v=-0.0446, grad=0.0000)], [Var(v=-0.0194, grad=0.0000)], [Var(v=-0.0017, grad=0.0000)], [Var(v=-0.0485, grad=0.0000)], [Var(v=-0.0056, grad=0.0000)], [Var(v=-0.0772, grad=0.0000)], [Var(v=-0.0678, grad=0.0000)], [Var(v=-0.0037, grad=0.0000)], [Var(v=-0.0041, grad=0.0000)], [Var(v=-0.0253, grad=0.0000)], [Var(v=-0.0098, grad=0.0000)], [Var(v=-0.0451, grad=0.0000)], [Var(v=-0.0069, grad=0.0000)], [Var(v=-0.0114, grad=0.0000)], [Var(v=-0.0219, grad=0.0000)], [Var(v=-0.0160, grad=0.0000)], [Var(v=-0.0094, grad=0.0000)], [Var(v=-0.0101, grad=0.0000)], [Var(v=-0.0569, grad=0.0000)], [Var(v=-0.0072, grad=0.0000)], [Var(v=-0.0224, grad=0.0000)], [Var(v=-0.0028, grad=0.0000)], [Var(v=-0.0012, grad=0.0000)], [Var(v=-0.0441, grad=0.0000)], [Var(v=-0.0258, grad=0.0000)], [Var(v=-0.0010, grad=0.0000)], [Var(v=-0.0698, grad=0.0000)], [Var(v=-0.0050, grad=0.0000)], [Var(v=-0.0048, grad=0.0000)], [Var(v=-0.0063, grad=0.0000)], [Var(v=-0.0727, grad=0.0000)], [Var(v=-0.0110, grad=0.0000)], [Var(v=-0.0066, grad=0.0000)], [Var(v=-0.0103, grad=0.0000)], [Var(v=-0.0014, grad=0.0000)], [Var(v=-0.0052, grad=0.0000)], [Var(v=-0.0023, grad=0.0000)], [Var(v=-0.0019, grad=0.0000)], [Var(v=-0.0058, grad=0.0000)], [Var(v=-0.0107, grad=0.0000)], [Var(v=-0.0111, grad=0.0000)], [Var(v=-0.0263, grad=0.0000)], [Var(v=-0.0034, grad=0.0000)], [Var(v=-0.0062, grad=0.0000)], [Var(v=-0.0411, grad=0.0000)], [Var(v=-0.0088, grad=0.0000)], [Var(v=-0.0106, grad=0.0000)], [Var(v=-0.0189, grad=0.0000)], [Var(v=-0.0031, grad=0.0000)], [Var(v=-0.0658, grad=0.0000)], [Var(v=-0.0063, grad=0.0000)], [Var(v=-0.0431, grad=0.0000)], [Var(v=-0.0061, grad=0.0000)], [Var(v=-0.0093, grad=0.0000)], [Var(v=-0.0209, grad=0.0000)], [Var(v=-0.0614, grad=0.0000)]]\n"
     ]
    }
   ],
   "source": [
    "NN = [\n",
    "    DenseLayer(1, 5, lambda x: x.relu()),\n",
    "    DenseLayer(5, 1, lambda x: x.identity())\n",
    "]\n",
    "\n",
    "def forward(input, network):\n",
    "\n",
    "  def forward_single(x, network):\n",
    "    for layer in network:\n",
    "        x = layer.forward(x)\n",
    "    return x\n",
    "\n",
    "  output = [ forward_single(input[n], network) for n in range(len(input))]\n",
    "  return output\n",
    "\n",
    "print(forward(x_train, NN))\n"
   ]
  },
  {
   "cell_type": "markdown",
   "metadata": {},
   "source": [
    "### Answer\n",
    "\n",
    "See the implementation of `DenseLayer`"
   ]
  },
  {
   "cell_type": "markdown",
   "metadata": {
    "id": "oLrGJytZFtGm"
   },
   "source": [
    "## Exercise h) Print all network parameters\n",
    "\n",
    "Make a function that prints all the parameters of the network (weights and biases) with information about in which layer the appear. In the object oriented spirit you should introduce a method in the DenseLayer class to print the parameters of a layer. Hint: You can take inspiration from the corresponding method in Var. "
   ]
  },
  {
   "cell_type": "code",
   "execution_count": 20,
   "metadata": {
    "id": "iac-VwYGFtGm"
   },
   "outputs": [
    {
     "name": "stdout",
     "output_type": "stream",
     "text": [
      "Weights: [[Var(v=0.0460, grad=0.0000), Var(v=0.0128, grad=0.0000), Var(v=0.3088, grad=0.0000), Var(v=-0.0324, grad=0.0000), Var(v=0.0555, grad=0.0000)]] Biases: [Var(v=0.0000, grad=0.0000), Var(v=0.0000, grad=0.0000), Var(v=0.0000, grad=0.0000), Var(v=0.0000, grad=0.0000), Var(v=0.0000, grad=0.0000)]\n",
      "Weights: [[Var(v=-0.1168, grad=0.0000)], [Var(v=-0.0932, grad=0.0000)], [Var(v=-0.1255, grad=0.0000)], [Var(v=-0.2271, grad=0.0000)], [Var(v=0.0477, grad=0.0000)]] Biases: [Var(v=0.0000, grad=0.0000)]\n"
     ]
    }
   ],
   "source": [
    "# Insert code here and in the DenseLayer class\n",
    "\n",
    "for n in NN:\n",
    "    print(n)"
   ]
  },
  {
   "cell_type": "markdown",
   "metadata": {
    "id": "_79HOAXrFtHK"
   },
   "source": [
    "## Visualization\n",
    "\n",
    "Now that we have defined our activation functions we can visualize them to see what they look like:"
   ]
  },
  {
   "cell_type": "code",
   "execution_count": 21,
   "metadata": {
    "id": "1FcylHqLTl-Z"
   },
   "outputs": [
    {
     "data": {
      "text/plain": [
       "[<matplotlib.lines.Line2D at 0x10e99a5e0>]"
      ]
     },
     "execution_count": 21,
     "metadata": {},
     "output_type": "execute_result"
    },
    {
     "data": {
      "image/png": "[encoded data removed]",
      "text/plain": [
       "<Figure size 640x480 with 1 Axes>"
      ]
     },
     "metadata": {},
     "output_type": "display_data"
    }
   ],
   "source": [
    "x = np.linspace(-6, 6, 100)\n",
    "\n",
    "# convert from Var to ndarray  \n",
    "def Var_to_nparray(x):\n",
    "  y = np.zeros((len(x),len(x[0])))\n",
    "  for i in range(len(x)):\n",
    "    for j in range(len(x[0])):\n",
    "      y[i,j] = x[i][j].v\n",
    "  return y\n",
    "\n",
    "# define 1-1 network with weight = 1 and relu activation \n",
    "NN = [ DenseLayer(1, 1, lambda x: x.relu(), initializer = ConstantInitializer(1.0)) ] \n",
    "y = Var_to_nparray(forward(nparray_to_Var(x), NN))\n",
    "\n",
    "#y = Var_to_nparray(relu(nparray_to_Var(x)))\n",
    "plt.plot(x,y)"
   ]
  },
  {
   "cell_type": "code",
   "execution_count": 22,
   "metadata": {
    "id": "oOL2UolJFtHL"
   },
   "outputs": [
    {
     "data": {
      "image/png": "[encoded data removed]",
      "text/plain": [
       "<Figure size 500x500 with 1 Axes>"
      ]
     },
     "metadata": {},
     "output_type": "display_data"
    }
   ],
   "source": [
    "# Testing all activation layers\n",
    "\n",
    "x = np.linspace(-6, 6, 100)\n",
    "units = {\n",
    "    \"identity\": lambda x: x.identity(),\n",
    "    \"sigmoid\": lambda x: x.sigmoid(),\n",
    "    \"relu\": lambda x: x.relu(),\n",
    "    \"tanh\": lambda x: x.tanh()\n",
    "}\n",
    "\n",
    "plt.figure(figsize=(5, 5))\n",
    "[plt.plot(x, Var_to_nparray(forward(nparray_to_Var(x), [DenseLayer(1, 1, unit, initializer = ConstantInitializer(1.0))]) ), label=unit_name, lw=2) for unit_name, unit in units.items()] # unit(nparray_to_Var(x))), label=unit_name, lw=2) for unit_name, unit in units.items()]\n",
    "plt.legend(loc=2, fontsize=16)\n",
    "plt.title('Our activation functions', fontsize=20)\n",
    "plt.ylim([-2, 5])\n",
    "plt.xlim([-6, 6])\n",
    "plt.show()"
   ]
  },
  {
   "cell_type": "markdown",
   "metadata": {
    "id": "b-jdEl-7FtGs"
   },
   "source": [
    "# Advanced initialization schemes\n",
    "\n",
    "If we are not careful with initialization, the signals we propagate forward ($a^{(l)}$, $l=1,\\ldots,L$) and backward ($\\delta^l$, $l=L,L-1,\\ldots,1$) can blow up or shrink to zero. A statistical analysis of the variance of the signals for different activation functions can be found in these two papers: [Glorot initialization](http://proceedings.mlr.press/v9/glorot10a/glorot10a.pdf) and [He initialization](https://arxiv.org/pdf/1502.01852v1.pdf). \n",
    "\n",
    "The result of the analyses are proposals for how to make the initialization such that the variance of the signals (forward and backward) are kept approxmimatly constant when propagating from layer to layer. The exact expressions depend upon the non-linear activation function used. In Glorot initialization, the aim is to keep both the forward and backward variances constant whereas He only aims at keeping the variance in the forward pass constant.\n",
    "\n",
    "We define $n_{in}$ and $n_{out}$ as the number of input units and output units of a particular layer. \n",
    "\n",
    "The Glorot initialization has the form: \n",
    "\n",
    "$$w_{ij} \\sim N \\bigg( 0, \\, \\frac{2 \\alpha }{n_{in} + n_{out}} \\bigg) \\ . $$\n",
    "\n",
    "where $N(\\mu,\\sigma^2)$ is a Gaussian distribution with mean $\\mu$ and variance $\\sigma^2$ and $\\alpha$ is a parameter that depends upon the activation function used. For $\\tanh$, $\\alpha=1$ and for Rectified Linear Unit (ReLU) activations, $\\alpha=2$. (It is also possible to use a uniform distribution for initialization, see [this blog post](https://mmuratarat.github.io/2019-02-25/xavier-glorot-he-weight-init).) \n",
    "\n",
    "The He initialization is very similar\n",
    "\n",
    "$$w_{ij} \\sim N \\bigg( 0, \\, \\frac{\\alpha}{n_{in}} \\bigg) \\ . $$"
   ]
  },
  {
   "cell_type": "markdown",
   "metadata": {
    "id": "mqeyab9qFtGs"
   },
   "source": [
    "## Exercise i) Glorot and He initialization\n",
    " \n",
    "Using the Initializer class, implement functions that implement Glorot and He \n",
    "\n",
    "Explain briefly how you would test numerically that these initializations have the sought after property. Hint: See plots in Glorot paper.\n",
    "\n",
    "Comment: If you want to be more advanced then try to make a universal initializer taking both the activation function and type (Glorot or He) as argument."
   ]
  },
  {
   "cell_type": "code",
   "execution_count": 23,
   "metadata": {
    "id": "Qyk01CgaFtGt"
   },
   "outputs": [],
   "source": [
    "## Glorot\n",
    "def DenseLayer_Glorot_tanh(n_in: int, n_out: int):\n",
    "  std = std = np.sqrt(2.0 / (n_in + n_out)) # <- replace with proper initialization\n",
    "  return DenseLayer(n_in, n_out, lambda x: x.tanh(), initializer = NormalInitializer(std))\n",
    "\n",
    "## He\n",
    "def DenseLayer_He_relu(n_in: int, n_out: int):\n",
    "  std = np.sqrt(2.0 / n_in)# <- replace with proper initialization\n",
    "  return DenseLayer(n_in, n_out, lambda x: x.relu(), initializer = NormalInitializer(std))"
   ]
  },
  {
   "cell_type": "markdown",
   "metadata": {
    "id": "-XyXBD37FtHk"
   },
   "source": [
    "## Exercise j) Forward pass unit test\n",
    "\n",
    "Write a bit of code to make a unit test that the forward pass works. This can be done by defining a simple network with for example all weights equal to one (using the ConstantInitializer method) and identity activation functions. \n",
    "\n",
    "Hints: Use the [assert](https://www.w3schools.com/python/ref_keyword_assert.asp), the nparray_to_Var and the Var_to_nparray commands. "
   ]
  },
  {
   "cell_type": "code",
   "execution_count": 24,
   "metadata": {
    "id": "k0miqRUAFtHl"
   },
   "outputs": [
    {
     "name": "stdout",
     "output_type": "stream",
     "text": [
      "Forward pass test passed!\n"
     ]
    }
   ],
   "source": [
    "# Insert code here\n",
    "import numpy as np\n",
    "def test_forward_pass():\n",
    "    # Create a DenseLayer with known weights and biases (all ones)\n",
    "    n_in = 3\n",
    "    n_out = 2\n",
    "    layer = DenseLayer(n_in, n_out, act_fn=lambda x: x.identity(), initializer=ConstantInitializer(1.0))\n",
    "\n",
    "    # Create input data with known values\n",
    "    input_data = [Var(2.0), Var(3.0), Var(4.0)]\n",
    "\n",
    "    # Perform the forward pass\n",
    "    output = layer.forward(input_data)\n",
    "\n",
    "    # Expected output: Each output node should sum the inputs since weights are all ones\n",
    "    expected_output = [Var(9.0), Var(9.0)]\n",
    "\n",
    "    # Compare the actual output to the expected output\n",
    "    for i in range(n_out):\n",
    "        assert np.isclose(output[i].v, expected_output[i].v), f\"Output mismatch for node {i}: {output[i]} != {expected_output[i]}\"\n",
    "\n",
    "    print(\"Forward pass test passed!\")\n",
    "\n",
    "# Run the test\n",
    "test_forward_pass()\n"
   ]
  },
  {
   "cell_type": "markdown",
   "metadata": {
    "id": "faCxhfFnFtHp"
   },
   "source": [
    "# Loss functions\n",
    "\n",
    "We are only missing a loss function to we need to define a loss function and its derivative with respect to the output of the neural network $y$"
   ]
  },
  {
   "cell_type": "code",
   "execution_count": 25,
   "metadata": {
    "id": "I2eDYKvAFtHq"
   },
   "outputs": [],
   "source": [
    "def squared_loss(t, y):\n",
    "  \n",
    "  # add check that sizes agree\n",
    "  \n",
    "  def squared_loss_single(t, y):\n",
    "    Loss = Var(0.0)\n",
    "    for i in range(len(t)): # sum over outputs\n",
    "      Loss += (t[i]-y[i]) ** 2\n",
    "    return Loss\n",
    "\n",
    "  Loss = Var(0.0)\n",
    "  for n in range(len(t)): # sum over training data\n",
    "    Loss += squared_loss_single(t[n],y[n])\n",
    "  return Loss"
   ]
  },
  {
   "cell_type": "markdown",
   "metadata": {
    "id": "SrwSJ2UWFtHu"
   },
   "source": [
    "## Exercise k) Implement cross entropy loss\n",
    "\n",
    "Insert code below to implement cross-entropy loss for general dimensionality of $t$. Use a logits formulation:\n",
    "$$\n",
    "\\rm{Loss} = - \\sum_i t_i \\, log \\, p_i \n",
    "$$\n",
    "with $p$ given by the the softmax function in terms of the logits $h$:\n",
    "$$\n",
    "p_i = \\frac{\\exp(h_i)}{\\sum_{i'} \\exp(h_{i'})} .\n",
    "$$\n",
    "Inserting $p$ in the expression for the loss gives\n",
    "$$\n",
    "\\rm{Loss} = - \\sum_i t_i h_i + \\rm{LogSumExp}(h) \\ ,\n",
    "$$\n",
    "where \n",
    "$$\n",
    "\\rm{LogSumExp}(h) = \\log \\sum_i \\exp h_i \\ .\n",
    "$$\n",
    "This is true for $t$ being a one-hot vector. \n",
    "\n",
    "Call the function to convince yourself it works. \n",
    "\n",
    "In practice you want to implement a [numerically stable](https://leimao.github.io/blog/LogSumExp/) version of LogSumExp. But we will not bother about that here.\n",
    "\n",
    "Help: You can add these methods in the Var class:\n",
    "\n",
    "    def exp(self):\n",
    "        return Var(exp(self.v), lambda: [(self, exp(self.v))])\n",
    "    \n",
    "    def log(self):\n",
    "        return Var(log(self.v), lambda: [(self, self.v ** -1)])"
   ]
  },
  {
   "cell_type": "code",
   "execution_count": 26,
   "metadata": {
    "id": "6nMuxyfzFtHv"
   },
   "outputs": [],
   "source": [
    "def cross_entropy_loss(t, h):\n",
    "    assert t.shape == h.shape, \"Input tensors must have the same shape\"\n",
    "    Loss = Var(0.0)\n",
    "    \n",
    "    # Calculate the cross-entropy loss for each element in the tensors\n",
    "    for i in range(t.shape[0]):\n",
    "        for j in range(t.shape[1]):\n",
    "            Loss -= t[i][j] * Var.log(h[i][j]) + (1 - t[i][j]) * Var.log(1 - h[i][j])\n",
    "\n",
    "    # Average the loss over the number of elements\n",
    "    Loss /= t.shape[0]\n",
    "    return Loss"
   ]
  },
  {
   "cell_type": "markdown",
   "metadata": {},
   "source": [
    "### Answer \n",
    "\n",
    "See above."
   ]
  },
  {
   "cell_type": "markdown",
   "metadata": {
    "id": "8fAF5ew4FtHy"
   },
   "source": [
    "# Backward pass\n",
    "\n",
    "Now the magic happens! We get the calculation of the gradients for free. Just do:"
   ]
  },
  {
   "cell_type": "code",
   "execution_count": 27,
   "metadata": {
    "id": "iHyfPPI9Qqwu"
   },
   "outputs": [],
   "source": [
    "NN = [\n",
    "    DenseLayer(1, 5, lambda x: x.relu()),\n",
    "    DenseLayer(5, 1, lambda x: x.identity())\n",
    "]\n",
    "\n",
    "output = forward(x_train, NN)\n",
    "\n",
    "Loss = squared_loss(y_train,output)\n",
    "Loss.backward()"
   ]
  },
  {
   "cell_type": "markdown",
   "metadata": {
    "id": "49biIAYKQ1oG"
   },
   "source": [
    "and the gradients will be calculated:"
   ]
  },
  {
   "cell_type": "code",
   "execution_count": 28,
   "metadata": {
    "id": "_rGt1bq_Q7uk"
   },
   "outputs": [
    {
     "name": "stdout",
     "output_type": "stream",
     "text": [
      "Layer 0 \n",
      " Weights: [[Var(v=0.0672, grad=1.1392), Var(v=-0.0064, grad=2.7960), Var(v=0.1886, grad=-11.1987), Var(v=-0.0132, grad=0.5250), Var(v=0.0399, grad=15.0984)]] Biases: [Var(v=0.0000, grad=0.9788), Var(v=0.0000, grad=-2.5415), Var(v=0.0000, grad=-9.6225), Var(v=0.0000, grad=-0.4772), Var(v=0.0000, grad=12.9734)]\n",
      "Layer 1 \n",
      " Weights: [[Var(v=-0.0114, grad=-6.7173)], [Var(v=-0.0291, grad=0.6149)], [Var(v=0.1120, grad=-18.8639)], [Var(v=-0.0055, grad=1.2641)], [Var(v=-0.1510, grad=-3.9867)]] Biases: [Var(v=0.0000, grad=1.3037)]\n"
     ]
    },
    {
     "data": {
      "text/plain": [
       "[None, None]"
      ]
     },
     "execution_count": 28,
     "metadata": {},
     "output_type": "execute_result"
    }
   ],
   "source": [
    "[print('Layer', i, '\\n', NN[i]) for i in range(len(NN))] "
   ]
  },
  {
   "cell_type": "markdown",
   "metadata": {
    "id": "D7d7qK0uFtH9"
   },
   "source": [
    "# Backward pass unit test\n",
    "\n",
    "Above we used finite differences to test that Nanograd is actually doing what it is supposed to do. We can in principle try the same for the neural network. But we will trust that the test above is enough."
   ]
  },
  {
   "cell_type": "markdown",
   "metadata": {
    "id": "WgBi8GOSFtIN"
   },
   "source": [
    "# Training and validation\n",
    "\n",
    "We are ready to train some neural networks!\n",
    "\n",
    "We initialize again:"
   ]
  },
  {
   "cell_type": "code",
   "execution_count": 29,
   "metadata": {
    "id": "01ePmzBzRtdh"
   },
   "outputs": [],
   "source": [
    "NN = [\n",
    "    DenseLayer(1, 15, lambda x: x.relu()),\n",
    "    DenseLayer(15, 50, lambda x: x.relu()),\n",
    "    DenseLayer(50, 1, lambda x: x.identity())\n",
    "]\n",
    "\n",
    "output = forward(x_train, NN)\n",
    "\n",
    "Loss = squared_loss(y_train,output)\n",
    "Loss.backward()"
   ]
  },
  {
   "cell_type": "markdown",
   "metadata": {
    "id": "10iRPiQ1ISHw"
   },
   "source": [
    "and make an update:\n",
    "\n",
    "We introduce a help function parameters to have a handle in all parameters in the network."
   ]
  },
  {
   "cell_type": "code",
   "execution_count": 30,
   "metadata": {
    "id": "dhAI7eyeznia"
   },
   "outputs": [
    {
     "name": "stdout",
     "output_type": "stream",
     "text": [
      "Network before update:\n",
      "Layer 0 \n",
      " Weights: [[Var(v=-0.2005, grad=-1.8363), Var(v=0.1554, grad=4.2726), Var(v=0.0014, grad=-1.3705), Var(v=0.1589, grad=-2.5796), Var(v=-0.0412, grad=-13.4426), Var(v=0.0804, grad=5.0632), Var(v=0.1055, grad=-0.1850), Var(v=0.1038, grad=-2.6045), Var(v=0.1538, grad=-0.9433), Var(v=0.0145, grad=-0.1162), Var(v=0.0530, grad=-4.4108), Var(v=-0.1489, grad=-8.4147), Var(v=0.1620, grad=-6.2027), Var(v=-0.1132, grad=0.6438), Var(v=-0.0506, grad=0.1923)]] Biases: [Var(v=0.0000, grad=1.6698), Var(v=0.0000, grad=3.6709), Var(v=0.0000, grad=-1.1775), Var(v=0.0000, grad=-2.2163), Var(v=0.0000, grad=12.2233), Var(v=0.0000, grad=4.3502), Var(v=0.0000, grad=-0.1590), Var(v=0.0000, grad=-2.2377), Var(v=0.0000, grad=-0.8105), Var(v=0.0000, grad=-0.0998), Var(v=0.0000, grad=-3.7897), Var(v=0.0000, grad=7.6515), Var(v=0.0000, grad=-5.3293), Var(v=0.0000, grad=-0.5854), Var(v=0.0000, grad=-0.1748)]\n",
      "Layer 1 \n",
      " Weights: [[Var(v=-0.0077, grad=-4.9926), Var(v=-0.0537, grad=1.3680), Var(v=0.0637, grad=0.0000), Var(v=-0.1049, grad=0.0000), Var(v=0.1001, grad=3.4776), Var(v=-0.0400, grad=0.0000), Var(v=0.0640, grad=-1.1746), Var(v=-0.0652, grad=1.7206), Var(v=-0.0424, grad=0.0000), Var(v=0.0651, grad=0.0000), Var(v=0.0390, grad=-1.7601), Var(v=0.0509, grad=1.6140), Var(v=-0.2363, grad=0.0000), Var(v=-0.0885, grad=-2.7325), Var(v=0.1730, grad=0.4274), Var(v=0.0841, grad=1.4184), Var(v=0.0437, grad=0.0000), Var(v=-0.0700, grad=-0.0675), Var(v=-0.1252, grad=0.0000), Var(v=-0.0372, grad=0.0000), Var(v=0.0220, grad=0.0000), Var(v=-0.0491, grad=0.0000), Var(v=0.0818, grad=0.8198), Var(v=0.1028, grad=0.0900), Var(v=0.0719, grad=3.3512), Var(v=0.1001, grad=0.5621), Var(v=-0.0847, grad=2.2154), Var(v=0.0033, grad=0.0000), Var(v=-0.1781, grad=0.0000), Var(v=-0.0971, grad=0.0000), Var(v=-0.2310, grad=0.0000), Var(v=-0.1491, grad=3.3589), Var(v=0.0604, grad=0.0000), Var(v=-0.0401, grad=-0.4396), Var(v=0.0694, grad=0.1130), Var(v=-0.0643, grad=0.0000), Var(v=0.0411, grad=1.2604), Var(v=0.0327, grad=0.0000), Var(v=0.0656, grad=-4.7252), Var(v=0.0980, grad=0.0000), Var(v=0.1112, grad=0.0000), Var(v=-0.0582, grad=0.0000), Var(v=0.0371, grad=0.0000), Var(v=0.1095, grad=0.0000), Var(v=-0.2241, grad=0.0000), Var(v=0.0655, grad=1.0784), Var(v=-0.0453, grad=-0.6233), Var(v=-0.1141, grad=0.0000), Var(v=0.0483, grad=0.9064), Var(v=0.0835, grad=2.3217)], [Var(v=-0.1064, grad=0.0000), Var(v=0.2587, grad=0.0000), Var(v=-0.1756, grad=0.0000), Var(v=-0.0877, grad=0.0000), Var(v=0.0413, grad=0.0000), Var(v=-0.0240, grad=0.0000), Var(v=0.1398, grad=0.9323), Var(v=-0.0246, grad=0.0000), Var(v=-0.1012, grad=0.0000), Var(v=-0.1173, grad=0.0000), Var(v=-0.0223, grad=1.3970), Var(v=0.0265, grad=-1.2811), Var(v=0.1110, grad=-1.5366), Var(v=0.1889, grad=2.1689), Var(v=-0.1905, grad=0.0000), Var(v=0.0435, grad=-1.1258), Var(v=-0.0139, grad=1.4587), Var(v=0.1313, grad=0.0536), Var(v=-0.1111, grad=0.1154), Var(v=-0.0543, grad=-1.1857), Var(v=0.0166, grad=0.0000), Var(v=0.0056, grad=0.0000), Var(v=-0.0189, grad=0.0000), Var(v=-0.0732, grad=-0.0714), Var(v=-0.0405, grad=-2.6600), Var(v=-0.0322, grad=-0.4462), Var(v=-0.0201, grad=0.0000), Var(v=-0.0313, grad=-2.2903), Var(v=-0.1260, grad=0.0000), Var(v=-0.0083, grad=0.0000), Var(v=-0.0259, grad=0.0000), Var(v=-0.0554, grad=0.0000), Var(v=-0.1143, grad=0.0000), Var(v=0.1809, grad=0.3489), Var(v=-0.0989, grad=0.0000), Var(v=-0.1089, grad=-0.3581), Var(v=0.0276, grad=-1.0004), Var(v=-0.0480, grad=-0.8250), Var(v=0.0043, grad=0.0000), Var(v=0.1443, grad=0.0000), Var(v=-0.1653, grad=0.0000), Var(v=-0.1183, grad=0.0000), Var(v=-0.0626, grad=1.2568), Var(v=0.0728, grad=0.8432), Var(v=0.0069, grad=-0.6469), Var(v=-0.0491, grad=-0.8560), Var(v=-0.0120, grad=0.0000), Var(v=-0.1131, grad=-1.1869), Var(v=-0.0314, grad=-0.7195), Var(v=0.0653, grad=-1.8428)], [Var(v=-0.1751, grad=0.0000), Var(v=0.0186, grad=0.0000), Var(v=-0.0714, grad=0.0000), Var(v=-0.0700, grad=0.0000), Var(v=0.0840, grad=0.0000), Var(v=-0.0938, grad=0.0000), Var(v=0.1140, grad=0.0083), Var(v=-0.0119, grad=0.0000), Var(v=-0.0177, grad=0.0000), Var(v=-0.1067, grad=0.0000), Var(v=-0.0067, grad=0.0125), Var(v=0.0417, grad=-0.0114), Var(v=-0.0613, grad=-0.0137), Var(v=-0.0125, grad=0.0194), Var(v=-0.0868, grad=0.0000), Var(v=0.0463, grad=-0.0101), Var(v=-0.0184, grad=0.0130), Var(v=-0.0550, grad=0.0005), Var(v=-0.1757, grad=0.0010), Var(v=-0.0372, grad=-0.0106), Var(v=0.1953, grad=0.0000), Var(v=0.0029, grad=0.0000), Var(v=0.0770, grad=0.0000), Var(v=-0.0036, grad=-0.0006), Var(v=-0.0443, grad=-0.0238), Var(v=-0.1746, grad=-0.0040), Var(v=0.0818, grad=0.0000), Var(v=0.1241, grad=-0.0205), Var(v=0.1421, grad=0.0000), Var(v=0.0258, grad=0.0000), Var(v=0.2777, grad=0.0000), Var(v=-0.0654, grad=0.0000), Var(v=-0.0753, grad=0.0000), Var(v=-0.0963, grad=0.0031), Var(v=0.0366, grad=0.0000), Var(v=0.2584, grad=-0.0032), Var(v=-0.2122, grad=-0.0089), Var(v=-0.0408, grad=-0.0074), Var(v=-0.0027, grad=0.0000), Var(v=0.1027, grad=0.0000), Var(v=0.0837, grad=0.0000), Var(v=-0.0083, grad=0.0000), Var(v=-0.2785, grad=0.0112), Var(v=-0.0554, grad=0.0075), Var(v=-0.1166, grad=-0.0058), Var(v=0.0368, grad=-0.0076), Var(v=-0.1083, grad=0.0000), Var(v=0.0428, grad=-0.0106), Var(v=0.1098, grad=-0.0064), Var(v=-0.1007, grad=-0.0165)], [Var(v=-0.0016, grad=0.0000), Var(v=-0.0409, grad=0.0000), Var(v=-0.0680, grad=0.0000), Var(v=-0.0659, grad=0.0000), Var(v=0.0203, grad=0.0000), Var(v=-0.0535, grad=0.0000), Var(v=0.0175, grad=0.9530), Var(v=-0.0314, grad=0.0000), Var(v=0.1326, grad=0.0000), Var(v=0.0136, grad=0.0000), Var(v=0.1978, grad=1.4281), Var(v=-0.0412, grad=-1.3095), Var(v=-0.0057, grad=-1.5707), Var(v=-0.1302, grad=2.2171), Var(v=-0.0610, grad=0.0000), Var(v=0.1422, grad=-1.1508), Var(v=-0.0970, grad=1.4911), Var(v=0.0477, grad=0.0548), Var(v=-0.1029, grad=0.1180), Var(v=0.0621, grad=-1.2120), Var(v=0.0125, grad=0.0000), Var(v=-0.0285, grad=0.0000), Var(v=-0.1218, grad=0.0000), Var(v=0.1958, grad=-0.0730), Var(v=0.0567, grad=-2.7191), Var(v=-0.0165, grad=-0.4561), Var(v=-0.0383, grad=0.0000), Var(v=-0.0515, grad=-2.3412), Var(v=-0.0845, grad=0.0000), Var(v=-0.1731, grad=0.0000), Var(v=-0.0573, grad=0.0000), Var(v=0.0088, grad=0.0000), Var(v=-0.0122, grad=0.0000), Var(v=0.0149, grad=0.3567), Var(v=-0.1165, grad=0.0000), Var(v=0.0775, grad=-0.3661), Var(v=0.0692, grad=-1.0227), Var(v=0.0531, grad=-0.8433), Var(v=-0.1502, grad=0.0000), Var(v=-0.0415, grad=0.0000), Var(v=0.0977, grad=0.0000), Var(v=0.1083, grad=0.0000), Var(v=0.0761, grad=1.2847), Var(v=0.1029, grad=0.8619), Var(v=0.0833, grad=-0.6613), Var(v=0.0048, grad=-0.8750), Var(v=0.0310, grad=0.0000), Var(v=0.1041, grad=-1.2133), Var(v=0.1127, grad=-0.7354), Var(v=-0.0907, grad=-1.8837)], [Var(v=-0.1464, grad=-1.0268), Var(v=-0.1008, grad=0.2813), Var(v=-0.1788, grad=0.0000), Var(v=0.1397, grad=0.0000), Var(v=0.1766, grad=0.7152), Var(v=-0.0839, grad=0.0000), Var(v=-0.0713, grad=-0.2416), Var(v=0.0781, grad=0.3539), Var(v=-0.0722, grad=0.0000), Var(v=0.0173, grad=0.0000), Var(v=-0.0756, grad=-0.3620), Var(v=0.0047, grad=0.3319), Var(v=-0.0533, grad=0.0000), Var(v=0.0090, grad=-0.5620), Var(v=-0.2153, grad=0.0879), Var(v=-0.0643, grad=0.2917), Var(v=-0.0617, grad=0.0000), Var(v=0.1380, grad=-0.0139), Var(v=-0.0527, grad=0.0000), Var(v=0.0232, grad=0.0000), Var(v=-0.1630, grad=0.0000), Var(v=-0.0824, grad=0.0000), Var(v=-0.0878, grad=0.1686), Var(v=-0.0940, grad=0.0185), Var(v=0.0302, grad=0.6892), Var(v=-0.0358, grad=0.1156), Var(v=0.1409, grad=0.4556), Var(v=0.0972, grad=0.0000), Var(v=0.0044, grad=0.0000), Var(v=-0.1425, grad=0.0000), Var(v=0.1267, grad=0.0000), Var(v=0.1172, grad=0.6908), Var(v=0.0401, grad=0.0000), Var(v=-0.0594, grad=-0.0904), Var(v=-0.2004, grad=0.0232), Var(v=-0.1990, grad=0.0000), Var(v=-0.1833, grad=0.2592), Var(v=0.0052, grad=0.0000), Var(v=-0.1432, grad=-0.9718), Var(v=-0.1633, grad=0.0000), Var(v=-0.1927, grad=0.0000), Var(v=-0.0242, grad=0.0000), Var(v=-0.1279, grad=0.0000), Var(v=-0.1233, grad=0.0000), Var(v=0.1896, grad=0.0000), Var(v=0.1281, grad=0.2218), Var(v=-0.0030, grad=-0.1282), Var(v=-0.0856, grad=0.0000), Var(v=0.0849, grad=0.1864), Var(v=-0.0116, grad=0.4775)], [Var(v=-0.1661, grad=0.0000), Var(v=0.0868, grad=0.0000), Var(v=0.0080, grad=0.0000), Var(v=0.0299, grad=0.0000), Var(v=0.0074, grad=0.0000), Var(v=0.1329, grad=0.0000), Var(v=0.0910, grad=0.4823), Var(v=-0.1698, grad=0.0000), Var(v=0.1825, grad=0.0000), Var(v=-0.0213, grad=0.0000), Var(v=0.1044, grad=0.7227), Var(v=-0.0584, grad=-0.6627), Var(v=0.1586, grad=-0.7948), Var(v=0.0418, grad=1.1219), Var(v=0.0074, grad=0.0000), Var(v=0.0787, grad=-0.5824), Var(v=0.0458, grad=0.7546), Var(v=0.0375, grad=0.0277), Var(v=0.0996, grad=0.0597), Var(v=0.1812, grad=-0.6133), Var(v=-0.0125, grad=0.0000), Var(v=0.1064, grad=0.0000), Var(v=0.1605, grad=0.0000), Var(v=0.0734, grad=-0.0370), Var(v=-0.0788, grad=-1.3760), Var(v=0.1474, grad=-0.2308), Var(v=0.0481, grad=0.0000), Var(v=-0.1297, grad=-1.1847), Var(v=-0.0882, grad=0.0000), Var(v=0.0283, grad=0.0000), Var(v=-0.0063, grad=0.0000), Var(v=0.0476, grad=0.0000), Var(v=-0.1024, grad=0.0000), Var(v=0.2016, grad=0.1805), Var(v=0.0737, grad=0.0000), Var(v=0.1814, grad=-0.1852), Var(v=-0.0657, grad=-0.5175), Var(v=-0.0147, grad=-0.4268), Var(v=-0.1193, grad=0.0000), Var(v=-0.0469, grad=0.0000), Var(v=-0.1291, grad=0.0000), Var(v=-0.2350, grad=0.0000), Var(v=0.0141, grad=0.6501), Var(v=-0.0984, grad=0.4362), Var(v=-0.0760, grad=-0.3346), Var(v=0.0679, grad=-0.4428), Var(v=0.0197, grad=0.0000), Var(v=-0.1019, grad=-0.6140), Var(v=0.0152, grad=-0.3722), Var(v=-0.1643, grad=-0.9532)], [Var(v=0.0774, grad=0.0000), Var(v=0.0592, grad=0.0000), Var(v=0.0094, grad=0.0000), Var(v=0.1156, grad=0.0000), Var(v=-0.0928, grad=0.0000), Var(v=-0.0603, grad=0.0000), Var(v=-0.0466, grad=0.6330), Var(v=0.0278, grad=0.0000), Var(v=0.0995, grad=0.0000), Var(v=0.1193, grad=0.0000), Var(v=0.0211, grad=0.9485), Var(v=0.0505, grad=-0.8698), Var(v=-0.0282, grad=-1.0432), Var(v=-0.0869, grad=1.4725), Var(v=-0.1251, grad=0.0000), Var(v=0.0909, grad=-0.7644), Var(v=0.1162, grad=0.9903), Var(v=-0.0596, grad=0.0364), Var(v=-0.0640, grad=0.0784), Var(v=-0.0056, grad=-0.8050), Var(v=-0.2499, grad=0.0000), Var(v=0.0770, grad=0.0000), Var(v=-0.0012, grad=0.0000), Var(v=-0.0565, grad=-0.0485), Var(v=-0.0183, grad=-1.8059), Var(v=-0.1148, grad=-0.3029), Var(v=-0.0776, grad=0.0000), Var(v=-0.0732, grad=-1.5549), Var(v=-0.0469, grad=0.0000), Var(v=0.0294, grad=0.0000), Var(v=0.0843, grad=0.0000), Var(v=0.0193, grad=0.0000), Var(v=0.1123, grad=0.0000), Var(v=0.0089, grad=0.2369), Var(v=0.0468, grad=0.0000), Var(v=-0.0448, grad=-0.2431), Var(v=0.2043, grad=-0.6792), Var(v=-0.0724, grad=-0.5601), Var(v=0.1268, grad=0.0000), Var(v=-0.0228, grad=0.0000), Var(v=0.1127, grad=0.0000), Var(v=-0.1008, grad=0.0000), Var(v=0.1017, grad=0.8533), Var(v=0.2103, grad=0.5725), Var(v=0.0311, grad=-0.4392), Var(v=0.0664, grad=-0.5811), Var(v=-0.2104, grad=0.0000), Var(v=0.0611, grad=-0.8058), Var(v=-0.0116, grad=-0.4885), Var(v=0.0968, grad=-1.2511)], [Var(v=-0.1036, grad=0.0000), Var(v=-0.1295, grad=0.0000), Var(v=0.0368, grad=0.0000), Var(v=0.0104, grad=0.0000), Var(v=-0.0956, grad=0.0000), Var(v=0.0653, grad=0.0000), Var(v=0.0268, grad=0.6226), Var(v=0.1777, grad=0.0000), Var(v=-0.1624, grad=0.0000), Var(v=0.0284, grad=0.0000), Var(v=0.0083, grad=0.9330), Var(v=0.0339, grad=-0.8555), Var(v=-0.0981, grad=-1.0261), Var(v=0.1199, grad=1.4485), Var(v=0.0358, grad=0.0000), Var(v=-0.0789, grad=-0.7519), Var(v=0.0027, grad=0.9742), Var(v=0.0977, grad=0.0358), Var(v=-0.0153, grad=0.0771), Var(v=0.0039, grad=-0.7918), Var(v=-0.0736, grad=0.0000), Var(v=0.0275, grad=0.0000), Var(v=-0.1199, grad=0.0000), Var(v=0.0400, grad=-0.0477), Var(v=0.1344, grad=-1.7764), Var(v=0.1358, grad=-0.2980), Var(v=-0.0611, grad=0.0000), Var(v=0.0549, grad=-1.5295), Var(v=0.0930, grad=0.0000), Var(v=-0.1273, grad=0.0000), Var(v=0.0092, grad=0.0000), Var(v=-0.1028, grad=0.0000), Var(v=0.1116, grad=0.0000), Var(v=-0.0544, grad=0.2330), Var(v=-0.1094, grad=0.0000), Var(v=0.2228, grad=-0.2392), Var(v=0.0739, grad=-0.6681), Var(v=-0.0328, grad=-0.5510), Var(v=-0.1043, grad=0.0000), Var(v=0.0112, grad=0.0000), Var(v=0.0401, grad=0.0000), Var(v=0.2031, grad=0.0000), Var(v=-0.0948, grad=0.8393), Var(v=0.0673, grad=0.5631), Var(v=0.1290, grad=-0.4320), Var(v=-0.0068, grad=-0.5716), Var(v=-0.0361, grad=0.0000), Var(v=-0.0324, grad=-0.7926), Var(v=-0.0078, grad=-0.4805), Var(v=0.0606, grad=-1.2307)], [Var(v=0.0188, grad=0.0000), Var(v=-0.1188, grad=0.0000), Var(v=0.0221, grad=0.0000), Var(v=-0.0946, grad=0.0000), Var(v=0.0042, grad=0.0000), Var(v=-0.1562, grad=0.0000), Var(v=0.1481, grad=0.9228), Var(v=0.0489, grad=0.0000), Var(v=-0.0856, grad=0.0000), Var(v=-0.0157, grad=0.0000), Var(v=0.1730, grad=1.3827), Var(v=-0.0663, grad=-1.2680), Var(v=0.0305, grad=-1.5208), Var(v=0.0783, grad=2.1468), Var(v=-0.2123, grad=0.0000), Var(v=-0.0206, grad=-1.1143), Var(v=-0.1180, grad=1.4438), Var(v=-0.0026, grad=0.0530), Var(v=0.2708, grad=0.1143), Var(v=-0.0830, grad=-1.1735), Var(v=-0.0368, grad=0.0000), Var(v=-0.1189, grad=0.0000), Var(v=-0.1119, grad=0.0000), Var(v=0.0862, grad=-0.0707), Var(v=-0.0073, grad=-2.6328), Var(v=-0.0102, grad=-0.4416), Var(v=-0.0728, grad=0.0000), Var(v=0.1211, grad=-2.2669), Var(v=-0.0104, grad=0.0000), Var(v=0.0424, grad=0.0000), Var(v=0.0292, grad=0.0000), Var(v=0.0769, grad=0.0000), Var(v=-0.0456, grad=0.0000), Var(v=-0.1017, grad=0.3453), Var(v=0.0429, grad=0.0000), Var(v=0.1884, grad=-0.3544), Var(v=0.0157, grad=-0.9902), Var(v=0.0987, grad=-0.8166), Var(v=-0.1303, grad=0.0000), Var(v=-0.1444, grad=0.0000), Var(v=-0.0215, grad=0.0000), Var(v=-0.0983, grad=0.0000), Var(v=0.1782, grad=1.2440), Var(v=0.0187, grad=0.8346), Var(v=0.1431, grad=-0.6403), Var(v=0.1376, grad=-0.8472), Var(v=-0.3457, grad=0.0000), Var(v=0.2000, grad=-1.1748), Var(v=-0.0104, grad=-0.7121), Var(v=0.0296, grad=-1.8240)], [Var(v=0.1055, grad=0.0000), Var(v=0.0575, grad=0.0000), Var(v=0.0114, grad=0.0000), Var(v=-0.1977, grad=0.0000), Var(v=0.1068, grad=0.0000), Var(v=0.0879, grad=0.0000), Var(v=-0.0663, grad=0.0869), Var(v=0.0341, grad=0.0000), Var(v=-0.1483, grad=0.0000), Var(v=-0.0686, grad=0.0000), Var(v=-0.0245, grad=0.1302), Var(v=0.1524, grad=-0.1194), Var(v=0.0324, grad=-0.1432), Var(v=0.0101, grad=0.2021), Var(v=0.1126, grad=0.0000), Var(v=0.0384, grad=-0.1049), Var(v=0.1272, grad=0.1359), Var(v=0.1333, grad=0.0050), Var(v=-0.1121, grad=0.0108), Var(v=-0.0634, grad=-0.1105), Var(v=0.1082, grad=0.0000), Var(v=-0.0071, grad=0.0000), Var(v=-0.0566, grad=0.0000), Var(v=0.0640, grad=-0.0067), Var(v=-0.0198, grad=-0.2479), Var(v=0.0821, grad=-0.0416), Var(v=0.1465, grad=0.0000), Var(v=-0.1133, grad=-0.2134), Var(v=0.0496, grad=0.0000), Var(v=0.0021, grad=0.0000), Var(v=0.0910, grad=0.0000), Var(v=-0.0547, grad=0.0000), Var(v=0.1491, grad=0.0000), Var(v=-0.0715, grad=0.0325), Var(v=-0.0038, grad=0.0000), Var(v=-0.0723, grad=-0.0334), Var(v=-0.0025, grad=-0.0932), Var(v=-0.0671, grad=-0.0769), Var(v=0.1377, grad=0.0000), Var(v=0.0334, grad=0.0000), Var(v=0.0588, grad=0.0000), Var(v=0.1722, grad=0.0000), Var(v=-0.0420, grad=0.1171), Var(v=0.0854, grad=0.0786), Var(v=0.0355, grad=-0.0603), Var(v=0.2047, grad=-0.0798), Var(v=0.1603, grad=0.0000), Var(v=0.0399, grad=-0.1106), Var(v=-0.0441, grad=-0.0671), Var(v=0.0249, grad=-0.1717)], [Var(v=-0.0122, grad=0.0000), Var(v=-0.1526, grad=0.0000), Var(v=0.0044, grad=0.0000), Var(v=0.0478, grad=0.0000), Var(v=-0.0360, grad=0.0000), Var(v=-0.0433, grad=0.0000), Var(v=-0.0534, grad=0.3182), Var(v=-0.0535, grad=0.0000), Var(v=0.0074, grad=0.0000), Var(v=0.0461, grad=0.0000), Var(v=-0.0520, grad=0.4769), Var(v=0.0336, grad=-0.4373), Var(v=-0.0485, grad=-0.5245), Var(v=-0.1575, grad=0.7404), Var(v=-0.0323, grad=0.0000), Var(v=0.0112, grad=-0.3843), Var(v=-0.0563, grad=0.4979), Var(v=0.0801, grad=0.0183), Var(v=0.0921, grad=0.0394), Var(v=-0.0089, grad=-0.4047), Var(v=-0.0847, grad=0.0000), Var(v=-0.0553, grad=0.0000), Var(v=-0.1196, grad=0.0000), Var(v=0.0997, grad=-0.0244), Var(v=-0.0439, grad=-0.9080), Var(v=-0.0949, grad=-0.1523), Var(v=-0.1157, grad=0.0000), Var(v=0.0541, grad=-0.7818), Var(v=-0.0502, grad=0.0000), Var(v=-0.2502, grad=0.0000), Var(v=0.0208, grad=0.0000), Var(v=-0.2060, grad=0.0000), Var(v=-0.0608, grad=0.0000), Var(v=-0.1041, grad=0.1191), Var(v=0.0909, grad=0.0000), Var(v=0.0849, grad=-0.1222), Var(v=0.0641, grad=-0.3415), Var(v=0.0774, grad=-0.2816), Var(v=-0.0271, grad=0.0000), Var(v=-0.0504, grad=0.0000), Var(v=-0.0205, grad=0.0000), Var(v=-0.0970, grad=0.0000), Var(v=0.0158, grad=0.4290), Var(v=-0.1447, grad=0.2878), Var(v=-0.0835, grad=-0.2208), Var(v=0.3008, grad=-0.2922), Var(v=-0.0439, grad=0.0000), Var(v=-0.0204, grad=-0.4052), Var(v=-0.0399, grad=-0.2456), Var(v=-0.1281, grad=-0.6290)], [Var(v=0.0923, grad=-3.7074), Var(v=0.2379, grad=1.0158), Var(v=-0.0742, grad=0.0000), Var(v=-0.0060, grad=0.0000), Var(v=0.0763, grad=2.5824), Var(v=-0.0973, grad=0.0000), Var(v=0.2128, grad=-0.8722), Var(v=0.1435, grad=1.2777), Var(v=0.0361, grad=0.0000), Var(v=0.0539, grad=0.0000), Var(v=0.0603, grad=-1.3070), Var(v=0.0984, grad=1.1985), Var(v=-0.0561, grad=0.0000), Var(v=0.0569, grad=-2.0291), Var(v=0.1429, grad=0.3174), Var(v=0.1218, grad=1.0533), Var(v=0.0086, grad=0.0000), Var(v=0.2450, grad=-0.0501), Var(v=0.0760, grad=0.0000), Var(v=-0.0188, grad=0.0000), Var(v=0.0623, grad=0.0000), Var(v=-0.0876, grad=0.0000), Var(v=0.1265, grad=0.6088), Var(v=-0.0296, grad=0.0668), Var(v=-0.0029, grad=2.4886), Var(v=0.0364, grad=0.4174), Var(v=0.2034, grad=1.6452), Var(v=-0.1718, grad=0.0000), Var(v=-0.0058, grad=0.0000), Var(v=-0.1171, grad=0.0000), Var(v=0.1971, grad=0.0000), Var(v=0.1023, grad=2.4942), Var(v=-0.0291, grad=0.0000), Var(v=0.1701, grad=-0.3264), Var(v=0.1032, grad=0.0839), Var(v=0.0818, grad=0.0000), Var(v=0.1516, grad=0.9360), Var(v=-0.1808, grad=0.0000), Var(v=-0.0135, grad=-3.5089), Var(v=-0.0573, grad=0.0000), Var(v=-0.1584, grad=0.0000), Var(v=-0.0752, grad=0.0000), Var(v=-0.0677, grad=0.0000), Var(v=-0.0918, grad=0.0000), Var(v=0.0552, grad=0.0000), Var(v=0.1065, grad=0.8008), Var(v=-0.0418, grad=-0.4629), Var(v=0.1032, grad=0.0000), Var(v=0.0806, grad=0.6731), Var(v=0.0575, grad=1.7240)], [Var(v=0.0288, grad=0.0000), Var(v=-0.2004, grad=0.0000), Var(v=0.1581, grad=0.0000), Var(v=0.1431, grad=0.0000), Var(v=-0.0492, grad=0.0000), Var(v=-0.0750, grad=0.0000), Var(v=-0.0055, grad=0.9716), Var(v=-0.1462, grad=0.0000), Var(v=-0.0008, grad=0.0000), Var(v=-0.0836, grad=0.0000), Var(v=0.0347, grad=1.4559), Var(v=0.1383, grad=-1.3350), Var(v=-0.0190, grad=-1.6013), Var(v=0.0357, grad=2.2603), Var(v=0.0555, grad=0.0000), Var(v=-0.0390, grad=-1.1732), Var(v=0.1296, grad=1.5201), Var(v=0.0662, grad=0.0558), Var(v=0.0821, grad=0.1203), Var(v=0.2545, grad=-1.2356), Var(v=-0.0737, grad=0.0000), Var(v=-0.1014, grad=0.0000), Var(v=-0.0325, grad=0.0000), Var(v=0.0344, grad=-0.0745), Var(v=0.0437, grad=-2.7720), Var(v=0.0785, grad=-0.4650), Var(v=0.1931, grad=0.0000), Var(v=0.2107, grad=-2.3867), Var(v=-0.0979, grad=0.0000), Var(v=0.0343, grad=0.0000), Var(v=-0.1272, grad=0.0000), Var(v=-0.0431, grad=0.0000), Var(v=0.0690, grad=0.0000), Var(v=-0.0299, grad=0.3636), Var(v=0.0689, grad=0.0000), Var(v=0.0262, grad=-0.3732), Var(v=-0.0811, grad=-1.0426), Var(v=0.0024, grad=-0.8598), Var(v=-0.0198, grad=0.0000), Var(v=-0.0656, grad=0.0000), Var(v=-0.0627, grad=0.0000), Var(v=0.0241, grad=0.0000), Var(v=-0.0463, grad=1.3097), Var(v=0.1581, grad=0.8787), Var(v=-0.0347, grad=-0.6742), Var(v=0.1257, grad=-0.8920), Var(v=-0.0595, grad=0.0000), Var(v=0.0764, grad=-1.2369), Var(v=0.2088, grad=-0.7497), Var(v=0.0289, grad=-1.9204)], [Var(v=0.0065, grad=-2.8200), Var(v=-0.0806, grad=0.7727), Var(v=-0.0275, grad=0.0000), Var(v=0.0289, grad=0.0000), Var(v=0.2131, grad=1.9642), Var(v=-0.0232, grad=0.0000), Var(v=0.1790, grad=-0.6634), Var(v=-0.0570, grad=0.9718), Var(v=0.0487, grad=0.0000), Var(v=-0.2581, grad=0.0000), Var(v=-0.1297, grad=-0.9941), Var(v=0.0021, grad=0.9116), Var(v=-0.1316, grad=0.0000), Var(v=0.1971, grad=-1.5434), Var(v=-0.0533, grad=0.2414), Var(v=0.0962, grad=0.8012), Var(v=-0.0251, grad=0.0000), Var(v=0.0659, grad=-0.0381), Var(v=-0.0059, grad=0.0000), Var(v=-0.1162, grad=0.0000), Var(v=-0.1728, grad=0.0000), Var(v=-0.0269, grad=0.0000), Var(v=-0.0780, grad=0.4631), Var(v=0.1021, grad=0.0508), Var(v=-0.0044, grad=1.8929), Var(v=0.1590, grad=0.3175), Var(v=0.0475, grad=1.2514), Var(v=0.0471, grad=0.0000), Var(v=-0.0257, grad=0.0000), Var(v=0.1864, grad=0.0000), Var(v=-0.0543, grad=0.0000), Var(v=0.0880, grad=1.8972), Var(v=-0.1958, grad=0.0000), Var(v=0.0784, grad=-0.2483), Var(v=-0.0746, grad=0.0638), Var(v=0.0416, grad=0.0000), Var(v=0.0977, grad=0.7119), Var(v=0.0137, grad=0.0000), Var(v=0.0355, grad=-2.6690), Var(v=-0.1097, grad=0.0000), Var(v=-0.1011, grad=0.0000), Var(v=-0.0965, grad=0.0000), Var(v=0.0541, grad=0.0000), Var(v=-0.1336, grad=0.0000), Var(v=0.0379, grad=0.0000), Var(v=-0.1191, grad=0.6091), Var(v=0.2283, grad=-0.3521), Var(v=-0.1450, grad=0.0000), Var(v=0.0507, grad=0.5120), Var(v=-0.1419, grad=1.3114)], [Var(v=-0.0055, grad=-1.2601), Var(v=0.0598, grad=0.3453), Var(v=0.1125, grad=0.0000), Var(v=0.1914, grad=0.0000), Var(v=0.1173, grad=0.8777), Var(v=0.0544, grad=0.0000), Var(v=-0.0853, grad=-0.2965), Var(v=0.0689, grad=0.4343), Var(v=-0.1027, grad=0.0000), Var(v=-0.0041, grad=0.0000), Var(v=0.1605, grad=-0.4442), Var(v=0.0818, grad=0.4073), Var(v=0.0163, grad=0.0000), Var(v=-0.0797, grad=-0.6897), Var(v=0.0599, grad=0.1079), Var(v=-0.2134, grad=0.3580), Var(v=-0.0976, grad=0.0000), Var(v=0.0693, grad=-0.0170), Var(v=-0.0797, grad=0.0000), Var(v=0.1395, grad=0.0000), Var(v=-0.1646, grad=0.0000), Var(v=-0.0458, grad=0.0000), Var(v=0.0036, grad=0.2069), Var(v=0.0503, grad=0.0227), Var(v=0.0022, grad=0.8458), Var(v=-0.2139, grad=0.1419), Var(v=-0.0776, grad=0.5591), Var(v=0.0990, grad=0.0000), Var(v=0.2612, grad=0.0000), Var(v=0.1072, grad=0.0000), Var(v=-0.1689, grad=0.0000), Var(v=0.1071, grad=0.8477), Var(v=-0.0727, grad=0.0000), Var(v=-0.0036, grad=-0.1109), Var(v=-0.0147, grad=0.0285), Var(v=-0.0180, grad=0.0000), Var(v=-0.1487, grad=0.3181), Var(v=0.0670, grad=0.0000), Var(v=0.0681, grad=-1.1926), Var(v=0.0521, grad=0.0000), Var(v=0.0773, grad=0.0000), Var(v=-0.1340, grad=0.0000), Var(v=-0.0166, grad=0.0000), Var(v=0.1415, grad=0.0000), Var(v=0.0025, grad=0.0000), Var(v=0.2215, grad=0.2722), Var(v=0.1850, grad=-0.1573), Var(v=-0.0028, grad=0.0000), Var(v=-0.0855, grad=0.2288), Var(v=-0.0773, grad=0.5860)]] Biases: [Var(v=0.0000, grad=-22.6477), Var(v=0.0000, grad=6.2055), Var(v=0.0000, grad=0.0000), Var(v=0.0000, grad=0.0000), Var(v=0.0000, grad=15.7750), Var(v=0.0000, grad=0.0000), Var(v=0.0000, grad=-0.1738), Var(v=0.0000, grad=7.8050), Var(v=0.0000, grad=0.0000), Var(v=0.0000, grad=0.0000), Var(v=0.0000, grad=-0.2604), Var(v=0.0000, grad=0.2388), Var(v=0.0000, grad=-8.4950), Var(v=0.0000, grad=-0.4043), Var(v=0.0000, grad=1.9388), Var(v=0.0000, grad=0.2098), Var(v=0.0000, grad=8.0646), Var(v=0.0000, grad=-0.0100), Var(v=0.0000, grad=0.6383), Var(v=0.0000, grad=-6.5551), Var(v=0.0000, grad=0.0000), Var(v=0.0000, grad=0.0000), Var(v=0.0000, grad=3.7188), Var(v=0.0000, grad=0.0133), Var(v=0.0000, grad=0.4958), Var(v=0.0000, grad=0.0832), Var(v=0.0000, grad=10.0497), Var(v=0.0000, grad=-12.6620), Var(v=0.0000, grad=0.0000), Var(v=0.0000, grad=0.0000), Var(v=0.0000, grad=0.0000), Var(v=0.0000, grad=15.2366), Var(v=0.0000, grad=0.0000), Var(v=0.0000, grad=-0.0650), Var(v=0.0000, grad=0.5126), Var(v=0.0000, grad=-1.9798), Var(v=0.0000, grad=0.1865), Var(v=0.0000, grad=-4.5612), Var(v=0.0000, grad=-21.4346), Var(v=0.0000, grad=0.0000), Var(v=0.0000, grad=0.0000), Var(v=0.0000, grad=0.0000), Var(v=0.0000, grad=6.9484), Var(v=0.0000, grad=4.6618), Var(v=0.0000, grad=-3.5765), Var(v=0.0000, grad=0.1595), Var(v=0.0000, grad=-2.8276), Var(v=0.0000, grad=-6.5620), Var(v=0.0000, grad=0.1341), Var(v=0.0000, grad=0.3435)]\n",
      "Layer 2 \n",
      " Weights: [[Var(v=-0.2538, grad=0.6487)], [Var(v=0.0695, grad=1.4132)], [Var(v=-0.1044, grad=0.0000)], [Var(v=0.0164, grad=0.0000)], [Var(v=0.1768, grad=6.7483)], [Var(v=-0.1673, grad=0.0000)], [Var(v=-0.0597, grad=0.8262)], [Var(v=0.0875, grad=0.8373)], [Var(v=0.0633, grad=0.0000)], [Var(v=-0.0580, grad=0.0000)], [Var(v=-0.0895, grad=-6.1897)], [Var(v=0.0820, grad=1.0826)], [Var(v=0.0984, grad=-1.5433)], [Var(v=-0.1389, grad=-1.5819)], [Var(v=0.0217, grad=4.3244)], [Var(v=0.0721, grad=0.2866)], [Var(v=-0.0934, grad=-0.0330)], [Var(v=-0.0034, grad=-1.3128)], [Var(v=-0.0074, grad=-2.4131)], [Var(v=0.0759, grad=-4.3018)], [Var(v=-0.0372, grad=0.0000)], [Var(v=0.0205, grad=0.0000)], [Var(v=0.0417, grad=2.2521)], [Var(v=0.0046, grad=-2.3156)], [Var(v=0.1703, grad=0.2818)], [Var(v=0.0286, grad=1.7289)], [Var(v=0.1126, grad=2.0183)], [Var(v=0.1467, grad=-2.8803)], [Var(v=0.0678, grad=0.0000)], [Var(v=0.1744, grad=0.0000)], [Var(v=-0.0891, grad=0.0000)], [Var(v=0.1707, grad=0.5456)], [Var(v=0.1111, grad=0.0000)], [Var(v=-0.0223, grad=0.8209)], [Var(v=0.0057, grad=1.1603)], [Var(v=0.0229, grad=-6.5705)], [Var(v=0.0641, grad=-0.5435)], [Var(v=0.0528, grad=-0.7423)], [Var(v=-0.2402, grad=1.2465)], [Var(v=0.0455, grad=0.0000)], [Var(v=0.0730, grad=0.0000)], [Var(v=0.1693, grad=0.0000)], [Var(v=-0.0805, grad=-2.4263)], [Var(v=-0.0540, grad=-7.1223)], [Var(v=0.0414, grad=-3.7350)], [Var(v=0.0548, grad=-3.4288)], [Var(v=-0.0317, grad=1.9413)], [Var(v=0.0760, grad=-3.6695)], [Var(v=0.0461, grad=-1.5920)], [Var(v=0.1180, grad=0.3041)]] Biases: [Var(v=0.0000, grad=2.9105)]\n",
      "\n",
      "Network after update:\n",
      "Layer 0 \n",
      " Weights: [[Var(v=-0.1821, grad=-1.8363), Var(v=0.1127, grad=4.2726), Var(v=0.0151, grad=-1.3705), Var(v=0.1847, grad=-2.5796), Var(v=0.0932, grad=-13.4426), Var(v=0.0298, grad=5.0632), Var(v=0.1074, grad=-0.1850), Var(v=0.1298, grad=-2.6045), Var(v=0.1633, grad=-0.9433), Var(v=0.0156, grad=-0.1162), Var(v=0.0972, grad=-4.4108), Var(v=-0.0647, grad=-8.4147), Var(v=0.2240, grad=-6.2027), Var(v=-0.1197, grad=0.6438), Var(v=-0.0525, grad=0.1923)]] Biases: [Var(v=-0.0167, grad=1.6698), Var(v=-0.0367, grad=3.6709), Var(v=0.0118, grad=-1.1775), Var(v=0.0222, grad=-2.2163), Var(v=-0.1222, grad=12.2233), Var(v=-0.0435, grad=4.3502), Var(v=0.0016, grad=-0.1590), Var(v=0.0224, grad=-2.2377), Var(v=0.0081, grad=-0.8105), Var(v=0.0010, grad=-0.0998), Var(v=0.0379, grad=-3.7897), Var(v=-0.0765, grad=7.6515), Var(v=0.0533, grad=-5.3293), Var(v=0.0059, grad=-0.5854), Var(v=0.0017, grad=-0.1748)]\n",
      "Layer 1 \n",
      " Weights: [[Var(v=0.0422, grad=-4.9926), Var(v=-0.0674, grad=1.3680), Var(v=0.0637, grad=0.0000), Var(v=-0.1049, grad=0.0000), Var(v=0.0653, grad=3.4776), Var(v=-0.0400, grad=0.0000), Var(v=0.0757, grad=-1.1746), Var(v=-0.0825, grad=1.7206), Var(v=-0.0424, grad=0.0000), Var(v=0.0651, grad=0.0000), Var(v=0.0566, grad=-1.7601), Var(v=0.0348, grad=1.6140), Var(v=-0.2363, grad=0.0000), Var(v=-0.0612, grad=-2.7325), Var(v=0.1687, grad=0.4274), Var(v=0.0699, grad=1.4184), Var(v=0.0437, grad=0.0000), Var(v=-0.0694, grad=-0.0675), Var(v=-0.1252, grad=0.0000), Var(v=-0.0372, grad=0.0000), Var(v=0.0220, grad=0.0000), Var(v=-0.0491, grad=0.0000), Var(v=0.0736, grad=0.8198), Var(v=0.1019, grad=0.0900), Var(v=0.0384, grad=3.3512), Var(v=0.0945, grad=0.5621), Var(v=-0.1069, grad=2.2154), Var(v=0.0033, grad=0.0000), Var(v=-0.1781, grad=0.0000), Var(v=-0.0971, grad=0.0000), Var(v=-0.2310, grad=0.0000), Var(v=-0.1827, grad=3.3589), Var(v=0.0604, grad=0.0000), Var(v=-0.0357, grad=-0.4396), Var(v=0.0683, grad=0.1130), Var(v=-0.0643, grad=0.0000), Var(v=0.0285, grad=1.2604), Var(v=0.0327, grad=0.0000), Var(v=0.1128, grad=-4.7252), Var(v=0.0980, grad=0.0000), Var(v=0.1112, grad=0.0000), Var(v=-0.0582, grad=0.0000), Var(v=0.0371, grad=0.0000), Var(v=0.1095, grad=0.0000), Var(v=-0.2241, grad=0.0000), Var(v=0.0547, grad=1.0784), Var(v=-0.0391, grad=-0.6233), Var(v=-0.1141, grad=0.0000), Var(v=0.0392, grad=0.9064), Var(v=0.0603, grad=2.3217)], [Var(v=-0.1064, grad=0.0000), Var(v=0.2587, grad=0.0000), Var(v=-0.1756, grad=0.0000), Var(v=-0.0877, grad=0.0000), Var(v=0.0413, grad=0.0000), Var(v=-0.0240, grad=0.0000), Var(v=0.1305, grad=0.9323), Var(v=-0.0246, grad=0.0000), Var(v=-0.1012, grad=0.0000), Var(v=-0.1173, grad=0.0000), Var(v=-0.0362, grad=1.3970), Var(v=0.0393, grad=-1.2811), Var(v=0.1263, grad=-1.5366), Var(v=0.1672, grad=2.1689), Var(v=-0.1905, grad=0.0000), Var(v=0.0548, grad=-1.1258), Var(v=-0.0285, grad=1.4587), Var(v=0.1307, grad=0.0536), Var(v=-0.1122, grad=0.1154), Var(v=-0.0424, grad=-1.1857), Var(v=0.0166, grad=0.0000), Var(v=0.0056, grad=0.0000), Var(v=-0.0189, grad=0.0000), Var(v=-0.0725, grad=-0.0714), Var(v=-0.0139, grad=-2.6600), Var(v=-0.0278, grad=-0.4462), Var(v=-0.0201, grad=0.0000), Var(v=-0.0084, grad=-2.2903), Var(v=-0.1260, grad=0.0000), Var(v=-0.0083, grad=0.0000), Var(v=-0.0259, grad=0.0000), Var(v=-0.0554, grad=0.0000), Var(v=-0.1143, grad=0.0000), Var(v=0.1774, grad=0.3489), Var(v=-0.0989, grad=0.0000), Var(v=-0.1053, grad=-0.3581), Var(v=0.0376, grad=-1.0004), Var(v=-0.0398, grad=-0.8250), Var(v=0.0043, grad=0.0000), Var(v=0.1443, grad=0.0000), Var(v=-0.1653, grad=0.0000), Var(v=-0.1183, grad=0.0000), Var(v=-0.0752, grad=1.2568), Var(v=0.0644, grad=0.8432), Var(v=0.0133, grad=-0.6469), Var(v=-0.0406, grad=-0.8560), Var(v=-0.0120, grad=0.0000), Var(v=-0.1013, grad=-1.1869), Var(v=-0.0242, grad=-0.7195), Var(v=0.0837, grad=-1.8428)], [Var(v=-0.1751, grad=0.0000), Var(v=0.0186, grad=0.0000), Var(v=-0.0714, grad=0.0000), Var(v=-0.0700, grad=0.0000), Var(v=0.0840, grad=0.0000), Var(v=-0.0938, grad=0.0000), Var(v=0.1139, grad=0.0083), Var(v=-0.0119, grad=0.0000), Var(v=-0.0177, grad=0.0000), Var(v=-0.1067, grad=0.0000), Var(v=-0.0068, grad=0.0125), Var(v=0.0418, grad=-0.0114), Var(v=-0.0611, grad=-0.0137), Var(v=-0.0127, grad=0.0194), Var(v=-0.0868, grad=0.0000), Var(v=0.0464, grad=-0.0101), Var(v=-0.0185, grad=0.0130), Var(v=-0.0550, grad=0.0005), Var(v=-0.1757, grad=0.0010), Var(v=-0.0371, grad=-0.0106), Var(v=0.1953, grad=0.0000), Var(v=0.0029, grad=0.0000), Var(v=0.0770, grad=0.0000), Var(v=-0.0036, grad=-0.0006), Var(v=-0.0440, grad=-0.0238), Var(v=-0.1746, grad=-0.0040), Var(v=0.0818, grad=0.0000), Var(v=0.1243, grad=-0.0205), Var(v=0.1421, grad=0.0000), Var(v=0.0258, grad=0.0000), Var(v=0.2777, grad=0.0000), Var(v=-0.0654, grad=0.0000), Var(v=-0.0753, grad=0.0000), Var(v=-0.0964, grad=0.0031), Var(v=0.0366, grad=0.0000), Var(v=0.2584, grad=-0.0032), Var(v=-0.2122, grad=-0.0089), Var(v=-0.0407, grad=-0.0074), Var(v=-0.0027, grad=0.0000), Var(v=0.1027, grad=0.0000), Var(v=0.0837, grad=0.0000), Var(v=-0.0083, grad=0.0000), Var(v=-0.2786, grad=0.0112), Var(v=-0.0555, grad=0.0075), Var(v=-0.1166, grad=-0.0058), Var(v=0.0369, grad=-0.0076), Var(v=-0.1083, grad=0.0000), Var(v=0.0429, grad=-0.0106), Var(v=0.1099, grad=-0.0064), Var(v=-0.1005, grad=-0.0165)], [Var(v=-0.0016, grad=0.0000), Var(v=-0.0409, grad=0.0000), Var(v=-0.0680, grad=0.0000), Var(v=-0.0659, grad=0.0000), Var(v=0.0203, grad=0.0000), Var(v=-0.0535, grad=0.0000), Var(v=0.0080, grad=0.9530), Var(v=-0.0314, grad=0.0000), Var(v=0.1326, grad=0.0000), Var(v=0.0136, grad=0.0000), Var(v=0.1835, grad=1.4281), Var(v=-0.0281, grad=-1.3095), Var(v=0.0100, grad=-1.5707), Var(v=-0.1524, grad=2.2171), Var(v=-0.0610, grad=0.0000), Var(v=0.1537, grad=-1.1508), Var(v=-0.1119, grad=1.4911), Var(v=0.0472, grad=0.0548), Var(v=-0.1041, grad=0.1180), Var(v=0.0742, grad=-1.2120), Var(v=0.0125, grad=0.0000), Var(v=-0.0285, grad=0.0000), Var(v=-0.1218, grad=0.0000), Var(v=0.1965, grad=-0.0730), Var(v=0.0839, grad=-2.7191), Var(v=-0.0119, grad=-0.4561), Var(v=-0.0383, grad=0.0000), Var(v=-0.0280, grad=-2.3412), Var(v=-0.0845, grad=0.0000), Var(v=-0.1731, grad=0.0000), Var(v=-0.0573, grad=0.0000), Var(v=0.0088, grad=0.0000), Var(v=-0.0122, grad=0.0000), Var(v=0.0113, grad=0.3567), Var(v=-0.1165, grad=0.0000), Var(v=0.0811, grad=-0.3661), Var(v=0.0794, grad=-1.0227), Var(v=0.0615, grad=-0.8433), Var(v=-0.1502, grad=0.0000), Var(v=-0.0415, grad=0.0000), Var(v=0.0977, grad=0.0000), Var(v=0.1083, grad=0.0000), Var(v=0.0633, grad=1.2847), Var(v=0.0943, grad=0.8619), Var(v=0.0900, grad=-0.6613), Var(v=0.0135, grad=-0.8750), Var(v=0.0310, grad=0.0000), Var(v=0.1162, grad=-1.2133), Var(v=0.1200, grad=-0.7354), Var(v=-0.0719, grad=-1.8837)], [Var(v=-0.1361, grad=-1.0268), Var(v=-0.1036, grad=0.2813), Var(v=-0.1788, grad=0.0000), Var(v=0.1397, grad=0.0000), Var(v=0.1694, grad=0.7152), Var(v=-0.0839, grad=0.0000), Var(v=-0.0689, grad=-0.2416), Var(v=0.0746, grad=0.3539), Var(v=-0.0722, grad=0.0000), Var(v=0.0173, grad=0.0000), Var(v=-0.0720, grad=-0.3620), Var(v=0.0014, grad=0.3319), Var(v=-0.0533, grad=0.0000), Var(v=0.0146, grad=-0.5620), Var(v=-0.2162, grad=0.0879), Var(v=-0.0672, grad=0.2917), Var(v=-0.0617, grad=0.0000), Var(v=0.1381, grad=-0.0139), Var(v=-0.0527, grad=0.0000), Var(v=0.0232, grad=0.0000), Var(v=-0.1630, grad=0.0000), Var(v=-0.0824, grad=0.0000), Var(v=-0.0895, grad=0.1686), Var(v=-0.0942, grad=0.0185), Var(v=0.0233, grad=0.6892), Var(v=-0.0369, grad=0.1156), Var(v=0.1364, grad=0.4556), Var(v=0.0972, grad=0.0000), Var(v=0.0044, grad=0.0000), Var(v=-0.1425, grad=0.0000), Var(v=0.1267, grad=0.0000), Var(v=0.1103, grad=0.6908), Var(v=0.0401, grad=0.0000), Var(v=-0.0585, grad=-0.0904), Var(v=-0.2006, grad=0.0232), Var(v=-0.1990, grad=0.0000), Var(v=-0.1859, grad=0.2592), Var(v=0.0052, grad=0.0000), Var(v=-0.1335, grad=-0.9718), Var(v=-0.1633, grad=0.0000), Var(v=-0.1927, grad=0.0000), Var(v=-0.0242, grad=0.0000), Var(v=-0.1279, grad=0.0000), Var(v=-0.1233, grad=0.0000), Var(v=0.1896, grad=0.0000), Var(v=0.1259, grad=0.2218), Var(v=-0.0017, grad=-0.1282), Var(v=-0.0856, grad=0.0000), Var(v=0.0831, grad=0.1864), Var(v=-0.0164, grad=0.4775)], [Var(v=-0.1661, grad=0.0000), Var(v=0.0868, grad=0.0000), Var(v=0.0080, grad=0.0000), Var(v=0.0299, grad=0.0000), Var(v=0.0074, grad=0.0000), Var(v=0.1329, grad=0.0000), Var(v=0.0862, grad=0.4823), Var(v=-0.1698, grad=0.0000), Var(v=0.1825, grad=0.0000), Var(v=-0.0213, grad=0.0000), Var(v=0.0971, grad=0.7227), Var(v=-0.0518, grad=-0.6627), Var(v=0.1665, grad=-0.7948), Var(v=0.0306, grad=1.1219), Var(v=0.0074, grad=0.0000), Var(v=0.0845, grad=-0.5824), Var(v=0.0383, grad=0.7546), Var(v=0.0372, grad=0.0277), Var(v=0.0990, grad=0.0597), Var(v=0.1873, grad=-0.6133), Var(v=-0.0125, grad=0.0000), Var(v=0.1064, grad=0.0000), Var(v=0.1605, grad=0.0000), Var(v=0.0738, grad=-0.0370), Var(v=-0.0651, grad=-1.3760), Var(v=0.1497, grad=-0.2308), Var(v=0.0481, grad=0.0000), Var(v=-0.1178, grad=-1.1847), Var(v=-0.0882, grad=0.0000), Var(v=0.0283, grad=0.0000), Var(v=-0.0063, grad=0.0000), Var(v=0.0476, grad=0.0000), Var(v=-0.1024, grad=0.0000), Var(v=0.1998, grad=0.1805), Var(v=0.0737, grad=0.0000), Var(v=0.1832, grad=-0.1852), Var(v=-0.0605, grad=-0.5175), Var(v=-0.0105, grad=-0.4268), Var(v=-0.1193, grad=0.0000), Var(v=-0.0469, grad=0.0000), Var(v=-0.1291, grad=0.0000), Var(v=-0.2350, grad=0.0000), Var(v=0.0076, grad=0.6501), Var(v=-0.1028, grad=0.4362), Var(v=-0.0727, grad=-0.3346), Var(v=0.0723, grad=-0.4428), Var(v=0.0197, grad=0.0000), Var(v=-0.0957, grad=-0.6140), Var(v=0.0189, grad=-0.3722), Var(v=-0.1547, grad=-0.9532)], [Var(v=0.0774, grad=0.0000), Var(v=0.0592, grad=0.0000), Var(v=0.0094, grad=0.0000), Var(v=0.1156, grad=0.0000), Var(v=-0.0928, grad=0.0000), Var(v=-0.0603, grad=0.0000), Var(v=-0.0530, grad=0.6330), Var(v=0.0278, grad=0.0000), Var(v=0.0995, grad=0.0000), Var(v=0.1193, grad=0.0000), Var(v=0.0116, grad=0.9485), Var(v=0.0592, grad=-0.8698), Var(v=-0.0178, grad=-1.0432), Var(v=-0.1016, grad=1.4725), Var(v=-0.1251, grad=0.0000), Var(v=0.0985, grad=-0.7644), Var(v=0.1063, grad=0.9903), Var(v=-0.0600, grad=0.0364), Var(v=-0.0648, grad=0.0784), Var(v=0.0025, grad=-0.8050), Var(v=-0.2499, grad=0.0000), Var(v=0.0770, grad=0.0000), Var(v=-0.0012, grad=0.0000), Var(v=-0.0560, grad=-0.0485), Var(v=-0.0002, grad=-1.8059), Var(v=-0.1118, grad=-0.3029), Var(v=-0.0776, grad=0.0000), Var(v=-0.0577, grad=-1.5549), Var(v=-0.0469, grad=0.0000), Var(v=0.0294, grad=0.0000), Var(v=0.0843, grad=0.0000), Var(v=0.0193, grad=0.0000), Var(v=0.1123, grad=0.0000), Var(v=0.0065, grad=0.2369), Var(v=0.0468, grad=0.0000), Var(v=-0.0424, grad=-0.2431), Var(v=0.2111, grad=-0.6792), Var(v=-0.0668, grad=-0.5601), Var(v=0.1268, grad=0.0000), Var(v=-0.0228, grad=0.0000), Var(v=0.1127, grad=0.0000), Var(v=-0.1008, grad=0.0000), Var(v=0.0932, grad=0.8533), Var(v=0.2046, grad=0.5725), Var(v=0.0355, grad=-0.4392), Var(v=0.0722, grad=-0.5811), Var(v=-0.2104, grad=0.0000), Var(v=0.0691, grad=-0.8058), Var(v=-0.0068, grad=-0.4885), Var(v=0.1093, grad=-1.2511)], [Var(v=-0.1036, grad=0.0000), Var(v=-0.1295, grad=0.0000), Var(v=0.0368, grad=0.0000), Var(v=0.0104, grad=0.0000), Var(v=-0.0956, grad=0.0000), Var(v=0.0653, grad=0.0000), Var(v=0.0206, grad=0.6226), Var(v=0.1777, grad=0.0000), Var(v=-0.1624, grad=0.0000), Var(v=0.0284, grad=0.0000), Var(v=-0.0011, grad=0.9330), Var(v=0.0425, grad=-0.8555), Var(v=-0.0878, grad=-1.0261), Var(v=0.1054, grad=1.4485), Var(v=0.0358, grad=0.0000), Var(v=-0.0714, grad=-0.7519), Var(v=-0.0070, grad=0.9742), Var(v=0.0973, grad=0.0358), Var(v=-0.0160, grad=0.0771), Var(v=0.0118, grad=-0.7918), Var(v=-0.0736, grad=0.0000), Var(v=0.0275, grad=0.0000), Var(v=-0.1199, grad=0.0000), Var(v=0.0405, grad=-0.0477), Var(v=0.1522, grad=-1.7764), Var(v=0.1387, grad=-0.2980), Var(v=-0.0611, grad=0.0000), Var(v=0.0702, grad=-1.5295), Var(v=0.0930, grad=0.0000), Var(v=-0.1273, grad=0.0000), Var(v=0.0092, grad=0.0000), Var(v=-0.1028, grad=0.0000), Var(v=0.1116, grad=0.0000), Var(v=-0.0567, grad=0.2330), Var(v=-0.1094, grad=0.0000), Var(v=0.2252, grad=-0.2392), Var(v=0.0806, grad=-0.6681), Var(v=-0.0273, grad=-0.5510), Var(v=-0.1043, grad=0.0000), Var(v=0.0112, grad=0.0000), Var(v=0.0401, grad=0.0000), Var(v=0.2031, grad=0.0000), Var(v=-0.1032, grad=0.8393), Var(v=0.0617, grad=0.5631), Var(v=0.1333, grad=-0.4320), Var(v=-0.0011, grad=-0.5716), Var(v=-0.0361, grad=0.0000), Var(v=-0.0245, grad=-0.7926), Var(v=-0.0029, grad=-0.4805), Var(v=0.0729, grad=-1.2307)], [Var(v=0.0188, grad=0.0000), Var(v=-0.1188, grad=0.0000), Var(v=0.0221, grad=0.0000), Var(v=-0.0946, grad=0.0000), Var(v=0.0042, grad=0.0000), Var(v=-0.1562, grad=0.0000), Var(v=0.1389, grad=0.9228), Var(v=0.0489, grad=0.0000), Var(v=-0.0856, grad=0.0000), Var(v=-0.0157, grad=0.0000), Var(v=0.1592, grad=1.3827), Var(v=-0.0536, grad=-1.2680), Var(v=0.0457, grad=-1.5208), Var(v=0.0569, grad=2.1468), Var(v=-0.2123, grad=0.0000), Var(v=-0.0094, grad=-1.1143), Var(v=-0.1324, grad=1.4438), Var(v=-0.0032, grad=0.0530), Var(v=0.2697, grad=0.1143), Var(v=-0.0712, grad=-1.1735), Var(v=-0.0368, grad=0.0000), Var(v=-0.1189, grad=0.0000), Var(v=-0.1119, grad=0.0000), Var(v=0.0869, grad=-0.0707), Var(v=0.0191, grad=-2.6328), Var(v=-0.0058, grad=-0.4416), Var(v=-0.0728, grad=0.0000), Var(v=0.1438, grad=-2.2669), Var(v=-0.0104, grad=0.0000), Var(v=0.0424, grad=0.0000), Var(v=0.0292, grad=0.0000), Var(v=0.0769, grad=0.0000), Var(v=-0.0456, grad=0.0000), Var(v=-0.1051, grad=0.3453), Var(v=0.0429, grad=0.0000), Var(v=0.1920, grad=-0.3544), Var(v=0.0256, grad=-0.9902), Var(v=0.1069, grad=-0.8166), Var(v=-0.1303, grad=0.0000), Var(v=-0.1444, grad=0.0000), Var(v=-0.0215, grad=0.0000), Var(v=-0.0983, grad=0.0000), Var(v=0.1658, grad=1.2440), Var(v=0.0103, grad=0.8346), Var(v=0.1495, grad=-0.6403), Var(v=0.1461, grad=-0.8472), Var(v=-0.3457, grad=0.0000), Var(v=0.2117, grad=-1.1748), Var(v=-0.0033, grad=-0.7121), Var(v=0.0479, grad=-1.8240)], [Var(v=0.1055, grad=0.0000), Var(v=0.0575, grad=0.0000), Var(v=0.0114, grad=0.0000), Var(v=-0.1977, grad=0.0000), Var(v=0.1068, grad=0.0000), Var(v=0.0879, grad=0.0000), Var(v=-0.0672, grad=0.0869), Var(v=0.0341, grad=0.0000), Var(v=-0.1483, grad=0.0000), Var(v=-0.0686, grad=0.0000), Var(v=-0.0258, grad=0.1302), Var(v=0.1536, grad=-0.1194), Var(v=0.0338, grad=-0.1432), Var(v=0.0080, grad=0.2021), Var(v=0.1126, grad=0.0000), Var(v=0.0395, grad=-0.1049), Var(v=0.1259, grad=0.1359), Var(v=0.1333, grad=0.0050), Var(v=-0.1122, grad=0.0108), Var(v=-0.0622, grad=-0.1105), Var(v=0.1082, grad=0.0000), Var(v=-0.0071, grad=0.0000), Var(v=-0.0566, grad=0.0000), Var(v=0.0640, grad=-0.0067), Var(v=-0.0173, grad=-0.2479), Var(v=0.0825, grad=-0.0416), Var(v=0.1465, grad=0.0000), Var(v=-0.1112, grad=-0.2134), Var(v=0.0496, grad=0.0000), Var(v=0.0021, grad=0.0000), Var(v=0.0910, grad=0.0000), Var(v=-0.0547, grad=0.0000), Var(v=0.1491, grad=0.0000), Var(v=-0.0718, grad=0.0325), Var(v=-0.0038, grad=0.0000), Var(v=-0.0720, grad=-0.0334), Var(v=-0.0015, grad=-0.0932), Var(v=-0.0663, grad=-0.0769), Var(v=0.1377, grad=0.0000), Var(v=0.0334, grad=0.0000), Var(v=0.0588, grad=0.0000), Var(v=0.1722, grad=0.0000), Var(v=-0.0432, grad=0.1171), Var(v=0.0846, grad=0.0786), Var(v=0.0361, grad=-0.0603), Var(v=0.2055, grad=-0.0798), Var(v=0.1603, grad=0.0000), Var(v=0.0410, grad=-0.1106), Var(v=-0.0434, grad=-0.0671), Var(v=0.0266, grad=-0.1717)], [Var(v=-0.0122, grad=0.0000), Var(v=-0.1526, grad=0.0000), Var(v=0.0044, grad=0.0000), Var(v=0.0478, grad=0.0000), Var(v=-0.0360, grad=0.0000), Var(v=-0.0433, grad=0.0000), Var(v=-0.0566, grad=0.3182), Var(v=-0.0535, grad=0.0000), Var(v=0.0074, grad=0.0000), Var(v=0.0461, grad=0.0000), Var(v=-0.0568, grad=0.4769), Var(v=0.0380, grad=-0.4373), Var(v=-0.0433, grad=-0.5245), Var(v=-0.1649, grad=0.7404), Var(v=-0.0323, grad=0.0000), Var(v=0.0151, grad=-0.3843), Var(v=-0.0613, grad=0.4979), Var(v=0.0799, grad=0.0183), Var(v=0.0917, grad=0.0394), Var(v=-0.0048, grad=-0.4047), Var(v=-0.0847, grad=0.0000), Var(v=-0.0553, grad=0.0000), Var(v=-0.1196, grad=0.0000), Var(v=0.0999, grad=-0.0244), Var(v=-0.0348, grad=-0.9080), Var(v=-0.0934, grad=-0.1523), Var(v=-0.1157, grad=0.0000), Var(v=0.0619, grad=-0.7818), Var(v=-0.0502, grad=0.0000), Var(v=-0.2502, grad=0.0000), Var(v=0.0208, grad=0.0000), Var(v=-0.2060, grad=0.0000), Var(v=-0.0608, grad=0.0000), Var(v=-0.1053, grad=0.1191), Var(v=0.0909, grad=0.0000), Var(v=0.0861, grad=-0.1222), Var(v=0.0676, grad=-0.3415), Var(v=0.0802, grad=-0.2816), Var(v=-0.0271, grad=0.0000), Var(v=-0.0504, grad=0.0000), Var(v=-0.0205, grad=0.0000), Var(v=-0.0970, grad=0.0000), Var(v=0.0115, grad=0.4290), Var(v=-0.1476, grad=0.2878), Var(v=-0.0812, grad=-0.2208), Var(v=0.3037, grad=-0.2922), Var(v=-0.0439, grad=0.0000), Var(v=-0.0163, grad=-0.4052), Var(v=-0.0374, grad=-0.2456), Var(v=-0.1218, grad=-0.6290)], [Var(v=0.1294, grad=-3.7074), Var(v=0.2277, grad=1.0158), Var(v=-0.0742, grad=0.0000), Var(v=-0.0060, grad=0.0000), Var(v=0.0505, grad=2.5824), Var(v=-0.0973, grad=0.0000), Var(v=0.2215, grad=-0.8722), Var(v=0.1307, grad=1.2777), Var(v=0.0361, grad=0.0000), Var(v=0.0539, grad=0.0000), Var(v=0.0734, grad=-1.3070), Var(v=0.0864, grad=1.1985), Var(v=-0.0561, grad=0.0000), Var(v=0.0772, grad=-2.0291), Var(v=0.1397, grad=0.3174), Var(v=0.1113, grad=1.0533), Var(v=0.0086, grad=0.0000), Var(v=0.2455, grad=-0.0501), Var(v=0.0760, grad=0.0000), Var(v=-0.0188, grad=0.0000), Var(v=0.0623, grad=0.0000), Var(v=-0.0876, grad=0.0000), Var(v=0.1204, grad=0.6088), Var(v=-0.0303, grad=0.0668), Var(v=-0.0278, grad=2.4886), Var(v=0.0322, grad=0.4174), Var(v=0.1870, grad=1.6452), Var(v=-0.1718, grad=0.0000), Var(v=-0.0058, grad=0.0000), Var(v=-0.1171, grad=0.0000), Var(v=0.1971, grad=0.0000), Var(v=0.0774, grad=2.4942), Var(v=-0.0291, grad=0.0000), Var(v=0.1734, grad=-0.3264), Var(v=0.1023, grad=0.0839), Var(v=0.0818, grad=0.0000), Var(v=0.1423, grad=0.9360), Var(v=-0.1808, grad=0.0000), Var(v=0.0216, grad=-3.5089), Var(v=-0.0573, grad=0.0000), Var(v=-0.1584, grad=0.0000), Var(v=-0.0752, grad=0.0000), Var(v=-0.0677, grad=0.0000), Var(v=-0.0918, grad=0.0000), Var(v=0.0552, grad=0.0000), Var(v=0.0985, grad=0.8008), Var(v=-0.0372, grad=-0.4629), Var(v=0.1032, grad=0.0000), Var(v=0.0739, grad=0.6731), Var(v=0.0403, grad=1.7240)], [Var(v=0.0288, grad=0.0000), Var(v=-0.2004, grad=0.0000), Var(v=0.1581, grad=0.0000), Var(v=0.1431, grad=0.0000), Var(v=-0.0492, grad=0.0000), Var(v=-0.0750, grad=0.0000), Var(v=-0.0152, grad=0.9716), Var(v=-0.1462, grad=0.0000), Var(v=-0.0008, grad=0.0000), Var(v=-0.0836, grad=0.0000), Var(v=0.0201, grad=1.4559), Var(v=0.1517, grad=-1.3350), Var(v=-0.0029, grad=-1.6013), Var(v=0.0131, grad=2.2603), Var(v=0.0555, grad=0.0000), Var(v=-0.0272, grad=-1.1732), Var(v=0.1144, grad=1.5201), Var(v=0.0656, grad=0.0558), Var(v=0.0809, grad=0.1203), Var(v=0.2668, grad=-1.2356), Var(v=-0.0737, grad=0.0000), Var(v=-0.1014, grad=0.0000), Var(v=-0.0325, grad=0.0000), Var(v=0.0352, grad=-0.0745), Var(v=0.0714, grad=-2.7720), Var(v=0.0832, grad=-0.4650), Var(v=0.1931, grad=0.0000), Var(v=0.2345, grad=-2.3867), Var(v=-0.0979, grad=0.0000), Var(v=0.0343, grad=0.0000), Var(v=-0.1272, grad=0.0000), Var(v=-0.0431, grad=0.0000), Var(v=0.0690, grad=0.0000), Var(v=-0.0335, grad=0.3636), Var(v=0.0689, grad=0.0000), Var(v=0.0299, grad=-0.3732), Var(v=-0.0707, grad=-1.0426), Var(v=0.0110, grad=-0.8598), Var(v=-0.0198, grad=0.0000), Var(v=-0.0656, grad=0.0000), Var(v=-0.0627, grad=0.0000), Var(v=0.0241, grad=0.0000), Var(v=-0.0594, grad=1.3097), Var(v=0.1493, grad=0.8787), Var(v=-0.0280, grad=-0.6742), Var(v=0.1346, grad=-0.8920), Var(v=-0.0595, grad=0.0000), Var(v=0.0887, grad=-1.2369), Var(v=0.2163, grad=-0.7497), Var(v=0.0481, grad=-1.9204)], [Var(v=0.0347, grad=-2.8200), Var(v=-0.0883, grad=0.7727), Var(v=-0.0275, grad=0.0000), Var(v=0.0289, grad=0.0000), Var(v=0.1934, grad=1.9642), Var(v=-0.0232, grad=0.0000), Var(v=0.1856, grad=-0.6634), Var(v=-0.0667, grad=0.9718), Var(v=0.0487, grad=0.0000), Var(v=-0.2581, grad=0.0000), Var(v=-0.1198, grad=-0.9941), Var(v=-0.0070, grad=0.9116), Var(v=-0.1316, grad=0.0000), Var(v=0.2126, grad=-1.5434), Var(v=-0.0557, grad=0.2414), Var(v=0.0882, grad=0.8012), Var(v=-0.0251, grad=0.0000), Var(v=0.0663, grad=-0.0381), Var(v=-0.0059, grad=0.0000), Var(v=-0.1162, grad=0.0000), Var(v=-0.1728, grad=0.0000), Var(v=-0.0269, grad=0.0000), Var(v=-0.0827, grad=0.4631), Var(v=0.1016, grad=0.0508), Var(v=-0.0234, grad=1.8929), Var(v=0.1558, grad=0.3175), Var(v=0.0350, grad=1.2514), Var(v=0.0471, grad=0.0000), Var(v=-0.0257, grad=0.0000), Var(v=0.1864, grad=0.0000), Var(v=-0.0543, grad=0.0000), Var(v=0.0690, grad=1.8972), Var(v=-0.1958, grad=0.0000), Var(v=0.0809, grad=-0.2483), Var(v=-0.0753, grad=0.0638), Var(v=0.0416, grad=0.0000), Var(v=0.0906, grad=0.7119), Var(v=0.0137, grad=0.0000), Var(v=0.0622, grad=-2.6690), Var(v=-0.1097, grad=0.0000), Var(v=-0.1011, grad=0.0000), Var(v=-0.0965, grad=0.0000), Var(v=0.0541, grad=0.0000), Var(v=-0.1336, grad=0.0000), Var(v=0.0379, grad=0.0000), Var(v=-0.1252, grad=0.6091), Var(v=0.2318, grad=-0.3521), Var(v=-0.1450, grad=0.0000), Var(v=0.0455, grad=0.5120), Var(v=-0.1550, grad=1.3114)], [Var(v=0.0071, grad=-1.2601), Var(v=0.0564, grad=0.3453), Var(v=0.1125, grad=0.0000), Var(v=0.1914, grad=0.0000), Var(v=0.1085, grad=0.8777), Var(v=0.0544, grad=0.0000), Var(v=-0.0823, grad=-0.2965), Var(v=0.0646, grad=0.4343), Var(v=-0.1027, grad=0.0000), Var(v=-0.0041, grad=0.0000), Var(v=0.1649, grad=-0.4442), Var(v=0.0777, grad=0.4073), Var(v=0.0163, grad=0.0000), Var(v=-0.0728, grad=-0.6897), Var(v=0.0588, grad=0.1079), Var(v=-0.2169, grad=0.3580), Var(v=-0.0976, grad=0.0000), Var(v=0.0695, grad=-0.0170), Var(v=-0.0797, grad=0.0000), Var(v=0.1395, grad=0.0000), Var(v=-0.1646, grad=0.0000), Var(v=-0.0458, grad=0.0000), Var(v=0.0016, grad=0.2069), Var(v=0.0500, grad=0.0227), Var(v=-0.0063, grad=0.8458), Var(v=-0.2153, grad=0.1419), Var(v=-0.0832, grad=0.5591), Var(v=0.0990, grad=0.0000), Var(v=0.2612, grad=0.0000), Var(v=0.1072, grad=0.0000), Var(v=-0.1689, grad=0.0000), Var(v=0.0986, grad=0.8477), Var(v=-0.0727, grad=0.0000), Var(v=-0.0025, grad=-0.1109), Var(v=-0.0150, grad=0.0285), Var(v=-0.0180, grad=0.0000), Var(v=-0.1519, grad=0.3181), Var(v=0.0670, grad=0.0000), Var(v=0.0800, grad=-1.1926), Var(v=0.0521, grad=0.0000), Var(v=0.0773, grad=0.0000), Var(v=-0.1340, grad=0.0000), Var(v=-0.0166, grad=0.0000), Var(v=0.1415, grad=0.0000), Var(v=0.0025, grad=0.0000), Var(v=0.2188, grad=0.2722), Var(v=0.1866, grad=-0.1573), Var(v=-0.0028, grad=0.0000), Var(v=-0.0877, grad=0.2288), Var(v=-0.0831, grad=0.5860)]] Biases: [Var(v=0.2265, grad=-22.6477), Var(v=-0.0621, grad=6.2055), Var(v=0.0000, grad=0.0000), Var(v=0.0000, grad=0.0000), Var(v=-0.1577, grad=15.7750), Var(v=0.0000, grad=0.0000), Var(v=0.0017, grad=-0.1738), Var(v=-0.0780, grad=7.8050), Var(v=0.0000, grad=0.0000), Var(v=0.0000, grad=0.0000), Var(v=0.0026, grad=-0.2604), Var(v=-0.0024, grad=0.2388), Var(v=0.0849, grad=-8.4950), Var(v=0.0040, grad=-0.4043), Var(v=-0.0194, grad=1.9388), Var(v=-0.0021, grad=0.2098), Var(v=-0.0806, grad=8.0646), Var(v=0.0001, grad=-0.0100), Var(v=-0.0064, grad=0.6383), Var(v=0.0656, grad=-6.5551), Var(v=0.0000, grad=0.0000), Var(v=0.0000, grad=0.0000), Var(v=-0.0372, grad=3.7188), Var(v=-0.0001, grad=0.0133), Var(v=-0.0050, grad=0.4958), Var(v=-0.0008, grad=0.0832), Var(v=-0.1005, grad=10.0497), Var(v=0.1266, grad=-12.6620), Var(v=0.0000, grad=0.0000), Var(v=0.0000, grad=0.0000), Var(v=0.0000, grad=0.0000), Var(v=-0.1524, grad=15.2366), Var(v=0.0000, grad=0.0000), Var(v=0.0007, grad=-0.0650), Var(v=-0.0051, grad=0.5126), Var(v=0.0198, grad=-1.9798), Var(v=-0.0019, grad=0.1865), Var(v=0.0456, grad=-4.5612), Var(v=0.2143, grad=-21.4346), Var(v=0.0000, grad=0.0000), Var(v=0.0000, grad=0.0000), Var(v=0.0000, grad=0.0000), Var(v=-0.0695, grad=6.9484), Var(v=-0.0466, grad=4.6618), Var(v=0.0358, grad=-3.5765), Var(v=-0.0016, grad=0.1595), Var(v=0.0283, grad=-2.8276), Var(v=0.0656, grad=-6.5620), Var(v=-0.0013, grad=0.1341), Var(v=-0.0034, grad=0.3435)]\n",
      "Layer 2 \n",
      " Weights: [[Var(v=-0.2603, grad=0.6487)], [Var(v=0.0554, grad=1.4132)], [Var(v=-0.1044, grad=0.0000)], [Var(v=0.0164, grad=0.0000)], [Var(v=0.1093, grad=6.7483)], [Var(v=-0.1673, grad=0.0000)], [Var(v=-0.0680, grad=0.8262)], [Var(v=0.0791, grad=0.8373)], [Var(v=0.0633, grad=0.0000)], [Var(v=-0.0580, grad=0.0000)], [Var(v=-0.0276, grad=-6.1897)], [Var(v=0.0712, grad=1.0826)], [Var(v=0.1138, grad=-1.5433)], [Var(v=-0.1231, grad=-1.5819)], [Var(v=-0.0215, grad=4.3244)], [Var(v=0.0692, grad=0.2866)], [Var(v=-0.0931, grad=-0.0330)], [Var(v=0.0097, grad=-1.3128)], [Var(v=0.0167, grad=-2.4131)], [Var(v=0.1189, grad=-4.3018)], [Var(v=-0.0372, grad=0.0000)], [Var(v=0.0205, grad=0.0000)], [Var(v=0.0191, grad=2.2521)], [Var(v=0.0277, grad=-2.3156)], [Var(v=0.1675, grad=0.2818)], [Var(v=0.0113, grad=1.7289)], [Var(v=0.0924, grad=2.0183)], [Var(v=0.1755, grad=-2.8803)], [Var(v=0.0678, grad=0.0000)], [Var(v=0.1744, grad=0.0000)], [Var(v=-0.0891, grad=0.0000)], [Var(v=0.1653, grad=0.5456)], [Var(v=0.1111, grad=0.0000)], [Var(v=-0.0306, grad=0.8209)], [Var(v=-0.0059, grad=1.1603)], [Var(v=0.0886, grad=-6.5705)], [Var(v=0.0695, grad=-0.5435)], [Var(v=0.0603, grad=-0.7423)], [Var(v=-0.2526, grad=1.2465)], [Var(v=0.0455, grad=0.0000)], [Var(v=0.0730, grad=0.0000)], [Var(v=0.1693, grad=0.0000)], [Var(v=-0.0562, grad=-2.4263)], [Var(v=0.0172, grad=-7.1223)], [Var(v=0.0788, grad=-3.7350)], [Var(v=0.0891, grad=-3.4288)], [Var(v=-0.0511, grad=1.9413)], [Var(v=0.1127, grad=-3.6695)], [Var(v=0.0620, grad=-1.5920)], [Var(v=0.1150, grad=0.3041)]] Biases: [Var(v=-0.0291, grad=2.9105)]\n",
      "\n",
      "Network after zeroing gradients:\n",
      "Layer 0 \n",
      " Weights: [[Var(v=-0.1821, grad=0.0000), Var(v=0.1127, grad=0.0000), Var(v=0.0151, grad=0.0000), Var(v=0.1847, grad=0.0000), Var(v=0.0932, grad=0.0000), Var(v=0.0298, grad=0.0000), Var(v=0.1074, grad=0.0000), Var(v=0.1298, grad=0.0000), Var(v=0.1633, grad=0.0000), Var(v=0.0156, grad=0.0000), Var(v=0.0972, grad=0.0000), Var(v=-0.0647, grad=0.0000), Var(v=0.2240, grad=0.0000), Var(v=-0.1197, grad=0.0000), Var(v=-0.0525, grad=0.0000)]] Biases: [Var(v=-0.0167, grad=0.0000), Var(v=-0.0367, grad=0.0000), Var(v=0.0118, grad=0.0000), Var(v=0.0222, grad=0.0000), Var(v=-0.1222, grad=0.0000), Var(v=-0.0435, grad=0.0000), Var(v=0.0016, grad=0.0000), Var(v=0.0224, grad=0.0000), Var(v=0.0081, grad=0.0000), Var(v=0.0010, grad=0.0000), Var(v=0.0379, grad=0.0000), Var(v=-0.0765, grad=0.0000), Var(v=0.0533, grad=0.0000), Var(v=0.0059, grad=0.0000), Var(v=0.0017, grad=0.0000)]\n",
      "Layer 1 \n",
      " Weights: [[Var(v=0.0422, grad=0.0000), Var(v=-0.0674, grad=0.0000), Var(v=0.0637, grad=0.0000), Var(v=-0.1049, grad=0.0000), Var(v=0.0653, grad=0.0000), Var(v=-0.0400, grad=0.0000), Var(v=0.0757, grad=0.0000), Var(v=-0.0825, grad=0.0000), Var(v=-0.0424, grad=0.0000), Var(v=0.0651, grad=0.0000), Var(v=0.0566, grad=0.0000), Var(v=0.0348, grad=0.0000), Var(v=-0.2363, grad=0.0000), Var(v=-0.0612, grad=0.0000), Var(v=0.1687, grad=0.0000), Var(v=0.0699, grad=0.0000), Var(v=0.0437, grad=0.0000), Var(v=-0.0694, grad=0.0000), Var(v=-0.1252, grad=0.0000), Var(v=-0.0372, grad=0.0000), Var(v=0.0220, grad=0.0000), Var(v=-0.0491, grad=0.0000), Var(v=0.0736, grad=0.0000), Var(v=0.1019, grad=0.0000), Var(v=0.0384, grad=0.0000), Var(v=0.0945, grad=0.0000), Var(v=-0.1069, grad=0.0000), Var(v=0.0033, grad=0.0000), Var(v=-0.1781, grad=0.0000), Var(v=-0.0971, grad=0.0000), Var(v=-0.2310, grad=0.0000), Var(v=-0.1827, grad=0.0000), Var(v=0.0604, grad=0.0000), Var(v=-0.0357, grad=0.0000), Var(v=0.0683, grad=0.0000), Var(v=-0.0643, grad=0.0000), Var(v=0.0285, grad=0.0000), Var(v=0.0327, grad=0.0000), Var(v=0.1128, grad=0.0000), Var(v=0.0980, grad=0.0000), Var(v=0.1112, grad=0.0000), Var(v=-0.0582, grad=0.0000), Var(v=0.0371, grad=0.0000), Var(v=0.1095, grad=0.0000), Var(v=-0.2241, grad=0.0000), Var(v=0.0547, grad=0.0000), Var(v=-0.0391, grad=0.0000), Var(v=-0.1141, grad=0.0000), Var(v=0.0392, grad=0.0000), Var(v=0.0603, grad=0.0000)], [Var(v=-0.1064, grad=0.0000), Var(v=0.2587, grad=0.0000), Var(v=-0.1756, grad=0.0000), Var(v=-0.0877, grad=0.0000), Var(v=0.0413, grad=0.0000), Var(v=-0.0240, grad=0.0000), Var(v=0.1305, grad=0.0000), Var(v=-0.0246, grad=0.0000), Var(v=-0.1012, grad=0.0000), Var(v=-0.1173, grad=0.0000), Var(v=-0.0362, grad=0.0000), Var(v=0.0393, grad=0.0000), Var(v=0.1263, grad=0.0000), Var(v=0.1672, grad=0.0000), Var(v=-0.1905, grad=0.0000), Var(v=0.0548, grad=0.0000), Var(v=-0.0285, grad=0.0000), Var(v=0.1307, grad=0.0000), Var(v=-0.1122, grad=0.0000), Var(v=-0.0424, grad=0.0000), Var(v=0.0166, grad=0.0000), Var(v=0.0056, grad=0.0000), Var(v=-0.0189, grad=0.0000), Var(v=-0.0725, grad=0.0000), Var(v=-0.0139, grad=0.0000), Var(v=-0.0278, grad=0.0000), Var(v=-0.0201, grad=0.0000), Var(v=-0.0084, grad=0.0000), Var(v=-0.1260, grad=0.0000), Var(v=-0.0083, grad=0.0000), Var(v=-0.0259, grad=0.0000), Var(v=-0.0554, grad=0.0000), Var(v=-0.1143, grad=0.0000), Var(v=0.1774, grad=0.0000), Var(v=-0.0989, grad=0.0000), Var(v=-0.1053, grad=0.0000), Var(v=0.0376, grad=0.0000), Var(v=-0.0398, grad=0.0000), Var(v=0.0043, grad=0.0000), Var(v=0.1443, grad=0.0000), Var(v=-0.1653, grad=0.0000), Var(v=-0.1183, grad=0.0000), Var(v=-0.0752, grad=0.0000), Var(v=0.0644, grad=0.0000), Var(v=0.0133, grad=0.0000), Var(v=-0.0406, grad=0.0000), Var(v=-0.0120, grad=0.0000), Var(v=-0.1013, grad=0.0000), Var(v=-0.0242, grad=0.0000), Var(v=0.0837, grad=0.0000)], [Var(v=-0.1751, grad=0.0000), Var(v=0.0186, grad=0.0000), Var(v=-0.0714, grad=0.0000), Var(v=-0.0700, grad=0.0000), Var(v=0.0840, grad=0.0000), Var(v=-0.0938, grad=0.0000), Var(v=0.1139, grad=0.0000), Var(v=-0.0119, grad=0.0000), Var(v=-0.0177, grad=0.0000), Var(v=-0.1067, grad=0.0000), Var(v=-0.0068, grad=0.0000), Var(v=0.0418, grad=0.0000), Var(v=-0.0611, grad=0.0000), Var(v=-0.0127, grad=0.0000), Var(v=-0.0868, grad=0.0000), Var(v=0.0464, grad=0.0000), Var(v=-0.0185, grad=0.0000), Var(v=-0.0550, grad=0.0000), Var(v=-0.1757, grad=0.0000), Var(v=-0.0371, grad=0.0000), Var(v=0.1953, grad=0.0000), Var(v=0.0029, grad=0.0000), Var(v=0.0770, grad=0.0000), Var(v=-0.0036, grad=0.0000), Var(v=-0.0440, grad=0.0000), Var(v=-0.1746, grad=0.0000), Var(v=0.0818, grad=0.0000), Var(v=0.1243, grad=0.0000), Var(v=0.1421, grad=0.0000), Var(v=0.0258, grad=0.0000), Var(v=0.2777, grad=0.0000), Var(v=-0.0654, grad=0.0000), Var(v=-0.0753, grad=0.0000), Var(v=-0.0964, grad=0.0000), Var(v=0.0366, grad=0.0000), Var(v=0.2584, grad=0.0000), Var(v=-0.2122, grad=0.0000), Var(v=-0.0407, grad=0.0000), Var(v=-0.0027, grad=0.0000), Var(v=0.1027, grad=0.0000), Var(v=0.0837, grad=0.0000), Var(v=-0.0083, grad=0.0000), Var(v=-0.2786, grad=0.0000), Var(v=-0.0555, grad=0.0000), Var(v=-0.1166, grad=0.0000), Var(v=0.0369, grad=0.0000), Var(v=-0.1083, grad=0.0000), Var(v=0.0429, grad=0.0000), Var(v=0.1099, grad=0.0000), Var(v=-0.1005, grad=0.0000)], [Var(v=-0.0016, grad=0.0000), Var(v=-0.0409, grad=0.0000), Var(v=-0.0680, grad=0.0000), Var(v=-0.0659, grad=0.0000), Var(v=0.0203, grad=0.0000), Var(v=-0.0535, grad=0.0000), Var(v=0.0080, grad=0.0000), Var(v=-0.0314, grad=0.0000), Var(v=0.1326, grad=0.0000), Var(v=0.0136, grad=0.0000), Var(v=0.1835, grad=0.0000), Var(v=-0.0281, grad=0.0000), Var(v=0.0100, grad=0.0000), Var(v=-0.1524, grad=0.0000), Var(v=-0.0610, grad=0.0000), Var(v=0.1537, grad=0.0000), Var(v=-0.1119, grad=0.0000), Var(v=0.0472, grad=0.0000), Var(v=-0.1041, grad=0.0000), Var(v=0.0742, grad=0.0000), Var(v=0.0125, grad=0.0000), Var(v=-0.0285, grad=0.0000), Var(v=-0.1218, grad=0.0000), Var(v=0.1965, grad=0.0000), Var(v=0.0839, grad=0.0000), Var(v=-0.0119, grad=0.0000), Var(v=-0.0383, grad=0.0000), Var(v=-0.0280, grad=0.0000), Var(v=-0.0845, grad=0.0000), Var(v=-0.1731, grad=0.0000), Var(v=-0.0573, grad=0.0000), Var(v=0.0088, grad=0.0000), Var(v=-0.0122, grad=0.0000), Var(v=0.0113, grad=0.0000), Var(v=-0.1165, grad=0.0000), Var(v=0.0811, grad=0.0000), Var(v=0.0794, grad=0.0000), Var(v=0.0615, grad=0.0000), Var(v=-0.1502, grad=0.0000), Var(v=-0.0415, grad=0.0000), Var(v=0.0977, grad=0.0000), Var(v=0.1083, grad=0.0000), Var(v=0.0633, grad=0.0000), Var(v=0.0943, grad=0.0000), Var(v=0.0900, grad=0.0000), Var(v=0.0135, grad=0.0000), Var(v=0.0310, grad=0.0000), Var(v=0.1162, grad=0.0000), Var(v=0.1200, grad=0.0000), Var(v=-0.0719, grad=0.0000)], [Var(v=-0.1361, grad=0.0000), Var(v=-0.1036, grad=0.0000), Var(v=-0.1788, grad=0.0000), Var(v=0.1397, grad=0.0000), Var(v=0.1694, grad=0.0000), Var(v=-0.0839, grad=0.0000), Var(v=-0.0689, grad=0.0000), Var(v=0.0746, grad=0.0000), Var(v=-0.0722, grad=0.0000), Var(v=0.0173, grad=0.0000), Var(v=-0.0720, grad=0.0000), Var(v=0.0014, grad=0.0000), Var(v=-0.0533, grad=0.0000), Var(v=0.0146, grad=0.0000), Var(v=-0.2162, grad=0.0000), Var(v=-0.0672, grad=0.0000), Var(v=-0.0617, grad=0.0000), Var(v=0.1381, grad=0.0000), Var(v=-0.0527, grad=0.0000), Var(v=0.0232, grad=0.0000), Var(v=-0.1630, grad=0.0000), Var(v=-0.0824, grad=0.0000), Var(v=-0.0895, grad=0.0000), Var(v=-0.0942, grad=0.0000), Var(v=0.0233, grad=0.0000), Var(v=-0.0369, grad=0.0000), Var(v=0.1364, grad=0.0000), Var(v=0.0972, grad=0.0000), Var(v=0.0044, grad=0.0000), Var(v=-0.1425, grad=0.0000), Var(v=0.1267, grad=0.0000), Var(v=0.1103, grad=0.0000), Var(v=0.0401, grad=0.0000), Var(v=-0.0585, grad=0.0000), Var(v=-0.2006, grad=0.0000), Var(v=-0.1990, grad=0.0000), Var(v=-0.1859, grad=0.0000), Var(v=0.0052, grad=0.0000), Var(v=-0.1335, grad=0.0000), Var(v=-0.1633, grad=0.0000), Var(v=-0.1927, grad=0.0000), Var(v=-0.0242, grad=0.0000), Var(v=-0.1279, grad=0.0000), Var(v=-0.1233, grad=0.0000), Var(v=0.1896, grad=0.0000), Var(v=0.1259, grad=0.0000), Var(v=-0.0017, grad=0.0000), Var(v=-0.0856, grad=0.0000), Var(v=0.0831, grad=0.0000), Var(v=-0.0164, grad=0.0000)], [Var(v=-0.1661, grad=0.0000), Var(v=0.0868, grad=0.0000), Var(v=0.0080, grad=0.0000), Var(v=0.0299, grad=0.0000), Var(v=0.0074, grad=0.0000), Var(v=0.1329, grad=0.0000), Var(v=0.0862, grad=0.0000), Var(v=-0.1698, grad=0.0000), Var(v=0.1825, grad=0.0000), Var(v=-0.0213, grad=0.0000), Var(v=0.0971, grad=0.0000), Var(v=-0.0518, grad=0.0000), Var(v=0.1665, grad=0.0000), Var(v=0.0306, grad=0.0000), Var(v=0.0074, grad=0.0000), Var(v=0.0845, grad=0.0000), Var(v=0.0383, grad=0.0000), Var(v=0.0372, grad=0.0000), Var(v=0.0990, grad=0.0000), Var(v=0.1873, grad=0.0000), Var(v=-0.0125, grad=0.0000), Var(v=0.1064, grad=0.0000), Var(v=0.1605, grad=0.0000), Var(v=0.0738, grad=0.0000), Var(v=-0.0651, grad=0.0000), Var(v=0.1497, grad=0.0000), Var(v=0.0481, grad=0.0000), Var(v=-0.1178, grad=0.0000), Var(v=-0.0882, grad=0.0000), Var(v=0.0283, grad=0.0000), Var(v=-0.0063, grad=0.0000), Var(v=0.0476, grad=0.0000), Var(v=-0.1024, grad=0.0000), Var(v=0.1998, grad=0.0000), Var(v=0.0737, grad=0.0000), Var(v=0.1832, grad=0.0000), Var(v=-0.0605, grad=0.0000), Var(v=-0.0105, grad=0.0000), Var(v=-0.1193, grad=0.0000), Var(v=-0.0469, grad=0.0000), Var(v=-0.1291, grad=0.0000), Var(v=-0.2350, grad=0.0000), Var(v=0.0076, grad=0.0000), Var(v=-0.1028, grad=0.0000), Var(v=-0.0727, grad=0.0000), Var(v=0.0723, grad=0.0000), Var(v=0.0197, grad=0.0000), Var(v=-0.0957, grad=0.0000), Var(v=0.0189, grad=0.0000), Var(v=-0.1547, grad=0.0000)], [Var(v=0.0774, grad=0.0000), Var(v=0.0592, grad=0.0000), Var(v=0.0094, grad=0.0000), Var(v=0.1156, grad=0.0000), Var(v=-0.0928, grad=0.0000), Var(v=-0.0603, grad=0.0000), Var(v=-0.0530, grad=0.0000), Var(v=0.0278, grad=0.0000), Var(v=0.0995, grad=0.0000), Var(v=0.1193, grad=0.0000), Var(v=0.0116, grad=0.0000), Var(v=0.0592, grad=0.0000), Var(v=-0.0178, grad=0.0000), Var(v=-0.1016, grad=0.0000), Var(v=-0.1251, grad=0.0000), Var(v=0.0985, grad=0.0000), Var(v=0.1063, grad=0.0000), Var(v=-0.0600, grad=0.0000), Var(v=-0.0648, grad=0.0000), Var(v=0.0025, grad=0.0000), Var(v=-0.2499, grad=0.0000), Var(v=0.0770, grad=0.0000), Var(v=-0.0012, grad=0.0000), Var(v=-0.0560, grad=0.0000), Var(v=-0.0002, grad=0.0000), Var(v=-0.1118, grad=0.0000), Var(v=-0.0776, grad=0.0000), Var(v=-0.0577, grad=0.0000), Var(v=-0.0469, grad=0.0000), Var(v=0.0294, grad=0.0000), Var(v=0.0843, grad=0.0000), Var(v=0.0193, grad=0.0000), Var(v=0.1123, grad=0.0000), Var(v=0.0065, grad=0.0000), Var(v=0.0468, grad=0.0000), Var(v=-0.0424, grad=0.0000), Var(v=0.2111, grad=0.0000), Var(v=-0.0668, grad=0.0000), Var(v=0.1268, grad=0.0000), Var(v=-0.0228, grad=0.0000), Var(v=0.1127, grad=0.0000), Var(v=-0.1008, grad=0.0000), Var(v=0.0932, grad=0.0000), Var(v=0.2046, grad=0.0000), Var(v=0.0355, grad=0.0000), Var(v=0.0722, grad=0.0000), Var(v=-0.2104, grad=0.0000), Var(v=0.0691, grad=0.0000), Var(v=-0.0068, grad=0.0000), Var(v=0.1093, grad=0.0000)], [Var(v=-0.1036, grad=0.0000), Var(v=-0.1295, grad=0.0000), Var(v=0.0368, grad=0.0000), Var(v=0.0104, grad=0.0000), Var(v=-0.0956, grad=0.0000), Var(v=0.0653, grad=0.0000), Var(v=0.0206, grad=0.0000), Var(v=0.1777, grad=0.0000), Var(v=-0.1624, grad=0.0000), Var(v=0.0284, grad=0.0000), Var(v=-0.0011, grad=0.0000), Var(v=0.0425, grad=0.0000), Var(v=-0.0878, grad=0.0000), Var(v=0.1054, grad=0.0000), Var(v=0.0358, grad=0.0000), Var(v=-0.0714, grad=0.0000), Var(v=-0.0070, grad=0.0000), Var(v=0.0973, grad=0.0000), Var(v=-0.0160, grad=0.0000), Var(v=0.0118, grad=0.0000), Var(v=-0.0736, grad=0.0000), Var(v=0.0275, grad=0.0000), Var(v=-0.1199, grad=0.0000), Var(v=0.0405, grad=0.0000), Var(v=0.1522, grad=0.0000), Var(v=0.1387, grad=0.0000), Var(v=-0.0611, grad=0.0000), Var(v=0.0702, grad=0.0000), Var(v=0.0930, grad=0.0000), Var(v=-0.1273, grad=0.0000), Var(v=0.0092, grad=0.0000), Var(v=-0.1028, grad=0.0000), Var(v=0.1116, grad=0.0000), Var(v=-0.0567, grad=0.0000), Var(v=-0.1094, grad=0.0000), Var(v=0.2252, grad=0.0000), Var(v=0.0806, grad=0.0000), Var(v=-0.0273, grad=0.0000), Var(v=-0.1043, grad=0.0000), Var(v=0.0112, grad=0.0000), Var(v=0.0401, grad=0.0000), Var(v=0.2031, grad=0.0000), Var(v=-0.1032, grad=0.0000), Var(v=0.0617, grad=0.0000), Var(v=0.1333, grad=0.0000), Var(v=-0.0011, grad=0.0000), Var(v=-0.0361, grad=0.0000), Var(v=-0.0245, grad=0.0000), Var(v=-0.0029, grad=0.0000), Var(v=0.0729, grad=0.0000)], [Var(v=0.0188, grad=0.0000), Var(v=-0.1188, grad=0.0000), Var(v=0.0221, grad=0.0000), Var(v=-0.0946, grad=0.0000), Var(v=0.0042, grad=0.0000), Var(v=-0.1562, grad=0.0000), Var(v=0.1389, grad=0.0000), Var(v=0.0489, grad=0.0000), Var(v=-0.0856, grad=0.0000), Var(v=-0.0157, grad=0.0000), Var(v=0.1592, grad=0.0000), Var(v=-0.0536, grad=0.0000), Var(v=0.0457, grad=0.0000), Var(v=0.0569, grad=0.0000), Var(v=-0.2123, grad=0.0000), Var(v=-0.0094, grad=0.0000), Var(v=-0.1324, grad=0.0000), Var(v=-0.0032, grad=0.0000), Var(v=0.2697, grad=0.0000), Var(v=-0.0712, grad=0.0000), Var(v=-0.0368, grad=0.0000), Var(v=-0.1189, grad=0.0000), Var(v=-0.1119, grad=0.0000), Var(v=0.0869, grad=0.0000), Var(v=0.0191, grad=0.0000), Var(v=-0.0058, grad=0.0000), Var(v=-0.0728, grad=0.0000), Var(v=0.1438, grad=0.0000), Var(v=-0.0104, grad=0.0000), Var(v=0.0424, grad=0.0000), Var(v=0.0292, grad=0.0000), Var(v=0.0769, grad=0.0000), Var(v=-0.0456, grad=0.0000), Var(v=-0.1051, grad=0.0000), Var(v=0.0429, grad=0.0000), Var(v=0.1920, grad=0.0000), Var(v=0.0256, grad=0.0000), Var(v=0.1069, grad=0.0000), Var(v=-0.1303, grad=0.0000), Var(v=-0.1444, grad=0.0000), Var(v=-0.0215, grad=0.0000), Var(v=-0.0983, grad=0.0000), Var(v=0.1658, grad=0.0000), Var(v=0.0103, grad=0.0000), Var(v=0.1495, grad=0.0000), Var(v=0.1461, grad=0.0000), Var(v=-0.3457, grad=0.0000), Var(v=0.2117, grad=0.0000), Var(v=-0.0033, grad=0.0000), Var(v=0.0479, grad=0.0000)], [Var(v=0.1055, grad=0.0000), Var(v=0.0575, grad=0.0000), Var(v=0.0114, grad=0.0000), Var(v=-0.1977, grad=0.0000), Var(v=0.1068, grad=0.0000), Var(v=0.0879, grad=0.0000), Var(v=-0.0672, grad=0.0000), Var(v=0.0341, grad=0.0000), Var(v=-0.1483, grad=0.0000), Var(v=-0.0686, grad=0.0000), Var(v=-0.0258, grad=0.0000), Var(v=0.1536, grad=0.0000), Var(v=0.0338, grad=0.0000), Var(v=0.0080, grad=0.0000), Var(v=0.1126, grad=0.0000), Var(v=0.0395, grad=0.0000), Var(v=0.1259, grad=0.0000), Var(v=0.1333, grad=0.0000), Var(v=-0.1122, grad=0.0000), Var(v=-0.0622, grad=0.0000), Var(v=0.1082, grad=0.0000), Var(v=-0.0071, grad=0.0000), Var(v=-0.0566, grad=0.0000), Var(v=0.0640, grad=0.0000), Var(v=-0.0173, grad=0.0000), Var(v=0.0825, grad=0.0000), Var(v=0.1465, grad=0.0000), Var(v=-0.1112, grad=0.0000), Var(v=0.0496, grad=0.0000), Var(v=0.0021, grad=0.0000), Var(v=0.0910, grad=0.0000), Var(v=-0.0547, grad=0.0000), Var(v=0.1491, grad=0.0000), Var(v=-0.0718, grad=0.0000), Var(v=-0.0038, grad=0.0000), Var(v=-0.0720, grad=0.0000), Var(v=-0.0015, grad=0.0000), Var(v=-0.0663, grad=0.0000), Var(v=0.1377, grad=0.0000), Var(v=0.0334, grad=0.0000), Var(v=0.0588, grad=0.0000), Var(v=0.1722, grad=0.0000), Var(v=-0.0432, grad=0.0000), Var(v=0.0846, grad=0.0000), Var(v=0.0361, grad=0.0000), Var(v=0.2055, grad=0.0000), Var(v=0.1603, grad=0.0000), Var(v=0.0410, grad=0.0000), Var(v=-0.0434, grad=0.0000), Var(v=0.0266, grad=0.0000)], [Var(v=-0.0122, grad=0.0000), Var(v=-0.1526, grad=0.0000), Var(v=0.0044, grad=0.0000), Var(v=0.0478, grad=0.0000), Var(v=-0.0360, grad=0.0000), Var(v=-0.0433, grad=0.0000), Var(v=-0.0566, grad=0.0000), Var(v=-0.0535, grad=0.0000), Var(v=0.0074, grad=0.0000), Var(v=0.0461, grad=0.0000), Var(v=-0.0568, grad=0.0000), Var(v=0.0380, grad=0.0000), Var(v=-0.0433, grad=0.0000), Var(v=-0.1649, grad=0.0000), Var(v=-0.0323, grad=0.0000), Var(v=0.0151, grad=0.0000), Var(v=-0.0613, grad=0.0000), Var(v=0.0799, grad=0.0000), Var(v=0.0917, grad=0.0000), Var(v=-0.0048, grad=0.0000), Var(v=-0.0847, grad=0.0000), Var(v=-0.0553, grad=0.0000), Var(v=-0.1196, grad=0.0000), Var(v=0.0999, grad=0.0000), Var(v=-0.0348, grad=0.0000), Var(v=-0.0934, grad=0.0000), Var(v=-0.1157, grad=0.0000), Var(v=0.0619, grad=0.0000), Var(v=-0.0502, grad=0.0000), Var(v=-0.2502, grad=0.0000), Var(v=0.0208, grad=0.0000), Var(v=-0.2060, grad=0.0000), Var(v=-0.0608, grad=0.0000), Var(v=-0.1053, grad=0.0000), Var(v=0.0909, grad=0.0000), Var(v=0.0861, grad=0.0000), Var(v=0.0676, grad=0.0000), Var(v=0.0802, grad=0.0000), Var(v=-0.0271, grad=0.0000), Var(v=-0.0504, grad=0.0000), Var(v=-0.0205, grad=0.0000), Var(v=-0.0970, grad=0.0000), Var(v=0.0115, grad=0.0000), Var(v=-0.1476, grad=0.0000), Var(v=-0.0812, grad=0.0000), Var(v=0.3037, grad=0.0000), Var(v=-0.0439, grad=0.0000), Var(v=-0.0163, grad=0.0000), Var(v=-0.0374, grad=0.0000), Var(v=-0.1218, grad=0.0000)], [Var(v=0.1294, grad=0.0000), Var(v=0.2277, grad=0.0000), Var(v=-0.0742, grad=0.0000), Var(v=-0.0060, grad=0.0000), Var(v=0.0505, grad=0.0000), Var(v=-0.0973, grad=0.0000), Var(v=0.2215, grad=0.0000), Var(v=0.1307, grad=0.0000), Var(v=0.0361, grad=0.0000), Var(v=0.0539, grad=0.0000), Var(v=0.0734, grad=0.0000), Var(v=0.0864, grad=0.0000), Var(v=-0.0561, grad=0.0000), Var(v=0.0772, grad=0.0000), Var(v=0.1397, grad=0.0000), Var(v=0.1113, grad=0.0000), Var(v=0.0086, grad=0.0000), Var(v=0.2455, grad=0.0000), Var(v=0.0760, grad=0.0000), Var(v=-0.0188, grad=0.0000), Var(v=0.0623, grad=0.0000), Var(v=-0.0876, grad=0.0000), Var(v=0.1204, grad=0.0000), Var(v=-0.0303, grad=0.0000), Var(v=-0.0278, grad=0.0000), Var(v=0.0322, grad=0.0000), Var(v=0.1870, grad=0.0000), Var(v=-0.1718, grad=0.0000), Var(v=-0.0058, grad=0.0000), Var(v=-0.1171, grad=0.0000), Var(v=0.1971, grad=0.0000), Var(v=0.0774, grad=0.0000), Var(v=-0.0291, grad=0.0000), Var(v=0.1734, grad=0.0000), Var(v=0.1023, grad=0.0000), Var(v=0.0818, grad=0.0000), Var(v=0.1423, grad=0.0000), Var(v=-0.1808, grad=0.0000), Var(v=0.0216, grad=0.0000), Var(v=-0.0573, grad=0.0000), Var(v=-0.1584, grad=0.0000), Var(v=-0.0752, grad=0.0000), Var(v=-0.0677, grad=0.0000), Var(v=-0.0918, grad=0.0000), Var(v=0.0552, grad=0.0000), Var(v=0.0985, grad=0.0000), Var(v=-0.0372, grad=0.0000), Var(v=0.1032, grad=0.0000), Var(v=0.0739, grad=0.0000), Var(v=0.0403, grad=0.0000)], [Var(v=0.0288, grad=0.0000), Var(v=-0.2004, grad=0.0000), Var(v=0.1581, grad=0.0000), Var(v=0.1431, grad=0.0000), Var(v=-0.0492, grad=0.0000), Var(v=-0.0750, grad=0.0000), Var(v=-0.0152, grad=0.0000), Var(v=-0.1462, grad=0.0000), Var(v=-0.0008, grad=0.0000), Var(v=-0.0836, grad=0.0000), Var(v=0.0201, grad=0.0000), Var(v=0.1517, grad=0.0000), Var(v=-0.0029, grad=0.0000), Var(v=0.0131, grad=0.0000), Var(v=0.0555, grad=0.0000), Var(v=-0.0272, grad=0.0000), Var(v=0.1144, grad=0.0000), Var(v=0.0656, grad=0.0000), Var(v=0.0809, grad=0.0000), Var(v=0.2668, grad=0.0000), Var(v=-0.0737, grad=0.0000), Var(v=-0.1014, grad=0.0000), Var(v=-0.0325, grad=0.0000), Var(v=0.0352, grad=0.0000), Var(v=0.0714, grad=0.0000), Var(v=0.0832, grad=0.0000), Var(v=0.1931, grad=0.0000), Var(v=0.2345, grad=0.0000), Var(v=-0.0979, grad=0.0000), Var(v=0.0343, grad=0.0000), Var(v=-0.1272, grad=0.0000), Var(v=-0.0431, grad=0.0000), Var(v=0.0690, grad=0.0000), Var(v=-0.0335, grad=0.0000), Var(v=0.0689, grad=0.0000), Var(v=0.0299, grad=0.0000), Var(v=-0.0707, grad=0.0000), Var(v=0.0110, grad=0.0000), Var(v=-0.0198, grad=0.0000), Var(v=-0.0656, grad=0.0000), Var(v=-0.0627, grad=0.0000), Var(v=0.0241, grad=0.0000), Var(v=-0.0594, grad=0.0000), Var(v=0.1493, grad=0.0000), Var(v=-0.0280, grad=0.0000), Var(v=0.1346, grad=0.0000), Var(v=-0.0595, grad=0.0000), Var(v=0.0887, grad=0.0000), Var(v=0.2163, grad=0.0000), Var(v=0.0481, grad=0.0000)], [Var(v=0.0347, grad=0.0000), Var(v=-0.0883, grad=0.0000), Var(v=-0.0275, grad=0.0000), Var(v=0.0289, grad=0.0000), Var(v=0.1934, grad=0.0000), Var(v=-0.0232, grad=0.0000), Var(v=0.1856, grad=0.0000), Var(v=-0.0667, grad=0.0000), Var(v=0.0487, grad=0.0000), Var(v=-0.2581, grad=0.0000), Var(v=-0.1198, grad=0.0000), Var(v=-0.0070, grad=0.0000), Var(v=-0.1316, grad=0.0000), Var(v=0.2126, grad=0.0000), Var(v=-0.0557, grad=0.0000), Var(v=0.0882, grad=0.0000), Var(v=-0.0251, grad=0.0000), Var(v=0.0663, grad=0.0000), Var(v=-0.0059, grad=0.0000), Var(v=-0.1162, grad=0.0000), Var(v=-0.1728, grad=0.0000), Var(v=-0.0269, grad=0.0000), Var(v=-0.0827, grad=0.0000), Var(v=0.1016, grad=0.0000), Var(v=-0.0234, grad=0.0000), Var(v=0.1558, grad=0.0000), Var(v=0.0350, grad=0.0000), Var(v=0.0471, grad=0.0000), Var(v=-0.0257, grad=0.0000), Var(v=0.1864, grad=0.0000), Var(v=-0.0543, grad=0.0000), Var(v=0.0690, grad=0.0000), Var(v=-0.1958, grad=0.0000), Var(v=0.0809, grad=0.0000), Var(v=-0.0753, grad=0.0000), Var(v=0.0416, grad=0.0000), Var(v=0.0906, grad=0.0000), Var(v=0.0137, grad=0.0000), Var(v=0.0622, grad=0.0000), Var(v=-0.1097, grad=0.0000), Var(v=-0.1011, grad=0.0000), Var(v=-0.0965, grad=0.0000), Var(v=0.0541, grad=0.0000), Var(v=-0.1336, grad=0.0000), Var(v=0.0379, grad=0.0000), Var(v=-0.1252, grad=0.0000), Var(v=0.2318, grad=0.0000), Var(v=-0.1450, grad=0.0000), Var(v=0.0455, grad=0.0000), Var(v=-0.1550, grad=0.0000)], [Var(v=0.0071, grad=0.0000), Var(v=0.0564, grad=0.0000), Var(v=0.1125, grad=0.0000), Var(v=0.1914, grad=0.0000), Var(v=0.1085, grad=0.0000), Var(v=0.0544, grad=0.0000), Var(v=-0.0823, grad=0.0000), Var(v=0.0646, grad=0.0000), Var(v=-0.1027, grad=0.0000), Var(v=-0.0041, grad=0.0000), Var(v=0.1649, grad=0.0000), Var(v=0.0777, grad=0.0000), Var(v=0.0163, grad=0.0000), Var(v=-0.0728, grad=0.0000), Var(v=0.0588, grad=0.0000), Var(v=-0.2169, grad=0.0000), Var(v=-0.0976, grad=0.0000), Var(v=0.0695, grad=0.0000), Var(v=-0.0797, grad=0.0000), Var(v=0.1395, grad=0.0000), Var(v=-0.1646, grad=0.0000), Var(v=-0.0458, grad=0.0000), Var(v=0.0016, grad=0.0000), Var(v=0.0500, grad=0.0000), Var(v=-0.0063, grad=0.0000), Var(v=-0.2153, grad=0.0000), Var(v=-0.0832, grad=0.0000), Var(v=0.0990, grad=0.0000), Var(v=0.2612, grad=0.0000), Var(v=0.1072, grad=0.0000), Var(v=-0.1689, grad=0.0000), Var(v=0.0986, grad=0.0000), Var(v=-0.0727, grad=0.0000), Var(v=-0.0025, grad=0.0000), Var(v=-0.0150, grad=0.0000), Var(v=-0.0180, grad=0.0000), Var(v=-0.1519, grad=0.0000), Var(v=0.0670, grad=0.0000), Var(v=0.0800, grad=0.0000), Var(v=0.0521, grad=0.0000), Var(v=0.0773, grad=0.0000), Var(v=-0.1340, grad=0.0000), Var(v=-0.0166, grad=0.0000), Var(v=0.1415, grad=0.0000), Var(v=0.0025, grad=0.0000), Var(v=0.2188, grad=0.0000), Var(v=0.1866, grad=0.0000), Var(v=-0.0028, grad=0.0000), Var(v=-0.0877, grad=0.0000), Var(v=-0.0831, grad=0.0000)]] Biases: [Var(v=0.2265, grad=0.0000), Var(v=-0.0621, grad=0.0000), Var(v=0.0000, grad=0.0000), Var(v=0.0000, grad=0.0000), Var(v=-0.1577, grad=0.0000), Var(v=0.0000, grad=0.0000), Var(v=0.0017, grad=0.0000), Var(v=-0.0780, grad=0.0000), Var(v=0.0000, grad=0.0000), Var(v=0.0000, grad=0.0000), Var(v=0.0026, grad=0.0000), Var(v=-0.0024, grad=0.0000), Var(v=0.0849, grad=0.0000), Var(v=0.0040, grad=0.0000), Var(v=-0.0194, grad=0.0000), Var(v=-0.0021, grad=0.0000), Var(v=-0.0806, grad=0.0000), Var(v=0.0001, grad=0.0000), Var(v=-0.0064, grad=0.0000), Var(v=0.0656, grad=0.0000), Var(v=0.0000, grad=0.0000), Var(v=0.0000, grad=0.0000), Var(v=-0.0372, grad=0.0000), Var(v=-0.0001, grad=0.0000), Var(v=-0.0050, grad=0.0000), Var(v=-0.0008, grad=0.0000), Var(v=-0.1005, grad=0.0000), Var(v=0.1266, grad=0.0000), Var(v=0.0000, grad=0.0000), Var(v=0.0000, grad=0.0000), Var(v=0.0000, grad=0.0000), Var(v=-0.1524, grad=0.0000), Var(v=0.0000, grad=0.0000), Var(v=0.0007, grad=0.0000), Var(v=-0.0051, grad=0.0000), Var(v=0.0198, grad=0.0000), Var(v=-0.0019, grad=0.0000), Var(v=0.0456, grad=0.0000), Var(v=0.2143, grad=0.0000), Var(v=0.0000, grad=0.0000), Var(v=0.0000, grad=0.0000), Var(v=0.0000, grad=0.0000), Var(v=-0.0695, grad=0.0000), Var(v=-0.0466, grad=0.0000), Var(v=0.0358, grad=0.0000), Var(v=-0.0016, grad=0.0000), Var(v=0.0283, grad=0.0000), Var(v=0.0656, grad=0.0000), Var(v=-0.0013, grad=0.0000), Var(v=-0.0034, grad=0.0000)]\n",
      "Layer 2 \n",
      " Weights: [[Var(v=-0.2603, grad=0.0000)], [Var(v=0.0554, grad=0.0000)], [Var(v=-0.1044, grad=0.0000)], [Var(v=0.0164, grad=0.0000)], [Var(v=0.1093, grad=0.0000)], [Var(v=-0.1673, grad=0.0000)], [Var(v=-0.0680, grad=0.0000)], [Var(v=0.0791, grad=0.0000)], [Var(v=0.0633, grad=0.0000)], [Var(v=-0.0580, grad=0.0000)], [Var(v=-0.0276, grad=0.0000)], [Var(v=0.0712, grad=0.0000)], [Var(v=0.1138, grad=0.0000)], [Var(v=-0.1231, grad=0.0000)], [Var(v=-0.0215, grad=0.0000)], [Var(v=0.0692, grad=0.0000)], [Var(v=-0.0931, grad=0.0000)], [Var(v=0.0097, grad=0.0000)], [Var(v=0.0167, grad=0.0000)], [Var(v=0.1189, grad=0.0000)], [Var(v=-0.0372, grad=0.0000)], [Var(v=0.0205, grad=0.0000)], [Var(v=0.0191, grad=0.0000)], [Var(v=0.0277, grad=0.0000)], [Var(v=0.1675, grad=0.0000)], [Var(v=0.0113, grad=0.0000)], [Var(v=0.0924, grad=0.0000)], [Var(v=0.1755, grad=0.0000)], [Var(v=0.0678, grad=0.0000)], [Var(v=0.1744, grad=0.0000)], [Var(v=-0.0891, grad=0.0000)], [Var(v=0.1653, grad=0.0000)], [Var(v=0.1111, grad=0.0000)], [Var(v=-0.0306, grad=0.0000)], [Var(v=-0.0059, grad=0.0000)], [Var(v=0.0886, grad=0.0000)], [Var(v=0.0695, grad=0.0000)], [Var(v=0.0603, grad=0.0000)], [Var(v=-0.2526, grad=0.0000)], [Var(v=0.0455, grad=0.0000)], [Var(v=0.0730, grad=0.0000)], [Var(v=0.1693, grad=0.0000)], [Var(v=-0.0562, grad=0.0000)], [Var(v=0.0172, grad=0.0000)], [Var(v=0.0788, grad=0.0000)], [Var(v=0.0891, grad=0.0000)], [Var(v=-0.0511, grad=0.0000)], [Var(v=0.1127, grad=0.0000)], [Var(v=0.0620, grad=0.0000)], [Var(v=0.1150, grad=0.0000)]] Biases: [Var(v=-0.0291, grad=0.0000)]\n"
     ]
    },
    {
     "data": {
      "text/plain": [
       "[None, None, None]"
      ]
     },
     "execution_count": 30,
     "metadata": {},
     "output_type": "execute_result"
    }
   ],
   "source": [
    "print('Network before update:')\n",
    "[print('Layer', i, '\\n', NN[i]) for i in range(len(NN))] \n",
    "\n",
    "def parameters(network):\n",
    "  params = []\n",
    "  for layer in range(len(network)):\n",
    "    params += network[layer].parameters()\n",
    "  return params\n",
    "\n",
    "def update_parameters(params, learning_rate=0.01):\n",
    "  for p in params:\n",
    "    p.v -= learning_rate*p.grad\n",
    "\n",
    "def zero_gradients(params):\n",
    "  for p in params:\n",
    "    p.grad = 0.0\n",
    "\n",
    "update_parameters(parameters(NN))\n",
    "\n",
    "print('\\nNetwork after update:')\n",
    "[print('Layer', i, '\\n', NN[i]) for i in range(len(NN))] \n",
    "\n",
    "zero_gradients(parameters(NN))\n",
    "\n",
    "print('\\nNetwork after zeroing gradients:')\n",
    "[print('Layer', i, '\\n', NN[i]) for i in range(len(NN))] "
   ]
  },
  {
   "cell_type": "code",
   "execution_count": 31,
   "metadata": {
    "id": "woWYpdw6FtIO"
   },
   "outputs": [],
   "source": [
    "# Initialize an arbitrary neural network\n",
    "NN = [\n",
    "    DenseLayer(1, 8, lambda x: x.relu()),\n",
    "    DenseLayer(8, 1, lambda x: x.identity())\n",
    "]\n",
    "\n",
    "# Recommended hyper-parameters for 3-D: \n",
    "#NN = [\n",
    "#    DenseLayer(3, 16, lambda x: x.relu()),\n",
    "#    DenseLayer(16, 1, lambda x: x.identity())\n",
    "#]\n",
    "\n",
    "\n",
    "### Notice that, when we switch from tanh to relu activation, we decrease the learning rate. This is due the stability of the gradients \n",
    "## of the activation functions."
   ]
  },
  {
   "cell_type": "code",
   "execution_count": 32,
   "metadata": {
    "id": "mdqaqYBVFtIR"
   },
   "outputs": [],
   "source": [
    "# Initialize training hyperparameters\n",
    "EPOCHS = 200\n",
    "LEARN_R = 2e-3 "
   ]
  },
  {
   "cell_type": "code",
   "execution_count": 33,
   "metadata": {
    "colab": {
     "base_uri": "https://localhost:8080/"
    },
    "id": "5kfg76GMFtIW",
    "outputId": "e30cf68a-31f2-42b4-cc5e-860c297c0f04",
    "scrolled": true
   },
   "outputs": [
    {
     "name": "stdout",
     "output_type": "stream",
     "text": [
      "   0 ( 0.00%) Train loss: 109.206 \t Validation loss: 106.479\n",
      "  10 ( 5.00%) Train loss: 21.435 \t Validation loss: 15.360\n",
      "  20 (10.00%) Train loss: 14.016 \t Validation loss: 10.654\n",
      "  30 (15.00%) Train loss: 13.562 \t Validation loss: 10.286\n",
      "  40 (20.00%) Train loss: 13.080 \t Validation loss: 9.869\n",
      "  50 (25.00%) Train loss: 12.751 \t Validation loss: 9.554\n",
      "  60 (30.00%) Train loss: 12.554 \t Validation loss: 9.348\n",
      "  70 (35.00%) Train loss: 12.356 \t Validation loss: 9.153\n",
      "  80 (40.00%) Train loss: 12.204 \t Validation loss: 9.020\n",
      "  90 (45.00%) Train loss: 12.053 \t Validation loss: 8.922\n",
      " 100 (50.00%) Train loss: 11.987 \t Validation loss: 8.868\n",
      " 110 (55.00%) Train loss: 11.945 \t Validation loss: 8.852\n",
      " 120 (60.00%) Train loss: 11.919 \t Validation loss: 8.860\n",
      " 130 (65.00%) Train loss: 11.905 \t Validation loss: 8.877\n",
      " 140 (70.00%) Train loss: 11.896 \t Validation loss: 8.900\n",
      " 150 (75.00%) Train loss: 11.891 \t Validation loss: 8.920\n",
      " 160 (80.00%) Train loss: 11.887 \t Validation loss: 8.936\n",
      " 170 (85.00%) Train loss: 11.884 \t Validation loss: 8.947\n",
      " 180 (90.00%) Train loss: 11.882 \t Validation loss: 8.956\n",
      " 190 (95.00%) Train loss: 11.879 \t Validation loss: 8.962\n"
     ]
    }
   ],
   "source": [
    "train_loss = []\n",
    "val_loss = []\n",
    "\n",
    "for e in range(EPOCHS):\n",
    "     \n",
    "    # Forward pass and loss computation\n",
    "    Loss = squared_loss(y_train, forward(x_train, NN))\n",
    "\n",
    "    # Backward pass\n",
    "    Loss.backward()\n",
    "    \n",
    "    # gradient descent update\n",
    "    update_parameters(parameters(NN), LEARN_R)\n",
    "    zero_gradients(parameters(NN))\n",
    "    \n",
    "    # Training loss\n",
    "    train_loss.append(Loss.v)\n",
    "    \n",
    "    # Validation\n",
    "    Loss_validation = squared_loss(y_validation, forward(x_validation, NN))\n",
    "    val_loss.append(Loss_validation.v)\n",
    "    \n",
    "    if e%10==0:\n",
    "        print(\"{:4d}\".format(e),\n",
    "              \"({:5.2f}%)\".format(e/EPOCHS*100), \n",
    "              \"Train loss: {:4.3f} \\t Validation loss: {:4.3f}\".format(train_loss[-1], val_loss[-1]))\n",
    "        \n"
   ]
  },
  {
   "cell_type": "code",
   "execution_count": 34,
   "metadata": {
    "colab": {
     "base_uri": "https://localhost:8080/",
     "height": 265
    },
    "id": "VetyRWFwFtIY",
    "outputId": "344e490d-6d7d-455a-fa6f-88dd11eb957e"
   },
   "outputs": [
    {
     "data": {
      "image/png": "[encoded data removed]",
      "text/plain": [
       "<Figure size 640x480 with 1 Axes>"
      ]
     },
     "metadata": {},
     "output_type": "display_data"
    }
   ],
   "source": [
    "plt.plot(range(len(train_loss)), train_loss);\n",
    "plt.plot(range(len(val_loss)), val_loss);"
   ]
  },
  {
   "cell_type": "markdown",
   "metadata": {
    "id": "8OgmIrM9FtIb"
   },
   "source": [
    "# Testing\n",
    "\n",
    "We have kept the calculation of the test error separate in order to emphasize that you should not use the test set in optimization."
   ]
  },
  {
   "cell_type": "code",
   "execution_count": 35,
   "metadata": {
    "id": "HmNi7S-vFtIc"
   },
   "outputs": [],
   "source": [
    "output_test = forward(x_test, NN)"
   ]
  },
  {
   "cell_type": "code",
   "execution_count": 36,
   "metadata": {
    "colab": {
     "base_uri": "https://localhost:8080/",
     "height": 316
    },
    "id": "7mmJOTSEFtIf",
    "outputId": "e3264095-cefe-4aee-893d-bf152438e332"
   },
   "outputs": [
    {
     "name": "stdout",
     "output_type": "stream",
     "text": [
      "Test loss:  9.768\n"
     ]
    },
    {
     "data": {
      "image/png": "[encoded data removed]",
      "text/plain": [
       "<Figure size 640x480 with 1 Axes>"
      ]
     },
     "metadata": {},
     "output_type": "display_data"
    }
   ],
   "source": [
    "y_test_np = Var_to_nparray(y_test)\n",
    "plt.scatter(y_test_np, Var_to_nparray(output_test));\n",
    "plt.plot([np.min(y_test_np), np.max(y_test_np)], [np.min(y_test_np), np.max(y_test_np)], color='k');\n",
    "plt.xlabel(\"y\");\n",
    "plt.ylabel(\"$\\hat{y}$\");\n",
    "plt.title(\"Model prediction vs real in the test set, the close to the line the better\")\n",
    "plt.grid(True);\n",
    "plt.axis('equal');\n",
    "plt.tight_layout();\n",
    "\n",
    "Loss_test = squared_loss(y_test, forward(x_test, NN))\n",
    "\n",
    "print(\"Test loss:  {:4.3f}\".format(Loss_test.v))"
   ]
  },
  {
   "cell_type": "code",
   "execution_count": 37,
   "metadata": {
    "colab": {
     "base_uri": "https://localhost:8080/",
     "height": 279
    },
    "id": "ODi0WlmQFtIh",
    "outputId": "d1ab874f-0717-4987-87bf-1f0c7c8e7148"
   },
   "outputs": [
    {
     "data": {
      "image/png": "[encoded data removed]",
      "text/plain": [
       "<Figure size 640x480 with 1 Axes>"
      ]
     },
     "metadata": {},
     "output_type": "display_data"
    }
   ],
   "source": [
    "x_test_np = Var_to_nparray(x_test)\n",
    "x_train_np = Var_to_nparray(x_train)\n",
    "y_train_np = Var_to_nparray(y_train)\n",
    "if D1:\n",
    "    plt.scatter(x_train_np, y_train_np, label=\"train data\");\n",
    "    plt.scatter(x_test_np, Var_to_nparray(output_test), label=\"test prediction\");\n",
    "    plt.scatter(x_test_np, y_test_np, label=\"test data\");\n",
    "    plt.legend();\n",
    "    plt.xlabel(\"x\");\n",
    "    plt.ylabel(\"y\");\n",
    "else:\n",
    "    plt.scatter(x_train_np[:,1], y_train, label=\"train data\");\n",
    "    plt.scatter(x_test_np[:,1], Var_to_nparray(output_test), label=\"test data prediction\");\n",
    "    plt.scatter(x_test_np[:,1], y_test_np, label=\"test data\");\n",
    "    plt.legend();\n",
    "    plt.xlabel(\"x\");\n",
    "    plt.ylabel(\"y\");"
   ]
  },
  {
   "cell_type": "markdown",
   "metadata": {
    "id": "zTBAmjsAFtIk"
   },
   "source": [
    "## Exercise l) Show overfitting, underfitting and just right fitting\n",
    "\n",
    "Vary the architecture and other things to show clear signs of overfitting (=training loss significantly lower than test loss) and underfitting (=not fitting enoung to training data so that test performance is also hurt).\n",
    "\n",
    "See also if you can get a good compromise which leads to a low validation loss. \n",
    "\n",
    "For this problem do you see any big difference between validation and test loss? The answer here will probably be no. Discuss cases where it is important to keep the two separate.\n",
    "\n",
    "_Insert written answer here._\n"
   ]
  },
  {
   "cell_type": "markdown",
   "metadata": {},
   "source": [
    "### Underfitting"
   ]
  },
  {
   "cell_type": "code",
   "execution_count": 38,
   "metadata": {
    "id": "tQZCn2dxFtIl"
   },
   "outputs": [
    {
     "name": "stdout",
     "output_type": "stream",
     "text": [
      "Test loss:  15.985\n"
     ]
    },
    {
     "data": {
      "image/png": "[encoded data removed]",
      "text/plain": [
       "<Figure size 640x480 with 1 Axes>"
      ]
     },
     "metadata": {},
     "output_type": "display_data"
    }
   ],
   "source": [
    "# Insert your code for getting overfitting, underfitting and just right fitting\n",
    "\n",
    "NN = [\n",
    "    DenseLayer(1, 8, lambda x: x.relu()),\n",
    "    DenseLayer(8, 1, lambda x: x.identity())\n",
    "]\n",
    "\n",
    "EPOCHS = 10\n",
    "LEARN_R = 2e-3 \n",
    "\n",
    "train_loss = []\n",
    "val_loss = []\n",
    "\n",
    "for e in range(EPOCHS):\n",
    "     \n",
    "    # Forward pass and loss computation\n",
    "    Loss = squared_loss(y_train, forward(x_train, NN))\n",
    "\n",
    "    # Backward pass\n",
    "    Loss.backward()\n",
    "    \n",
    "    # gradient descent update\n",
    "    update_parameters(parameters(NN), LEARN_R)\n",
    "    zero_gradients(parameters(NN))\n",
    "    \n",
    "    # Training loss\n",
    "    train_loss.append(Loss.v)\n",
    "    \n",
    "    # Validation\n",
    "    Loss_validation = squared_loss(y_validation, forward(x_validation, NN))\n",
    "    val_loss.append(Loss_validation.v)\n",
    "    \n",
    "    # if e%10==0:\n",
    "    #     print(\"{:4d}\".format(e),\n",
    "    #           \"({:5.2f}%)\".format(e/EPOCHS*100), \n",
    "    #           \"Train loss: {:4.3f} \\t Validation loss: {:4.3f}\".format(train_loss[-1], val_loss[-1]))\n",
    "        \n",
    "plt.plot(range(len(train_loss)), train_loss);\n",
    "plt.plot(range(len(val_loss)), val_loss);\n",
    "\n",
    "output_test = forward(x_test, NN)\n",
    "\n",
    "y_test_np = Var_to_nparray(y_test)\n",
    "plt.scatter(y_test_np, Var_to_nparray(output_test));\n",
    "plt.plot([np.min(y_test_np), np.max(y_test_np)], [np.min(y_test_np), np.max(y_test_np)], color='k');\n",
    "plt.xlabel(\"y\");\n",
    "plt.ylabel(\"$\\hat{y}$\");\n",
    "plt.title(\"Model prediction vs real in the test set, the close to the line the better\")\n",
    "plt.grid(True);\n",
    "plt.axis('equal');\n",
    "plt.tight_layout();\n",
    "\n",
    "Loss_test = squared_loss(y_test, forward(x_test, NN))\n",
    "\n",
    "print(\"Test loss:  {:4.3f}\".format(Loss_test.v))\n",
    "\n",
    "x_test_np = Var_to_nparray(x_test)\n",
    "x_train_np = Var_to_nparray(x_train)\n",
    "y_train_np = Var_to_nparray(y_train)\n",
    "if D1:\n",
    "    plt.scatter(x_train_np, y_train_np, label=\"train data\");\n",
    "    plt.scatter(x_test_np, Var_to_nparray(output_test), label=\"test prediction\");\n",
    "    plt.scatter(x_test_np, y_test_np, label=\"test data\");\n",
    "    plt.legend();\n",
    "    plt.xlabel(\"x\");\n",
    "    plt.ylabel(\"y\");\n",
    "else:\n",
    "    plt.scatter(x_train_np[:,1], y_train, label=\"train data\");\n",
    "    plt.scatter(x_test_np[:,1], Var_to_nparray(output_test), label=\"test data prediction\");\n",
    "    plt.scatter(x_test_np[:,1], y_test_np, label=\"test data\");\n",
    "    plt.legend();\n",
    "    plt.xlabel(\"x\");\n",
    "    plt.ylabel(\"y\");"
   ]
  },
  {
   "cell_type": "markdown",
   "metadata": {},
   "source": [
    "### Overfitting"
   ]
  },
  {
   "cell_type": "code",
   "execution_count": 42,
   "metadata": {},
   "outputs": [
    {
     "name": "stdout",
     "output_type": "stream",
     "text": [
      "Test loss:  9.482\n"
     ]
    },
    {
     "data": {
      "image/png": "[encoded data removed]",
      "text/plain": [
       "<Figure size 640x480 with 1 Axes>"
      ]
     },
     "metadata": {},
     "output_type": "display_data"
    }
   ],
   "source": [
    "# Insert your code for getting overfitting, underfitting and just right fitting\n",
    "\n",
    "NN = [\n",
    "    DenseLayer(1, 8, lambda x: x.relu()),\n",
    "    DenseLayer(8, 1, lambda x: x.identity())\n",
    "]\n",
    "\n",
    "EPOCHS = 1000\n",
    "LEARN_R = 2e-3 \n",
    "\n",
    "train_loss = []\n",
    "val_loss = []\n",
    "\n",
    "for e in range(EPOCHS):\n",
    "     \n",
    "    # Forward pass and loss computation\n",
    "    Loss = squared_loss(y_train, forward(x_train, NN))\n",
    "\n",
    "    # Backward pass\n",
    "    Loss.backward()\n",
    "    \n",
    "    # gradient descent update\n",
    "    update_parameters(parameters(NN), LEARN_R)\n",
    "    zero_gradients(parameters(NN))\n",
    "    \n",
    "    # Training loss\n",
    "    train_loss.append(Loss.v)\n",
    "    \n",
    "    # Validation\n",
    "    Loss_validation = squared_loss(y_validation, forward(x_validation, NN))\n",
    "    val_loss.append(Loss_validation.v)\n",
    "    \n",
    "    # if e%10==0:\n",
    "    #     print(\"{:4d}\".format(e),\n",
    "    #           \"({:5.2f}%)\".format(e/EPOCHS*100), \n",
    "    #           \"Train loss: {:4.3f} \\t Validation loss: {:4.3f}\".format(train_loss[-1], val_loss[-1]))\n",
    "        \n",
    "plt.plot(range(len(train_loss)), train_loss);\n",
    "plt.plot(range(len(val_loss)), val_loss);\n",
    "\n",
    "output_test = forward(x_test, NN)\n",
    "\n",
    "y_test_np = Var_to_nparray(y_test)\n",
    "plt.scatter(y_test_np, Var_to_nparray(output_test));\n",
    "plt.plot([np.min(y_test_np), np.max(y_test_np)], [np.min(y_test_np), np.max(y_test_np)], color='k');\n",
    "plt.xlabel(\"y\");\n",
    "plt.ylabel(\"$\\hat{y}$\");\n",
    "plt.title(\"Model prediction vs real in the test set, the close to the line the better\")\n",
    "plt.grid(True);\n",
    "plt.axis('equal');\n",
    "plt.tight_layout();\n",
    "\n",
    "Loss_test = squared_loss(y_test, forward(x_test, NN))\n",
    "\n",
    "print(\"Test loss:  {:4.3f}\".format(Loss_test.v))\n",
    "\n",
    "x_test_np = Var_to_nparray(x_test)\n",
    "x_train_np = Var_to_nparray(x_train)\n",
    "y_train_np = Var_to_nparray(y_train)\n",
    "if D1:\n",
    "    plt.scatter(x_train_np, y_train_np, label=\"train data\");\n",
    "    plt.scatter(x_test_np, Var_to_nparray(output_test), label=\"test prediction\");\n",
    "    plt.scatter(x_test_np, y_test_np, label=\"test data\");\n",
    "    plt.legend();\n",
    "    plt.xlabel(\"x\");\n",
    "    plt.ylabel(\"y\");\n",
    "else:\n",
    "    plt.scatter(x_train_np[:,1], y_train, label=\"train data\");\n",
    "    plt.scatter(x_test_np[:,1], Var_to_nparray(output_test), label=\"test data prediction\");\n",
    "    plt.scatter(x_test_np[:,1], y_test_np, label=\"test data\");\n",
    "    plt.legend();\n",
    "    plt.xlabel(\"x\");\n",
    "    plt.ylabel(\"y\");"
   ]
  },
  {
   "cell_type": "markdown",
   "metadata": {
    "id": "fYPZP-eTFtIo"
   },
   "source": [
    "# Next steps - classification\n",
    "\n",
    "It is straight forward to extend what we have done to classification. \n",
    "\n",
    "For numerical stability it is better to make softmax and cross-entropy as one function so we write the cross entropy loss as a function of the logits we talked about last week. \n",
    "\n",
    "Next week we will see how to perform classification in PyTorch."
   ]
  },
  {
   "cell_type": "markdown",
   "metadata": {
    "id": "qsVPul3QFtIo"
   },
   "source": [
    "## Exercise m) optional - Implement backpropagation for classification\n",
    "\n",
    "Should be possible with very few lines of code. :-)"
   ]
  },
  {
   "cell_type": "code",
   "execution_count": 39,
   "metadata": {
    "id": "oC8QrI2tFtIp"
   },
   "outputs": [],
   "source": [
    "# Just add code."
   ]
  },
  {
   "cell_type": "markdown",
   "metadata": {
    "id": "APqhJv3tta1O"
   },
   "source": [
    "## Exercise n) optional - Introduce a NeuralNetwork class\n",
    "\n",
    "The functions we applied on the neural network (parameters, update_parameters and zero_gradients) can more naturally be included as methods in a NeuralNetwork class. Make such a class and modify the code to use it. "
   ]
  },
  {
   "cell_type": "code",
   "execution_count": 40,
   "metadata": {
    "id": "Dqfnor1ouMLq"
   },
   "outputs": [],
   "source": [
    "# just add some code"
   ]
  }
 ],
 "metadata": {
  "anaconda-cloud": {},
  "colab": {
   "collapsed_sections": [
    "U4057_ljNvWB",
    "p_8n_SKnIW2F",
    "oLrGJytZFtGm",
    "jpIZPBpNI0pO",
    "_79HOAXrFtHK",
    "mqeyab9qFtGs",
    "-XyXBD37FtHk",
    "SrwSJ2UWFtHu",
    "zTBAmjsAFtIk",
    "qsVPul3QFtIo",
    "APqhJv3tta1O"
   ],
   "name": "2.1-EXE-FNN-AutoDif-Nanograd.ipynb",
   "provenance": []
  },
  "kernelspec": {
   "display_name": "Python 3",
   "language": "python",
   "name": "python3"
  },
  "language_info": {
   "codemirror_mode": {
    "name": "ipython",
    "version": 3
   },
   "file_extension": ".py",
   "mimetype": "text/x-python",
   "name": "python",
   "nbconvert_exporter": "python",
   "pygments_lexer": "ipython3",
   "version": "3.8.13"
  }
 },
 "nbformat": 4,
 "nbformat_minor": 1
}
