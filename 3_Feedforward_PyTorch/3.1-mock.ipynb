{
 "cells": [
  {
   "cell_type": "markdown",
   "metadata": {},
   "source": [
    "# Getting Started\n",
    "\n",
    "## 1. Tensors"
   ]
  },
  {
   "cell_type": "code",
   "execution_count": 2,
   "metadata": {},
   "outputs": [],
   "source": [
    "import torch"
   ]
  },
  {
   "cell_type": "markdown",
   "metadata": {},
   "source": [
    "Construct an uninitialized matrix and a random initialized matrix"
   ]
  },
  {
   "cell_type": "code",
   "execution_count": 3,
   "metadata": {},
   "outputs": [
    {
     "name": "stdout",
     "output_type": "stream",
     "text": [
      "tensor([[0., 0., 0.],\n",
      "        [0., 0., 0.],\n",
      "        [0., 0., 0.],\n",
      "        [0., 0., 0.],\n",
      "        [0., 0., 0.]])\n",
      "tensor([[0.1366, 0.7759, 0.7071],\n",
      "        [0.6059, 0.0671, 0.3783],\n",
      "        [0.0293, 0.1983, 0.2193],\n",
      "        [0.1793, 0.4910, 0.9586],\n",
      "        [0.8785, 0.1839, 0.7517]])\n"
     ]
    }
   ],
   "source": [
    "x = torch.Tensor(5, 3)\n",
    "print(x)\n",
    "x = torch.rand(5, 3)\n",
    "print(x)"
   ]
  },
  {
   "cell_type": "markdown",
   "metadata": {},
   "source": [
    "Size and indexing about the matrix"
   ]
  },
  {
   "cell_type": "code",
   "execution_count": 4,
   "metadata": {},
   "outputs": [
    {
     "name": "stdout",
     "output_type": "stream",
     "text": [
      "torch.Size([5, 3])\n",
      "tensor([[2.0000, 2.0000, 2.0000],\n",
      "        [0.6059, 0.0671, 0.3783],\n",
      "        [0.0293, 0.1983, 0.2193],\n",
      "        [0.1793, 0.4910, 0.9586],\n",
      "        [0.8785, 0.1839, 0.7517]])\n"
     ]
    }
   ],
   "source": [
    "print(x.size())\n",
    "x[:][0] = 2\n",
    "print(x)"
   ]
  },
  {
   "cell_type": "markdown",
   "metadata": {},
   "source": [
    "## 2. Operations\n",
    "\n",
    "### 2.1 Addition"
   ]
  },
  {
   "cell_type": "code",
   "execution_count": 9,
   "metadata": {},
   "outputs": [
    {
     "name": "stdout",
     "output_type": "stream",
     "text": [
      "tensor([[0.7793, 0.4327, 0.4137],\n",
      "        [0.4840, 0.9560, 0.9287],\n",
      "        [0.7142, 0.8884, 0.4105],\n",
      "        [0.5911, 0.2288, 0.6481],\n",
      "        [0.5330, 0.9034, 0.1341]])\n",
      "tensor([[0.2196, 0.7517, 0.3657],\n",
      "        [0.0820, 0.1446, 0.7733],\n",
      "        [0.9337, 0.9032, 0.3397],\n",
      "        [0.6379, 0.4340, 0.2165],\n",
      "        [0.9223, 0.3953, 0.5870]])\n",
      "tensor([[0.9989, 1.1843, 0.7794],\n",
      "        [0.5660, 1.1005, 1.7019],\n",
      "        [1.6479, 1.7917, 0.7502],\n",
      "        [1.2290, 0.6628, 0.8646],\n",
      "        [1.4553, 1.2987, 0.7211]])\n",
      "tensor([[0.9989, 1.1843, 0.7794],\n",
      "        [0.5660, 1.1005, 1.7019],\n",
      "        [1.6479, 1.7917, 0.7502],\n",
      "        [1.2290, 0.6628, 0.8646],\n",
      "        [1.4553, 1.2987, 0.7211]])\n",
      "tensor([[0.9989, 1.1843, 0.7794],\n",
      "        [0.5660, 1.1005, 1.7019],\n",
      "        [1.6479, 1.7917, 0.7502],\n",
      "        [1.2290, 0.6628, 0.8646],\n",
      "        [1.4553, 1.2987, 0.7211]])\n",
      "tensor([0.4327, 0.9560, 0.8884, 0.2288, 0.9034])\n"
     ]
    }
   ],
   "source": [
    "x = torch.rand(5, 3)\n",
    "print(x)\n",
    "y = torch.rand(5, 3)\n",
    "print(y)\n",
    "print(x + y)\n",
    "print(torch.add(x, y))\n",
    "z = torch.Tensor(5, 3)\n",
    "torch.add(x, y, out=z)\n",
    "# Inplace Addition \n",
    "y.add_(x)\n",
    "print(y)\n",
    "print(x[:, 1])"
   ]
  }
 ],
 "metadata": {
  "kernelspec": {
   "display_name": "base",
   "language": "python",
   "name": "python3"
  },
  "language_info": {
   "codemirror_mode": {
    "name": "ipython",
    "version": 3
   },
   "file_extension": ".py",
   "mimetype": "text/x-python",
   "name": "python",
   "nbconvert_exporter": "python",
   "pygments_lexer": "ipython3",
   "version": "3.8.13"
  },
  "orig_nbformat": 4
 },
 "nbformat": 4,
 "nbformat_minor": 2
}
